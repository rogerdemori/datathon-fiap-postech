{
  "cells": [
    {
      "cell_type": "markdown",
      "metadata": {
        "id": "USE4J4zQtSGl"
      },
      "source": [
        "# Datathon Pós-Tech Data Analytics"
      ]
    },
    {
      "cell_type": "markdown",
      "metadata": {
        "id": "T5vZFHnZtSGm"
      },
      "source": [
        "## Importando as bibliotecas e trazendo a Base de Dados"
      ]
    },
    {
      "cell_type": "code",
      "execution_count": 1,
      "metadata": {
        "id": "EI5dB_zQtSGm"
      },
      "outputs": [],
      "source": [
        "import pandas as pd\n",
        "import numpy as np"
      ]
    },
    {
      "cell_type": "code",
      "execution_count": 2,
      "metadata": {
        "colab": {
          "base_uri": "https://localhost:8080/",
          "height": 443
        },
        "id": "e2n9Q6ovtSGm",
        "outputId": "d7fcbe7d-70bb-4e1b-90ea-d870d7faf5c9"
      },
      "outputs": [
        {
          "output_type": "execute_result",
          "data": {
            "text/plain": [
              "        INSTITUICAO_ENSINO_ALUNO_2020 IDADE_ALUNO_2020 ANOS_PM_2020  \\\n",
              "NOME                                                                  \n",
              "ALUNO-1                Escola Pública               11            2   \n",
              "ALUNO-2                           NaN              NaN          NaN   \n",
              "ALUNO-3                Escola Pública               12            2   \n",
              "ALUNO-4                Escola Pública               10            2   \n",
              "ALUNO-5                Escola Pública               10            1   \n",
              "\n",
              "        FASE_TURMA_2020 PONTO_VIRADA_2020          INDE_2020  \\\n",
              "NOME                                                           \n",
              "ALUNO-1              2H               Não           7.883752   \n",
              "ALUNO-2             NaN               NaN                NaN   \n",
              "ALUNO-3              3H               Não  7.856389666666666   \n",
              "ALUNO-4              1D               Não           5.076252   \n",
              "ALUNO-5              2M               Não           8.077085   \n",
              "\n",
              "        INDE_CONCEITO_2020 PEDRA_2020  \\\n",
              "NOME                                    \n",
              "ALUNO-1                  B   Ametista   \n",
              "ALUNO-2                NaN        NaN   \n",
              "ALUNO-3                  B   Ametista   \n",
              "ALUNO-4                  D    Quartzo   \n",
              "ALUNO-5                  B   Ametista   \n",
              "\n",
              "                                         DESTAQUE_IEG_2020  \\\n",
              "NOME                                                         \n",
              "ALUNO-1  Seu destaque em 2020: A sua boa entrega das li...   \n",
              "ALUNO-2                                                NaN   \n",
              "ALUNO-3  Seu destaque em 2020: A sua boa entrega das li...   \n",
              "ALUNO-4  Ponto a melhorar em 2021: Melhorar a sua entre...   \n",
              "ALUNO-5  Seu destaque em 2020: A sua boa entrega das li...   \n",
              "\n",
              "                                         DESTAQUE_IDA_2020  ...  IPP_2022  \\\n",
              "NOME                                                        ...             \n",
              "ALUNO-1  Ponto a melhorar em 2021: Empenhar-se mais nas...  ...       NaN   \n",
              "ALUNO-2                                                NaN  ...  5.625000   \n",
              "ALUNO-3  Ponto a melhorar em 2021: Empenhar-se mais nas...  ...       NaN   \n",
              "ALUNO-4  Ponto a melhorar em 2021: Empenhar-se mais nas...  ...  6.250000   \n",
              "ALUNO-5  Seu destaque em 2020: As suas boas notas na Pa...  ...  6.458333   \n",
              "\n",
              "                  REC_AVA_1_2022         REC_AVA_2_2022  \\\n",
              "NOME                                                      \n",
              "ALUNO-1                      NaN                    NaN   \n",
              "ALUNO-2  Mantido na Fase + Bolsa  Mantido na Fase atual   \n",
              "ALUNO-3                      NaN                    NaN   \n",
              "ALUNO-4        Promovido de Fase  Mantido na Fase atual   \n",
              "ALUNO-5    Mantido na Fase atual      Promovido de Fase   \n",
              "\n",
              "                REC_AVA_3_2022 REC_AVA_4_2022 INDICADO_BOLSA_2022  \\\n",
              "NOME                                                                \n",
              "ALUNO-1                    NaN            NaN                 NaN   \n",
              "ALUNO-2                    NaN            NaN                 Sim   \n",
              "ALUNO-3                    NaN            NaN                 NaN   \n",
              "ALUNO-4      Promovido de Fase            NaN                 Não   \n",
              "ALUNO-5  Mantido na Fase atual            NaN                 Não   \n",
              "\n",
              "        PONTO_VIRADA_2022  IPV_2022  IAN_2022      NIVEL_IDEAL_2022  \n",
              "NOME                                                                 \n",
              "ALUNO-1               NaN       NaN       NaN                   NaN  \n",
              "ALUNO-2               Não  7.916665       5.0  Fase 2 (5º e 6º ano)  \n",
              "ALUNO-3               NaN       NaN       NaN                   NaN  \n",
              "ALUNO-4               Não  8.055553       5.0  Fase 3 (7º e 8º ano)  \n",
              "ALUNO-5               Não  7.833337       5.0  Fase 3 (7º e 8º ano)  \n",
              "\n",
              "[5 rows x 68 columns]"
            ],
            "text/html": [
              "\n",
              "  <div id=\"df-4cc4ee63-7c65-4a6f-9c61-d060ecf7bcc9\" class=\"colab-df-container\">\n",
              "    <div>\n",
              "<style scoped>\n",
              "    .dataframe tbody tr th:only-of-type {\n",
              "        vertical-align: middle;\n",
              "    }\n",
              "\n",
              "    .dataframe tbody tr th {\n",
              "        vertical-align: top;\n",
              "    }\n",
              "\n",
              "    .dataframe thead th {\n",
              "        text-align: right;\n",
              "    }\n",
              "</style>\n",
              "<table border=\"1\" class=\"dataframe\">\n",
              "  <thead>\n",
              "    <tr style=\"text-align: right;\">\n",
              "      <th></th>\n",
              "      <th>INSTITUICAO_ENSINO_ALUNO_2020</th>\n",
              "      <th>IDADE_ALUNO_2020</th>\n",
              "      <th>ANOS_PM_2020</th>\n",
              "      <th>FASE_TURMA_2020</th>\n",
              "      <th>PONTO_VIRADA_2020</th>\n",
              "      <th>INDE_2020</th>\n",
              "      <th>INDE_CONCEITO_2020</th>\n",
              "      <th>PEDRA_2020</th>\n",
              "      <th>DESTAQUE_IEG_2020</th>\n",
              "      <th>DESTAQUE_IDA_2020</th>\n",
              "      <th>...</th>\n",
              "      <th>IPP_2022</th>\n",
              "      <th>REC_AVA_1_2022</th>\n",
              "      <th>REC_AVA_2_2022</th>\n",
              "      <th>REC_AVA_3_2022</th>\n",
              "      <th>REC_AVA_4_2022</th>\n",
              "      <th>INDICADO_BOLSA_2022</th>\n",
              "      <th>PONTO_VIRADA_2022</th>\n",
              "      <th>IPV_2022</th>\n",
              "      <th>IAN_2022</th>\n",
              "      <th>NIVEL_IDEAL_2022</th>\n",
              "    </tr>\n",
              "    <tr>\n",
              "      <th>NOME</th>\n",
              "      <th></th>\n",
              "      <th></th>\n",
              "      <th></th>\n",
              "      <th></th>\n",
              "      <th></th>\n",
              "      <th></th>\n",
              "      <th></th>\n",
              "      <th></th>\n",
              "      <th></th>\n",
              "      <th></th>\n",
              "      <th></th>\n",
              "      <th></th>\n",
              "      <th></th>\n",
              "      <th></th>\n",
              "      <th></th>\n",
              "      <th></th>\n",
              "      <th></th>\n",
              "      <th></th>\n",
              "      <th></th>\n",
              "      <th></th>\n",
              "      <th></th>\n",
              "    </tr>\n",
              "  </thead>\n",
              "  <tbody>\n",
              "    <tr>\n",
              "      <th>ALUNO-1</th>\n",
              "      <td>Escola Pública</td>\n",
              "      <td>11</td>\n",
              "      <td>2</td>\n",
              "      <td>2H</td>\n",
              "      <td>Não</td>\n",
              "      <td>7.883752</td>\n",
              "      <td>B</td>\n",
              "      <td>Ametista</td>\n",
              "      <td>Seu destaque em 2020: A sua boa entrega das li...</td>\n",
              "      <td>Ponto a melhorar em 2021: Empenhar-se mais nas...</td>\n",
              "      <td>...</td>\n",
              "      <td>NaN</td>\n",
              "      <td>NaN</td>\n",
              "      <td>NaN</td>\n",
              "      <td>NaN</td>\n",
              "      <td>NaN</td>\n",
              "      <td>NaN</td>\n",
              "      <td>NaN</td>\n",
              "      <td>NaN</td>\n",
              "      <td>NaN</td>\n",
              "      <td>NaN</td>\n",
              "    </tr>\n",
              "    <tr>\n",
              "      <th>ALUNO-2</th>\n",
              "      <td>NaN</td>\n",
              "      <td>NaN</td>\n",
              "      <td>NaN</td>\n",
              "      <td>NaN</td>\n",
              "      <td>NaN</td>\n",
              "      <td>NaN</td>\n",
              "      <td>NaN</td>\n",
              "      <td>NaN</td>\n",
              "      <td>NaN</td>\n",
              "      <td>NaN</td>\n",
              "      <td>...</td>\n",
              "      <td>5.625000</td>\n",
              "      <td>Mantido na Fase + Bolsa</td>\n",
              "      <td>Mantido na Fase atual</td>\n",
              "      <td>NaN</td>\n",
              "      <td>NaN</td>\n",
              "      <td>Sim</td>\n",
              "      <td>Não</td>\n",
              "      <td>7.916665</td>\n",
              "      <td>5.0</td>\n",
              "      <td>Fase 2 (5º e 6º ano)</td>\n",
              "    </tr>\n",
              "    <tr>\n",
              "      <th>ALUNO-3</th>\n",
              "      <td>Escola Pública</td>\n",
              "      <td>12</td>\n",
              "      <td>2</td>\n",
              "      <td>3H</td>\n",
              "      <td>Não</td>\n",
              "      <td>7.856389666666666</td>\n",
              "      <td>B</td>\n",
              "      <td>Ametista</td>\n",
              "      <td>Seu destaque em 2020: A sua boa entrega das li...</td>\n",
              "      <td>Ponto a melhorar em 2021: Empenhar-se mais nas...</td>\n",
              "      <td>...</td>\n",
              "      <td>NaN</td>\n",
              "      <td>NaN</td>\n",
              "      <td>NaN</td>\n",
              "      <td>NaN</td>\n",
              "      <td>NaN</td>\n",
              "      <td>NaN</td>\n",
              "      <td>NaN</td>\n",
              "      <td>NaN</td>\n",
              "      <td>NaN</td>\n",
              "      <td>NaN</td>\n",
              "    </tr>\n",
              "    <tr>\n",
              "      <th>ALUNO-4</th>\n",
              "      <td>Escola Pública</td>\n",
              "      <td>10</td>\n",
              "      <td>2</td>\n",
              "      <td>1D</td>\n",
              "      <td>Não</td>\n",
              "      <td>5.076252</td>\n",
              "      <td>D</td>\n",
              "      <td>Quartzo</td>\n",
              "      <td>Ponto a melhorar em 2021: Melhorar a sua entre...</td>\n",
              "      <td>Ponto a melhorar em 2021: Empenhar-se mais nas...</td>\n",
              "      <td>...</td>\n",
              "      <td>6.250000</td>\n",
              "      <td>Promovido de Fase</td>\n",
              "      <td>Mantido na Fase atual</td>\n",
              "      <td>Promovido de Fase</td>\n",
              "      <td>NaN</td>\n",
              "      <td>Não</td>\n",
              "      <td>Não</td>\n",
              "      <td>8.055553</td>\n",
              "      <td>5.0</td>\n",
              "      <td>Fase 3 (7º e 8º ano)</td>\n",
              "    </tr>\n",
              "    <tr>\n",
              "      <th>ALUNO-5</th>\n",
              "      <td>Escola Pública</td>\n",
              "      <td>10</td>\n",
              "      <td>1</td>\n",
              "      <td>2M</td>\n",
              "      <td>Não</td>\n",
              "      <td>8.077085</td>\n",
              "      <td>B</td>\n",
              "      <td>Ametista</td>\n",
              "      <td>Seu destaque em 2020: A sua boa entrega das li...</td>\n",
              "      <td>Seu destaque em 2020: As suas boas notas na Pa...</td>\n",
              "      <td>...</td>\n",
              "      <td>6.458333</td>\n",
              "      <td>Mantido na Fase atual</td>\n",
              "      <td>Promovido de Fase</td>\n",
              "      <td>Mantido na Fase atual</td>\n",
              "      <td>NaN</td>\n",
              "      <td>Não</td>\n",
              "      <td>Não</td>\n",
              "      <td>7.833337</td>\n",
              "      <td>5.0</td>\n",
              "      <td>Fase 3 (7º e 8º ano)</td>\n",
              "    </tr>\n",
              "  </tbody>\n",
              "</table>\n",
              "<p>5 rows × 68 columns</p>\n",
              "</div>\n",
              "    <div class=\"colab-df-buttons\">\n",
              "\n",
              "  <div class=\"colab-df-container\">\n",
              "    <button class=\"colab-df-convert\" onclick=\"convertToInteractive('df-4cc4ee63-7c65-4a6f-9c61-d060ecf7bcc9')\"\n",
              "            title=\"Convert this dataframe to an interactive table.\"\n",
              "            style=\"display:none;\">\n",
              "\n",
              "  <svg xmlns=\"http://www.w3.org/2000/svg\" height=\"24px\" viewBox=\"0 -960 960 960\">\n",
              "    <path d=\"M120-120v-720h720v720H120Zm60-500h600v-160H180v160Zm220 220h160v-160H400v160Zm0 220h160v-160H400v160ZM180-400h160v-160H180v160Zm440 0h160v-160H620v160ZM180-180h160v-160H180v160Zm440 0h160v-160H620v160Z\"/>\n",
              "  </svg>\n",
              "    </button>\n",
              "\n",
              "  <style>\n",
              "    .colab-df-container {\n",
              "      display:flex;\n",
              "      gap: 12px;\n",
              "    }\n",
              "\n",
              "    .colab-df-convert {\n",
              "      background-color: #E8F0FE;\n",
              "      border: none;\n",
              "      border-radius: 50%;\n",
              "      cursor: pointer;\n",
              "      display: none;\n",
              "      fill: #1967D2;\n",
              "      height: 32px;\n",
              "      padding: 0 0 0 0;\n",
              "      width: 32px;\n",
              "    }\n",
              "\n",
              "    .colab-df-convert:hover {\n",
              "      background-color: #E2EBFA;\n",
              "      box-shadow: 0px 1px 2px rgba(60, 64, 67, 0.3), 0px 1px 3px 1px rgba(60, 64, 67, 0.15);\n",
              "      fill: #174EA6;\n",
              "    }\n",
              "\n",
              "    .colab-df-buttons div {\n",
              "      margin-bottom: 4px;\n",
              "    }\n",
              "\n",
              "    [theme=dark] .colab-df-convert {\n",
              "      background-color: #3B4455;\n",
              "      fill: #D2E3FC;\n",
              "    }\n",
              "\n",
              "    [theme=dark] .colab-df-convert:hover {\n",
              "      background-color: #434B5C;\n",
              "      box-shadow: 0px 1px 3px 1px rgba(0, 0, 0, 0.15);\n",
              "      filter: drop-shadow(0px 1px 2px rgba(0, 0, 0, 0.3));\n",
              "      fill: #FFFFFF;\n",
              "    }\n",
              "  </style>\n",
              "\n",
              "    <script>\n",
              "      const buttonEl =\n",
              "        document.querySelector('#df-4cc4ee63-7c65-4a6f-9c61-d060ecf7bcc9 button.colab-df-convert');\n",
              "      buttonEl.style.display =\n",
              "        google.colab.kernel.accessAllowed ? 'block' : 'none';\n",
              "\n",
              "      async function convertToInteractive(key) {\n",
              "        const element = document.querySelector('#df-4cc4ee63-7c65-4a6f-9c61-d060ecf7bcc9');\n",
              "        const dataTable =\n",
              "          await google.colab.kernel.invokeFunction('convertToInteractive',\n",
              "                                                    [key], {});\n",
              "        if (!dataTable) return;\n",
              "\n",
              "        const docLinkHtml = 'Like what you see? Visit the ' +\n",
              "          '<a target=\"_blank\" href=https://colab.research.google.com/notebooks/data_table.ipynb>data table notebook</a>'\n",
              "          + ' to learn more about interactive tables.';\n",
              "        element.innerHTML = '';\n",
              "        dataTable['output_type'] = 'display_data';\n",
              "        await google.colab.output.renderOutput(dataTable, element);\n",
              "        const docLink = document.createElement('div');\n",
              "        docLink.innerHTML = docLinkHtml;\n",
              "        element.appendChild(docLink);\n",
              "      }\n",
              "    </script>\n",
              "  </div>\n",
              "\n",
              "\n",
              "<div id=\"df-0d2a8ab0-f2c5-44e2-9ec5-7e584ca7c9f7\">\n",
              "  <button class=\"colab-df-quickchart\" onclick=\"quickchart('df-0d2a8ab0-f2c5-44e2-9ec5-7e584ca7c9f7')\"\n",
              "            title=\"Suggest charts\"\n",
              "            style=\"display:none;\">\n",
              "\n",
              "<svg xmlns=\"http://www.w3.org/2000/svg\" height=\"24px\"viewBox=\"0 0 24 24\"\n",
              "     width=\"24px\">\n",
              "    <g>\n",
              "        <path d=\"M19 3H5c-1.1 0-2 .9-2 2v14c0 1.1.9 2 2 2h14c1.1 0 2-.9 2-2V5c0-1.1-.9-2-2-2zM9 17H7v-7h2v7zm4 0h-2V7h2v10zm4 0h-2v-4h2v4z\"/>\n",
              "    </g>\n",
              "</svg>\n",
              "  </button>\n",
              "\n",
              "<style>\n",
              "  .colab-df-quickchart {\n",
              "      --bg-color: #E8F0FE;\n",
              "      --fill-color: #1967D2;\n",
              "      --hover-bg-color: #E2EBFA;\n",
              "      --hover-fill-color: #174EA6;\n",
              "      --disabled-fill-color: #AAA;\n",
              "      --disabled-bg-color: #DDD;\n",
              "  }\n",
              "\n",
              "  [theme=dark] .colab-df-quickchart {\n",
              "      --bg-color: #3B4455;\n",
              "      --fill-color: #D2E3FC;\n",
              "      --hover-bg-color: #434B5C;\n",
              "      --hover-fill-color: #FFFFFF;\n",
              "      --disabled-bg-color: #3B4455;\n",
              "      --disabled-fill-color: #666;\n",
              "  }\n",
              "\n",
              "  .colab-df-quickchart {\n",
              "    background-color: var(--bg-color);\n",
              "    border: none;\n",
              "    border-radius: 50%;\n",
              "    cursor: pointer;\n",
              "    display: none;\n",
              "    fill: var(--fill-color);\n",
              "    height: 32px;\n",
              "    padding: 0;\n",
              "    width: 32px;\n",
              "  }\n",
              "\n",
              "  .colab-df-quickchart:hover {\n",
              "    background-color: var(--hover-bg-color);\n",
              "    box-shadow: 0 1px 2px rgba(60, 64, 67, 0.3), 0 1px 3px 1px rgba(60, 64, 67, 0.15);\n",
              "    fill: var(--button-hover-fill-color);\n",
              "  }\n",
              "\n",
              "  .colab-df-quickchart-complete:disabled,\n",
              "  .colab-df-quickchart-complete:disabled:hover {\n",
              "    background-color: var(--disabled-bg-color);\n",
              "    fill: var(--disabled-fill-color);\n",
              "    box-shadow: none;\n",
              "  }\n",
              "\n",
              "  .colab-df-spinner {\n",
              "    border: 2px solid var(--fill-color);\n",
              "    border-color: transparent;\n",
              "    border-bottom-color: var(--fill-color);\n",
              "    animation:\n",
              "      spin 1s steps(1) infinite;\n",
              "  }\n",
              "\n",
              "  @keyframes spin {\n",
              "    0% {\n",
              "      border-color: transparent;\n",
              "      border-bottom-color: var(--fill-color);\n",
              "      border-left-color: var(--fill-color);\n",
              "    }\n",
              "    20% {\n",
              "      border-color: transparent;\n",
              "      border-left-color: var(--fill-color);\n",
              "      border-top-color: var(--fill-color);\n",
              "    }\n",
              "    30% {\n",
              "      border-color: transparent;\n",
              "      border-left-color: var(--fill-color);\n",
              "      border-top-color: var(--fill-color);\n",
              "      border-right-color: var(--fill-color);\n",
              "    }\n",
              "    40% {\n",
              "      border-color: transparent;\n",
              "      border-right-color: var(--fill-color);\n",
              "      border-top-color: var(--fill-color);\n",
              "    }\n",
              "    60% {\n",
              "      border-color: transparent;\n",
              "      border-right-color: var(--fill-color);\n",
              "    }\n",
              "    80% {\n",
              "      border-color: transparent;\n",
              "      border-right-color: var(--fill-color);\n",
              "      border-bottom-color: var(--fill-color);\n",
              "    }\n",
              "    90% {\n",
              "      border-color: transparent;\n",
              "      border-bottom-color: var(--fill-color);\n",
              "    }\n",
              "  }\n",
              "</style>\n",
              "\n",
              "  <script>\n",
              "    async function quickchart(key) {\n",
              "      const quickchartButtonEl =\n",
              "        document.querySelector('#' + key + ' button');\n",
              "      quickchartButtonEl.disabled = true;  // To prevent multiple clicks.\n",
              "      quickchartButtonEl.classList.add('colab-df-spinner');\n",
              "      try {\n",
              "        const charts = await google.colab.kernel.invokeFunction(\n",
              "            'suggestCharts', [key], {});\n",
              "      } catch (error) {\n",
              "        console.error('Error during call to suggestCharts:', error);\n",
              "      }\n",
              "      quickchartButtonEl.classList.remove('colab-df-spinner');\n",
              "      quickchartButtonEl.classList.add('colab-df-quickchart-complete');\n",
              "    }\n",
              "    (() => {\n",
              "      let quickchartButtonEl =\n",
              "        document.querySelector('#df-0d2a8ab0-f2c5-44e2-9ec5-7e584ca7c9f7 button');\n",
              "      quickchartButtonEl.style.display =\n",
              "        google.colab.kernel.accessAllowed ? 'block' : 'none';\n",
              "    })();\n",
              "  </script>\n",
              "</div>\n",
              "\n",
              "    </div>\n",
              "  </div>\n"
            ],
            "application/vnd.google.colaboratory.intrinsic+json": {
              "type": "dataframe",
              "variable_name": "df"
            }
          },
          "metadata": {},
          "execution_count": 2
        }
      ],
      "source": [
        "df = pd.read_csv('/content/PEDE_PASSOS_DATASET_FIAP.csv', index_col=1, sep=\";\")\n",
        "df.head()"
      ]
    },
    {
      "cell_type": "code",
      "execution_count": 3,
      "metadata": {
        "colab": {
          "base_uri": "https://localhost:8080/"
        },
        "id": "2FfVNDQNtSGn",
        "outputId": "ff0a96b6-d929-48fd-c9a0-9ee26a32151f"
      },
      "outputs": [
        {
          "output_type": "stream",
          "name": "stdout",
          "text": [
            "['INSTITUICAO_ENSINO_ALUNO_2020', 'IDADE_ALUNO_2020', 'ANOS_PM_2020', 'FASE_TURMA_2020', 'PONTO_VIRADA_2020', 'INDE_2020', 'INDE_CONCEITO_2020', 'PEDRA_2020', 'DESTAQUE_IEG_2020', 'DESTAQUE_IDA_2020', 'DESTAQUE_IPV_2020', 'IAA_2020', 'IEG_2020', 'IPS_2020', 'IDA_2020', 'IPP_2020', 'IPV_2020', 'IAN_2020', 'FASE_2021', 'TURMA_2021', 'INSTITUICAO_ENSINO_ALUNO_2021', 'SINALIZADOR_INGRESSANTE_2021', 'PEDRA_2021', 'INDE_2021', 'IAA_2021', 'IEG_2021', 'IPS_2021', 'IDA_2021', 'IPP_2021', 'REC_EQUIPE_1_2021', 'REC_EQUIPE_2_2021', 'REC_EQUIPE_3_2021', 'REC_EQUIPE_4_2021', 'PONTO_VIRADA_2021', 'IPV_2021', 'IAN_2021', 'NIVEL_IDEAL_2021', 'DEFASAGEM_2021', 'FASE_2022', 'TURMA_2022', 'ANO_INGRESSO_2022', 'BOLSISTA_2022', 'INDE_2022', 'CG_2022', 'CF_2022', 'CT_2022', 'PEDRA_2022', 'DESTAQUE_IEG_2022', 'DESTAQUE_IDA_2022', 'DESTAQUE_IPV_2022', 'IAA_2022', 'IEG_2022', 'IPS_2022', 'IDA_2022', 'NOTA_PORT_2022', 'NOTA_MAT_2022', 'NOTA_ING_2022', 'QTD_AVAL_2022', 'IPP_2022', 'REC_AVA_1_2022', 'REC_AVA_2_2022', 'REC_AVA_3_2022', 'REC_AVA_4_2022', 'INDICADO_BOLSA_2022', 'PONTO_VIRADA_2022', 'IPV_2022', 'IAN_2022', 'NIVEL_IDEAL_2022']\n"
          ]
        }
      ],
      "source": [
        "print(df.columns.tolist())"
      ]
    },
    {
      "cell_type": "code",
      "execution_count": 4,
      "metadata": {
        "colab": {
          "base_uri": "https://localhost:8080/"
        },
        "id": "kIIjwtUStSGn",
        "outputId": "25086d2b-bbbe-4e5f-ffbe-33e23e6e679e"
      },
      "outputs": [
        {
          "output_type": "stream",
          "name": "stdout",
          "text": [
            "<class 'pandas.core.frame.DataFrame'>\n",
            "Index: 1349 entries, ALUNO-1 to ALUNO-1349\n",
            "Data columns (total 68 columns):\n",
            " #   Column                         Non-Null Count  Dtype  \n",
            "---  ------                         --------------  -----  \n",
            " 0   INSTITUICAO_ENSINO_ALUNO_2020  728 non-null    object \n",
            " 1   IDADE_ALUNO_2020               728 non-null    object \n",
            " 2   ANOS_PM_2020                   728 non-null    object \n",
            " 3   FASE_TURMA_2020                728 non-null    object \n",
            " 4   PONTO_VIRADA_2020              702 non-null    object \n",
            " 5   INDE_2020                      728 non-null    object \n",
            " 6   INDE_CONCEITO_2020             728 non-null    object \n",
            " 7   PEDRA_2020                     728 non-null    object \n",
            " 8   DESTAQUE_IEG_2020              728 non-null    object \n",
            " 9   DESTAQUE_IDA_2020              728 non-null    object \n",
            " 10  DESTAQUE_IPV_2020              703 non-null    object \n",
            " 11  IAA_2020                       728 non-null    object \n",
            " 12  IEG_2020                       728 non-null    object \n",
            " 13  IPS_2020                       728 non-null    object \n",
            " 14  IDA_2020                       728 non-null    object \n",
            " 15  IPP_2020                       728 non-null    object \n",
            " 16  IPV_2020                       728 non-null    object \n",
            " 17  IAN_2020                       728 non-null    object \n",
            " 18  FASE_2021                      686 non-null    float64\n",
            " 19  TURMA_2021                     686 non-null    object \n",
            " 20  INSTITUICAO_ENSINO_ALUNO_2021  686 non-null    object \n",
            " 21  SINALIZADOR_INGRESSANTE_2021   686 non-null    object \n",
            " 22  PEDRA_2021                     686 non-null    object \n",
            " 23  INDE_2021                      686 non-null    object \n",
            " 24  IAA_2021                       686 non-null    float64\n",
            " 25  IEG_2021                       686 non-null    float64\n",
            " 26  IPS_2021                       686 non-null    float64\n",
            " 27  IDA_2021                       686 non-null    float64\n",
            " 28  IPP_2021                       686 non-null    float64\n",
            " 29  REC_EQUIPE_1_2021              686 non-null    object \n",
            " 30  REC_EQUIPE_2_2021              686 non-null    object \n",
            " 31  REC_EQUIPE_3_2021              686 non-null    object \n",
            " 32  REC_EQUIPE_4_2021              686 non-null    object \n",
            " 33  PONTO_VIRADA_2021              686 non-null    object \n",
            " 34  IPV_2021                       686 non-null    float64\n",
            " 35  IAN_2021                       686 non-null    float64\n",
            " 36  NIVEL_IDEAL_2021               686 non-null    object \n",
            " 37  DEFASAGEM_2021                 686 non-null    float64\n",
            " 38  FASE_2022                      862 non-null    float64\n",
            " 39  TURMA_2022                     862 non-null    object \n",
            " 40  ANO_INGRESSO_2022              862 non-null    float64\n",
            " 41  BOLSISTA_2022                  862 non-null    object \n",
            " 42  INDE_2022                      862 non-null    float64\n",
            " 43  CG_2022                        862 non-null    float64\n",
            " 44  CF_2022                        862 non-null    float64\n",
            " 45  CT_2022                        862 non-null    float64\n",
            " 46  PEDRA_2022                     862 non-null    object \n",
            " 47  DESTAQUE_IEG_2022              862 non-null    object \n",
            " 48  DESTAQUE_IDA_2022              862 non-null    object \n",
            " 49  DESTAQUE_IPV_2022              862 non-null    object \n",
            " 50  IAA_2022                       862 non-null    float64\n",
            " 51  IEG_2022                       862 non-null    float64\n",
            " 52  IPS_2022                       862 non-null    float64\n",
            " 53  IDA_2022                       862 non-null    float64\n",
            " 54  NOTA_PORT_2022                 860 non-null    float64\n",
            " 55  NOTA_MAT_2022                  860 non-null    float64\n",
            " 56  NOTA_ING_2022                  285 non-null    float64\n",
            " 57  QTD_AVAL_2022                  862 non-null    float64\n",
            " 58  IPP_2022                       862 non-null    float64\n",
            " 59  REC_AVA_1_2022                 862 non-null    object \n",
            " 60  REC_AVA_2_2022                 862 non-null    object \n",
            " 61  REC_AVA_3_2022                 626 non-null    object \n",
            " 62  REC_AVA_4_2022                 285 non-null    object \n",
            " 63  INDICADO_BOLSA_2022            862 non-null    object \n",
            " 64  PONTO_VIRADA_2022              862 non-null    object \n",
            " 65  IPV_2022                       862 non-null    float64\n",
            " 66  IAN_2022                       862 non-null    float64\n",
            " 67  NIVEL_IDEAL_2022               862 non-null    object \n",
            "dtypes: float64(26), object(42)\n",
            "memory usage: 727.2+ KB\n"
          ]
        }
      ],
      "source": [
        "df.info()"
      ]
    },
    {
      "cell_type": "code",
      "execution_count": 5,
      "metadata": {
        "colab": {
          "base_uri": "https://localhost:8080/",
          "height": 349
        },
        "id": "2j6u5247tSGn",
        "outputId": "314f8713-85a2-44f2-a393-b23669e39e01"
      },
      "outputs": [
        {
          "output_type": "execute_result",
          "data": {
            "text/plain": [
              "        FASE_2021    IAA_2021    IEG_2021    IPS_2021    IDA_2021    IPP_2021  \\\n",
              "count  686.000000  686.000000  686.000000  686.000000  686.000000  686.000000   \n",
              "mean     2.276968    8.153499    6.822595    6.843586    5.425948    7.576385   \n",
              "std      1.798368    2.193629    2.458627    1.457148    2.141566    1.072318   \n",
              "min      0.000000    0.000000    0.000000    0.000000    0.000000    0.000000   \n",
              "25%      1.000000    7.900000    5.300000    6.900000    4.100000    7.300000   \n",
              "50%      2.000000    8.800000    7.200000    7.500000    5.850000    7.700000   \n",
              "75%      3.000000    9.500000    8.800000    7.500000    6.900000    8.100000   \n",
              "max      7.000000   10.000000   10.000000    8.800000    9.500000   10.000000   \n",
              "\n",
              "        IPV_2021    IAN_2021  DEFASAGEM_2021   FASE_2022  ...    IEG_2022  \\\n",
              "count  686.00000  686.000000      686.000000  862.000000  ...  862.000000   \n",
              "mean     7.40758    6.902332       -0.752187    2.110209  ...    7.880728   \n",
              "std      1.62708    2.484979        0.792181    1.802222  ...    1.649023   \n",
              "min      0.00000    2.500000       -4.000000    0.000000  ...    0.000000   \n",
              "25%      6.60000    5.000000       -1.000000    1.000000  ...    6.999971   \n",
              "50%      7.70000    5.000000       -1.000000    2.000000  ...    8.312179   \n",
              "75%      8.60000   10.000000        0.000000    3.000000  ...    9.102970   \n",
              "max     10.00000   10.000000        3.000000    7.000000  ...   10.000000   \n",
              "\n",
              "         IPS_2022    IDA_2022  NOTA_PORT_2022  NOTA_MAT_2022  NOTA_ING_2022  \\\n",
              "count  862.000000  862.000000      860.000000     860.000000     285.000000   \n",
              "mean     6.901102    6.070688        5.796318       6.306628       5.839942   \n",
              "std      1.070202    2.059346        2.422292       2.092551       2.992093   \n",
              "min      2.500000    0.000000        0.000000       0.000000       0.000000   \n",
              "25%      6.250000    4.750000        4.316667       5.166667       3.500000   \n",
              "50%      7.500000    6.333333        6.000000       6.650000       6.266667   \n",
              "75%      7.500000    7.583333        7.833333       7.833333       8.500000   \n",
              "max     10.000000    9.916667       10.000000      10.000000      10.000000   \n",
              "\n",
              "       QTD_AVAL_2022    IPP_2022    IPV_2022    IAN_2022  \n",
              "count     862.000000  862.000000  862.000000  862.000000  \n",
              "mean        3.056845    6.299364    7.247953    6.421114  \n",
              "std         0.775806    1.135510    1.098548    2.387816  \n",
              "min         2.000000    0.000000    2.500010    2.500000  \n",
              "25%         2.000000    5.625000    6.722220    5.000000  \n",
              "50%         3.000000    6.250000    7.333335    5.000000  \n",
              "75%         4.000000    7.031250    7.916665   10.000000  \n",
              "max         4.000000    9.218750   10.000010   10.000000  \n",
              "\n",
              "[8 rows x 26 columns]"
            ],
            "text/html": [
              "\n",
              "  <div id=\"df-4d736a10-e2c6-46cf-929d-5f784aceb9f8\" class=\"colab-df-container\">\n",
              "    <div>\n",
              "<style scoped>\n",
              "    .dataframe tbody tr th:only-of-type {\n",
              "        vertical-align: middle;\n",
              "    }\n",
              "\n",
              "    .dataframe tbody tr th {\n",
              "        vertical-align: top;\n",
              "    }\n",
              "\n",
              "    .dataframe thead th {\n",
              "        text-align: right;\n",
              "    }\n",
              "</style>\n",
              "<table border=\"1\" class=\"dataframe\">\n",
              "  <thead>\n",
              "    <tr style=\"text-align: right;\">\n",
              "      <th></th>\n",
              "      <th>FASE_2021</th>\n",
              "      <th>IAA_2021</th>\n",
              "      <th>IEG_2021</th>\n",
              "      <th>IPS_2021</th>\n",
              "      <th>IDA_2021</th>\n",
              "      <th>IPP_2021</th>\n",
              "      <th>IPV_2021</th>\n",
              "      <th>IAN_2021</th>\n",
              "      <th>DEFASAGEM_2021</th>\n",
              "      <th>FASE_2022</th>\n",
              "      <th>...</th>\n",
              "      <th>IEG_2022</th>\n",
              "      <th>IPS_2022</th>\n",
              "      <th>IDA_2022</th>\n",
              "      <th>NOTA_PORT_2022</th>\n",
              "      <th>NOTA_MAT_2022</th>\n",
              "      <th>NOTA_ING_2022</th>\n",
              "      <th>QTD_AVAL_2022</th>\n",
              "      <th>IPP_2022</th>\n",
              "      <th>IPV_2022</th>\n",
              "      <th>IAN_2022</th>\n",
              "    </tr>\n",
              "  </thead>\n",
              "  <tbody>\n",
              "    <tr>\n",
              "      <th>count</th>\n",
              "      <td>686.000000</td>\n",
              "      <td>686.000000</td>\n",
              "      <td>686.000000</td>\n",
              "      <td>686.000000</td>\n",
              "      <td>686.000000</td>\n",
              "      <td>686.000000</td>\n",
              "      <td>686.00000</td>\n",
              "      <td>686.000000</td>\n",
              "      <td>686.000000</td>\n",
              "      <td>862.000000</td>\n",
              "      <td>...</td>\n",
              "      <td>862.000000</td>\n",
              "      <td>862.000000</td>\n",
              "      <td>862.000000</td>\n",
              "      <td>860.000000</td>\n",
              "      <td>860.000000</td>\n",
              "      <td>285.000000</td>\n",
              "      <td>862.000000</td>\n",
              "      <td>862.000000</td>\n",
              "      <td>862.000000</td>\n",
              "      <td>862.000000</td>\n",
              "    </tr>\n",
              "    <tr>\n",
              "      <th>mean</th>\n",
              "      <td>2.276968</td>\n",
              "      <td>8.153499</td>\n",
              "      <td>6.822595</td>\n",
              "      <td>6.843586</td>\n",
              "      <td>5.425948</td>\n",
              "      <td>7.576385</td>\n",
              "      <td>7.40758</td>\n",
              "      <td>6.902332</td>\n",
              "      <td>-0.752187</td>\n",
              "      <td>2.110209</td>\n",
              "      <td>...</td>\n",
              "      <td>7.880728</td>\n",
              "      <td>6.901102</td>\n",
              "      <td>6.070688</td>\n",
              "      <td>5.796318</td>\n",
              "      <td>6.306628</td>\n",
              "      <td>5.839942</td>\n",
              "      <td>3.056845</td>\n",
              "      <td>6.299364</td>\n",
              "      <td>7.247953</td>\n",
              "      <td>6.421114</td>\n",
              "    </tr>\n",
              "    <tr>\n",
              "      <th>std</th>\n",
              "      <td>1.798368</td>\n",
              "      <td>2.193629</td>\n",
              "      <td>2.458627</td>\n",
              "      <td>1.457148</td>\n",
              "      <td>2.141566</td>\n",
              "      <td>1.072318</td>\n",
              "      <td>1.62708</td>\n",
              "      <td>2.484979</td>\n",
              "      <td>0.792181</td>\n",
              "      <td>1.802222</td>\n",
              "      <td>...</td>\n",
              "      <td>1.649023</td>\n",
              "      <td>1.070202</td>\n",
              "      <td>2.059346</td>\n",
              "      <td>2.422292</td>\n",
              "      <td>2.092551</td>\n",
              "      <td>2.992093</td>\n",
              "      <td>0.775806</td>\n",
              "      <td>1.135510</td>\n",
              "      <td>1.098548</td>\n",
              "      <td>2.387816</td>\n",
              "    </tr>\n",
              "    <tr>\n",
              "      <th>min</th>\n",
              "      <td>0.000000</td>\n",
              "      <td>0.000000</td>\n",
              "      <td>0.000000</td>\n",
              "      <td>0.000000</td>\n",
              "      <td>0.000000</td>\n",
              "      <td>0.000000</td>\n",
              "      <td>0.00000</td>\n",
              "      <td>2.500000</td>\n",
              "      <td>-4.000000</td>\n",
              "      <td>0.000000</td>\n",
              "      <td>...</td>\n",
              "      <td>0.000000</td>\n",
              "      <td>2.500000</td>\n",
              "      <td>0.000000</td>\n",
              "      <td>0.000000</td>\n",
              "      <td>0.000000</td>\n",
              "      <td>0.000000</td>\n",
              "      <td>2.000000</td>\n",
              "      <td>0.000000</td>\n",
              "      <td>2.500010</td>\n",
              "      <td>2.500000</td>\n",
              "    </tr>\n",
              "    <tr>\n",
              "      <th>25%</th>\n",
              "      <td>1.000000</td>\n",
              "      <td>7.900000</td>\n",
              "      <td>5.300000</td>\n",
              "      <td>6.900000</td>\n",
              "      <td>4.100000</td>\n",
              "      <td>7.300000</td>\n",
              "      <td>6.60000</td>\n",
              "      <td>5.000000</td>\n",
              "      <td>-1.000000</td>\n",
              "      <td>1.000000</td>\n",
              "      <td>...</td>\n",
              "      <td>6.999971</td>\n",
              "      <td>6.250000</td>\n",
              "      <td>4.750000</td>\n",
              "      <td>4.316667</td>\n",
              "      <td>5.166667</td>\n",
              "      <td>3.500000</td>\n",
              "      <td>2.000000</td>\n",
              "      <td>5.625000</td>\n",
              "      <td>6.722220</td>\n",
              "      <td>5.000000</td>\n",
              "    </tr>\n",
              "    <tr>\n",
              "      <th>50%</th>\n",
              "      <td>2.000000</td>\n",
              "      <td>8.800000</td>\n",
              "      <td>7.200000</td>\n",
              "      <td>7.500000</td>\n",
              "      <td>5.850000</td>\n",
              "      <td>7.700000</td>\n",
              "      <td>7.70000</td>\n",
              "      <td>5.000000</td>\n",
              "      <td>-1.000000</td>\n",
              "      <td>2.000000</td>\n",
              "      <td>...</td>\n",
              "      <td>8.312179</td>\n",
              "      <td>7.500000</td>\n",
              "      <td>6.333333</td>\n",
              "      <td>6.000000</td>\n",
              "      <td>6.650000</td>\n",
              "      <td>6.266667</td>\n",
              "      <td>3.000000</td>\n",
              "      <td>6.250000</td>\n",
              "      <td>7.333335</td>\n",
              "      <td>5.000000</td>\n",
              "    </tr>\n",
              "    <tr>\n",
              "      <th>75%</th>\n",
              "      <td>3.000000</td>\n",
              "      <td>9.500000</td>\n",
              "      <td>8.800000</td>\n",
              "      <td>7.500000</td>\n",
              "      <td>6.900000</td>\n",
              "      <td>8.100000</td>\n",
              "      <td>8.60000</td>\n",
              "      <td>10.000000</td>\n",
              "      <td>0.000000</td>\n",
              "      <td>3.000000</td>\n",
              "      <td>...</td>\n",
              "      <td>9.102970</td>\n",
              "      <td>7.500000</td>\n",
              "      <td>7.583333</td>\n",
              "      <td>7.833333</td>\n",
              "      <td>7.833333</td>\n",
              "      <td>8.500000</td>\n",
              "      <td>4.000000</td>\n",
              "      <td>7.031250</td>\n",
              "      <td>7.916665</td>\n",
              "      <td>10.000000</td>\n",
              "    </tr>\n",
              "    <tr>\n",
              "      <th>max</th>\n",
              "      <td>7.000000</td>\n",
              "      <td>10.000000</td>\n",
              "      <td>10.000000</td>\n",
              "      <td>8.800000</td>\n",
              "      <td>9.500000</td>\n",
              "      <td>10.000000</td>\n",
              "      <td>10.00000</td>\n",
              "      <td>10.000000</td>\n",
              "      <td>3.000000</td>\n",
              "      <td>7.000000</td>\n",
              "      <td>...</td>\n",
              "      <td>10.000000</td>\n",
              "      <td>10.000000</td>\n",
              "      <td>9.916667</td>\n",
              "      <td>10.000000</td>\n",
              "      <td>10.000000</td>\n",
              "      <td>10.000000</td>\n",
              "      <td>4.000000</td>\n",
              "      <td>9.218750</td>\n",
              "      <td>10.000010</td>\n",
              "      <td>10.000000</td>\n",
              "    </tr>\n",
              "  </tbody>\n",
              "</table>\n",
              "<p>8 rows × 26 columns</p>\n",
              "</div>\n",
              "    <div class=\"colab-df-buttons\">\n",
              "\n",
              "  <div class=\"colab-df-container\">\n",
              "    <button class=\"colab-df-convert\" onclick=\"convertToInteractive('df-4d736a10-e2c6-46cf-929d-5f784aceb9f8')\"\n",
              "            title=\"Convert this dataframe to an interactive table.\"\n",
              "            style=\"display:none;\">\n",
              "\n",
              "  <svg xmlns=\"http://www.w3.org/2000/svg\" height=\"24px\" viewBox=\"0 -960 960 960\">\n",
              "    <path d=\"M120-120v-720h720v720H120Zm60-500h600v-160H180v160Zm220 220h160v-160H400v160Zm0 220h160v-160H400v160ZM180-400h160v-160H180v160Zm440 0h160v-160H620v160ZM180-180h160v-160H180v160Zm440 0h160v-160H620v160Z\"/>\n",
              "  </svg>\n",
              "    </button>\n",
              "\n",
              "  <style>\n",
              "    .colab-df-container {\n",
              "      display:flex;\n",
              "      gap: 12px;\n",
              "    }\n",
              "\n",
              "    .colab-df-convert {\n",
              "      background-color: #E8F0FE;\n",
              "      border: none;\n",
              "      border-radius: 50%;\n",
              "      cursor: pointer;\n",
              "      display: none;\n",
              "      fill: #1967D2;\n",
              "      height: 32px;\n",
              "      padding: 0 0 0 0;\n",
              "      width: 32px;\n",
              "    }\n",
              "\n",
              "    .colab-df-convert:hover {\n",
              "      background-color: #E2EBFA;\n",
              "      box-shadow: 0px 1px 2px rgba(60, 64, 67, 0.3), 0px 1px 3px 1px rgba(60, 64, 67, 0.15);\n",
              "      fill: #174EA6;\n",
              "    }\n",
              "\n",
              "    .colab-df-buttons div {\n",
              "      margin-bottom: 4px;\n",
              "    }\n",
              "\n",
              "    [theme=dark] .colab-df-convert {\n",
              "      background-color: #3B4455;\n",
              "      fill: #D2E3FC;\n",
              "    }\n",
              "\n",
              "    [theme=dark] .colab-df-convert:hover {\n",
              "      background-color: #434B5C;\n",
              "      box-shadow: 0px 1px 3px 1px rgba(0, 0, 0, 0.15);\n",
              "      filter: drop-shadow(0px 1px 2px rgba(0, 0, 0, 0.3));\n",
              "      fill: #FFFFFF;\n",
              "    }\n",
              "  </style>\n",
              "\n",
              "    <script>\n",
              "      const buttonEl =\n",
              "        document.querySelector('#df-4d736a10-e2c6-46cf-929d-5f784aceb9f8 button.colab-df-convert');\n",
              "      buttonEl.style.display =\n",
              "        google.colab.kernel.accessAllowed ? 'block' : 'none';\n",
              "\n",
              "      async function convertToInteractive(key) {\n",
              "        const element = document.querySelector('#df-4d736a10-e2c6-46cf-929d-5f784aceb9f8');\n",
              "        const dataTable =\n",
              "          await google.colab.kernel.invokeFunction('convertToInteractive',\n",
              "                                                    [key], {});\n",
              "        if (!dataTable) return;\n",
              "\n",
              "        const docLinkHtml = 'Like what you see? Visit the ' +\n",
              "          '<a target=\"_blank\" href=https://colab.research.google.com/notebooks/data_table.ipynb>data table notebook</a>'\n",
              "          + ' to learn more about interactive tables.';\n",
              "        element.innerHTML = '';\n",
              "        dataTable['output_type'] = 'display_data';\n",
              "        await google.colab.output.renderOutput(dataTable, element);\n",
              "        const docLink = document.createElement('div');\n",
              "        docLink.innerHTML = docLinkHtml;\n",
              "        element.appendChild(docLink);\n",
              "      }\n",
              "    </script>\n",
              "  </div>\n",
              "\n",
              "\n",
              "<div id=\"df-38f52866-359c-4e66-a068-0c49c7633110\">\n",
              "  <button class=\"colab-df-quickchart\" onclick=\"quickchart('df-38f52866-359c-4e66-a068-0c49c7633110')\"\n",
              "            title=\"Suggest charts\"\n",
              "            style=\"display:none;\">\n",
              "\n",
              "<svg xmlns=\"http://www.w3.org/2000/svg\" height=\"24px\"viewBox=\"0 0 24 24\"\n",
              "     width=\"24px\">\n",
              "    <g>\n",
              "        <path d=\"M19 3H5c-1.1 0-2 .9-2 2v14c0 1.1.9 2 2 2h14c1.1 0 2-.9 2-2V5c0-1.1-.9-2-2-2zM9 17H7v-7h2v7zm4 0h-2V7h2v10zm4 0h-2v-4h2v4z\"/>\n",
              "    </g>\n",
              "</svg>\n",
              "  </button>\n",
              "\n",
              "<style>\n",
              "  .colab-df-quickchart {\n",
              "      --bg-color: #E8F0FE;\n",
              "      --fill-color: #1967D2;\n",
              "      --hover-bg-color: #E2EBFA;\n",
              "      --hover-fill-color: #174EA6;\n",
              "      --disabled-fill-color: #AAA;\n",
              "      --disabled-bg-color: #DDD;\n",
              "  }\n",
              "\n",
              "  [theme=dark] .colab-df-quickchart {\n",
              "      --bg-color: #3B4455;\n",
              "      --fill-color: #D2E3FC;\n",
              "      --hover-bg-color: #434B5C;\n",
              "      --hover-fill-color: #FFFFFF;\n",
              "      --disabled-bg-color: #3B4455;\n",
              "      --disabled-fill-color: #666;\n",
              "  }\n",
              "\n",
              "  .colab-df-quickchart {\n",
              "    background-color: var(--bg-color);\n",
              "    border: none;\n",
              "    border-radius: 50%;\n",
              "    cursor: pointer;\n",
              "    display: none;\n",
              "    fill: var(--fill-color);\n",
              "    height: 32px;\n",
              "    padding: 0;\n",
              "    width: 32px;\n",
              "  }\n",
              "\n",
              "  .colab-df-quickchart:hover {\n",
              "    background-color: var(--hover-bg-color);\n",
              "    box-shadow: 0 1px 2px rgba(60, 64, 67, 0.3), 0 1px 3px 1px rgba(60, 64, 67, 0.15);\n",
              "    fill: var(--button-hover-fill-color);\n",
              "  }\n",
              "\n",
              "  .colab-df-quickchart-complete:disabled,\n",
              "  .colab-df-quickchart-complete:disabled:hover {\n",
              "    background-color: var(--disabled-bg-color);\n",
              "    fill: var(--disabled-fill-color);\n",
              "    box-shadow: none;\n",
              "  }\n",
              "\n",
              "  .colab-df-spinner {\n",
              "    border: 2px solid var(--fill-color);\n",
              "    border-color: transparent;\n",
              "    border-bottom-color: var(--fill-color);\n",
              "    animation:\n",
              "      spin 1s steps(1) infinite;\n",
              "  }\n",
              "\n",
              "  @keyframes spin {\n",
              "    0% {\n",
              "      border-color: transparent;\n",
              "      border-bottom-color: var(--fill-color);\n",
              "      border-left-color: var(--fill-color);\n",
              "    }\n",
              "    20% {\n",
              "      border-color: transparent;\n",
              "      border-left-color: var(--fill-color);\n",
              "      border-top-color: var(--fill-color);\n",
              "    }\n",
              "    30% {\n",
              "      border-color: transparent;\n",
              "      border-left-color: var(--fill-color);\n",
              "      border-top-color: var(--fill-color);\n",
              "      border-right-color: var(--fill-color);\n",
              "    }\n",
              "    40% {\n",
              "      border-color: transparent;\n",
              "      border-right-color: var(--fill-color);\n",
              "      border-top-color: var(--fill-color);\n",
              "    }\n",
              "    60% {\n",
              "      border-color: transparent;\n",
              "      border-right-color: var(--fill-color);\n",
              "    }\n",
              "    80% {\n",
              "      border-color: transparent;\n",
              "      border-right-color: var(--fill-color);\n",
              "      border-bottom-color: var(--fill-color);\n",
              "    }\n",
              "    90% {\n",
              "      border-color: transparent;\n",
              "      border-bottom-color: var(--fill-color);\n",
              "    }\n",
              "  }\n",
              "</style>\n",
              "\n",
              "  <script>\n",
              "    async function quickchart(key) {\n",
              "      const quickchartButtonEl =\n",
              "        document.querySelector('#' + key + ' button');\n",
              "      quickchartButtonEl.disabled = true;  // To prevent multiple clicks.\n",
              "      quickchartButtonEl.classList.add('colab-df-spinner');\n",
              "      try {\n",
              "        const charts = await google.colab.kernel.invokeFunction(\n",
              "            'suggestCharts', [key], {});\n",
              "      } catch (error) {\n",
              "        console.error('Error during call to suggestCharts:', error);\n",
              "      }\n",
              "      quickchartButtonEl.classList.remove('colab-df-spinner');\n",
              "      quickchartButtonEl.classList.add('colab-df-quickchart-complete');\n",
              "    }\n",
              "    (() => {\n",
              "      let quickchartButtonEl =\n",
              "        document.querySelector('#df-38f52866-359c-4e66-a068-0c49c7633110 button');\n",
              "      quickchartButtonEl.style.display =\n",
              "        google.colab.kernel.accessAllowed ? 'block' : 'none';\n",
              "    })();\n",
              "  </script>\n",
              "</div>\n",
              "\n",
              "    </div>\n",
              "  </div>\n"
            ],
            "application/vnd.google.colaboratory.intrinsic+json": {
              "type": "dataframe"
            }
          },
          "metadata": {},
          "execution_count": 5
        }
      ],
      "source": [
        "df.describe()"
      ]
    },
    {
      "cell_type": "markdown",
      "metadata": {
        "id": "CpQTyLxUtSGn"
      },
      "source": [
        "## Tratamento e Manipulação de Dados"
      ]
    },
    {
      "cell_type": "markdown",
      "metadata": {
        "id": "1BnErOmltSGn"
      },
      "source": [
        "### Fissão da Base de Dados por Ano"
      ]
    },
    {
      "cell_type": "code",
      "execution_count": 6,
      "metadata": {
        "id": "IRYZtN-XtSGo"
      },
      "outputs": [],
      "source": [
        "df_2020 = df.loc[df[\"INSTITUICAO_ENSINO_ALUNO_2020\"].notnull(), [\"INSTITUICAO_ENSINO_ALUNO_2020\", \"IDADE_ALUNO_2020\", \"ANOS_PM_2020\", \"FASE_TURMA_2020\", \"PONTO_VIRADA_2020\", \"INDE_2020\", \"INDE_CONCEITO_2020\", \"PEDRA_2020\", \"DESTAQUE_IEG_2020\", \"DESTAQUE_IDA_2020\", \"DESTAQUE_IPV_2020\", \"IAA_2020\", \"IEG_2020\", \"IPS_2020\", \"IDA_2020\", \"IPP_2020\", \"IPV_2020\", \"IAN_2020\"]]"
      ]
    },
    {
      "cell_type": "code",
      "execution_count": 7,
      "metadata": {
        "colab": {
          "base_uri": "https://localhost:8080/"
        },
        "id": "DD02fTZWtSGo",
        "outputId": "2f9d0c9f-0b25-42cd-e743-2452fcdf364c"
      },
      "outputs": [
        {
          "output_type": "stream",
          "name": "stdout",
          "text": [
            "<class 'pandas.core.frame.DataFrame'>\n",
            "Index: 728 entries, ALUNO-1 to ALUNO-1348\n",
            "Data columns (total 18 columns):\n",
            " #   Column                         Non-Null Count  Dtype \n",
            "---  ------                         --------------  ----- \n",
            " 0   INSTITUICAO_ENSINO_ALUNO_2020  728 non-null    object\n",
            " 1   IDADE_ALUNO_2020               728 non-null    object\n",
            " 2   ANOS_PM_2020                   728 non-null    object\n",
            " 3   FASE_TURMA_2020                728 non-null    object\n",
            " 4   PONTO_VIRADA_2020              702 non-null    object\n",
            " 5   INDE_2020                      728 non-null    object\n",
            " 6   INDE_CONCEITO_2020             728 non-null    object\n",
            " 7   PEDRA_2020                     728 non-null    object\n",
            " 8   DESTAQUE_IEG_2020              728 non-null    object\n",
            " 9   DESTAQUE_IDA_2020              728 non-null    object\n",
            " 10  DESTAQUE_IPV_2020              703 non-null    object\n",
            " 11  IAA_2020                       728 non-null    object\n",
            " 12  IEG_2020                       728 non-null    object\n",
            " 13  IPS_2020                       728 non-null    object\n",
            " 14  IDA_2020                       728 non-null    object\n",
            " 15  IPP_2020                       728 non-null    object\n",
            " 16  IPV_2020                       728 non-null    object\n",
            " 17  IAN_2020                       728 non-null    object\n",
            "dtypes: object(18)\n",
            "memory usage: 108.1+ KB\n"
          ]
        }
      ],
      "source": [
        "df_2020.info()"
      ]
    },
    {
      "cell_type": "code",
      "execution_count": 8,
      "metadata": {
        "id": "5Y91gQB-tSGo"
      },
      "outputs": [],
      "source": [
        "df_2021 = df.loc[df[\"INSTITUICAO_ENSINO_ALUNO_2021\"].notnull(), [\"INSTITUICAO_ENSINO_ALUNO_2021\", \"FASE_2021\", \"TURMA_2021\", \"PONTO_VIRADA_2021\", \"SINALIZADOR_INGRESSANTE_2021\", \"INDE_2021\", \"PEDRA_2021\", \"IAA_2021\", \"IEG_2021\", \"IPS_2021\", \"IDA_2021\", \"IPP_2021\", \"IPV_2021\", \"IAN_2021\", \"REC_EQUIPE_1_2021\", \"REC_EQUIPE_2_2021\", \"REC_EQUIPE_3_2021\", \"REC_EQUIPE_4_2021\", \"NIVEL_IDEAL_2021\", \"DEFASAGEM_2021\"]]"
      ]
    },
    {
      "cell_type": "code",
      "execution_count": 9,
      "metadata": {
        "colab": {
          "base_uri": "https://localhost:8080/"
        },
        "id": "DvoGE5YJtSGo",
        "outputId": "94d41058-dc76-4be4-b326-e36699e60748"
      },
      "outputs": [
        {
          "output_type": "stream",
          "name": "stdout",
          "text": [
            "<class 'pandas.core.frame.DataFrame'>\n",
            "Index: 686 entries, ALUNO-1 to ALUNO-1348\n",
            "Data columns (total 20 columns):\n",
            " #   Column                         Non-Null Count  Dtype  \n",
            "---  ------                         --------------  -----  \n",
            " 0   INSTITUICAO_ENSINO_ALUNO_2021  686 non-null    object \n",
            " 1   FASE_2021                      686 non-null    float64\n",
            " 2   TURMA_2021                     686 non-null    object \n",
            " 3   PONTO_VIRADA_2021              686 non-null    object \n",
            " 4   SINALIZADOR_INGRESSANTE_2021   686 non-null    object \n",
            " 5   INDE_2021                      686 non-null    object \n",
            " 6   PEDRA_2021                     686 non-null    object \n",
            " 7   IAA_2021                       686 non-null    float64\n",
            " 8   IEG_2021                       686 non-null    float64\n",
            " 9   IPS_2021                       686 non-null    float64\n",
            " 10  IDA_2021                       686 non-null    float64\n",
            " 11  IPP_2021                       686 non-null    float64\n",
            " 12  IPV_2021                       686 non-null    float64\n",
            " 13  IAN_2021                       686 non-null    float64\n",
            " 14  REC_EQUIPE_1_2021              686 non-null    object \n",
            " 15  REC_EQUIPE_2_2021              686 non-null    object \n",
            " 16  REC_EQUIPE_3_2021              686 non-null    object \n",
            " 17  REC_EQUIPE_4_2021              686 non-null    object \n",
            " 18  NIVEL_IDEAL_2021               686 non-null    object \n",
            " 19  DEFASAGEM_2021                 686 non-null    float64\n",
            "dtypes: float64(9), object(11)\n",
            "memory usage: 112.5+ KB\n"
          ]
        }
      ],
      "source": [
        "df_2021.info()"
      ]
    },
    {
      "cell_type": "code",
      "execution_count": 10,
      "metadata": {
        "id": "EiUCxoB8tSGo"
      },
      "outputs": [],
      "source": [
        "df_2022 = df.loc[df[\"ANO_INGRESSO_2022\"].notnull(), ['ANO_INGRESSO_2022', 'BOLSISTA_2022', 'FASE_2022', 'TURMA_2022', 'PONTO_VIRADA_2022', 'INDE_2022', 'PEDRA_2022', 'CG_2022', 'CF_2022', 'CT_2022', 'DESTAQUE_IEG_2022', 'DESTAQUE_IDA_2022', 'DESTAQUE_IPV_2022', 'IAA_2022', 'IEG_2022', 'IPS_2022', 'IDA_2022', 'IPP_2022', 'IPV_2022', 'IAN_2022', 'NOTA_PORT_2022', 'NOTA_MAT_2022', 'NOTA_ING_2022', 'QTD_AVAL_2022', 'REC_AVA_1_2022', 'REC_AVA_2_2022', 'REC_AVA_3_2022', 'REC_AVA_4_2022', 'NIVEL_IDEAL_2022', 'INDICADO_BOLSA_2022']]"
      ]
    },
    {
      "cell_type": "code",
      "execution_count": 11,
      "metadata": {
        "colab": {
          "base_uri": "https://localhost:8080/"
        },
        "id": "atRDpnZwtSGo",
        "outputId": "8ffeac77-ebed-4edc-c7b1-6e3f502dce1d"
      },
      "outputs": [
        {
          "output_type": "stream",
          "name": "stdout",
          "text": [
            "<class 'pandas.core.frame.DataFrame'>\n",
            "Index: 862 entries, ALUNO-2 to ALUNO-1349\n",
            "Data columns (total 30 columns):\n",
            " #   Column               Non-Null Count  Dtype  \n",
            "---  ------               --------------  -----  \n",
            " 0   ANO_INGRESSO_2022    862 non-null    float64\n",
            " 1   BOLSISTA_2022        862 non-null    object \n",
            " 2   FASE_2022            862 non-null    float64\n",
            " 3   TURMA_2022           862 non-null    object \n",
            " 4   PONTO_VIRADA_2022    862 non-null    object \n",
            " 5   INDE_2022            862 non-null    float64\n",
            " 6   PEDRA_2022           862 non-null    object \n",
            " 7   CG_2022              862 non-null    float64\n",
            " 8   CF_2022              862 non-null    float64\n",
            " 9   CT_2022              862 non-null    float64\n",
            " 10  DESTAQUE_IEG_2022    862 non-null    object \n",
            " 11  DESTAQUE_IDA_2022    862 non-null    object \n",
            " 12  DESTAQUE_IPV_2022    862 non-null    object \n",
            " 13  IAA_2022             862 non-null    float64\n",
            " 14  IEG_2022             862 non-null    float64\n",
            " 15  IPS_2022             862 non-null    float64\n",
            " 16  IDA_2022             862 non-null    float64\n",
            " 17  IPP_2022             862 non-null    float64\n",
            " 18  IPV_2022             862 non-null    float64\n",
            " 19  IAN_2022             862 non-null    float64\n",
            " 20  NOTA_PORT_2022       860 non-null    float64\n",
            " 21  NOTA_MAT_2022        860 non-null    float64\n",
            " 22  NOTA_ING_2022        285 non-null    float64\n",
            " 23  QTD_AVAL_2022        862 non-null    float64\n",
            " 24  REC_AVA_1_2022       862 non-null    object \n",
            " 25  REC_AVA_2_2022       862 non-null    object \n",
            " 26  REC_AVA_3_2022       626 non-null    object \n",
            " 27  REC_AVA_4_2022       285 non-null    object \n",
            " 28  NIVEL_IDEAL_2022     862 non-null    object \n",
            " 29  INDICADO_BOLSA_2022  862 non-null    object \n",
            "dtypes: float64(17), object(13)\n",
            "memory usage: 208.8+ KB\n"
          ]
        }
      ],
      "source": [
        "df_2022.info()"
      ]
    },
    {
      "cell_type": "markdown",
      "metadata": {
        "id": "_2j7fDa2tSGo"
      },
      "source": [
        "### Base de Dados 2020"
      ]
    },
    {
      "cell_type": "markdown",
      "metadata": {
        "id": "OUETMwXjtSGp"
      },
      "source": [
        "#### Instituição de Ensino"
      ]
    },
    {
      "cell_type": "code",
      "execution_count": 12,
      "metadata": {
        "colab": {
          "base_uri": "https://localhost:8080/"
        },
        "id": "2xb_C_HqtSGp",
        "outputId": "cb0a44c1-1d6d-4433-e6f4-2c81d2f11b86"
      },
      "outputs": [
        {
          "output_type": "execute_result",
          "data": {
            "text/plain": [
              "array(['Escola Pública', 'Rede Decisão/União', 'Einstein', 'Estácio',\n",
              "       'UNISA', 'FIAP', 'Escola João Paulo II', 'V202'], dtype=object)"
            ]
          },
          "metadata": {},
          "execution_count": 12
        }
      ],
      "source": [
        "df_2020[\"INSTITUICAO_ENSINO_ALUNO_2020\"].unique()"
      ]
    },
    {
      "cell_type": "code",
      "execution_count": 13,
      "metadata": {
        "id": "mwTEKR4LtSGp"
      },
      "outputs": [],
      "source": [
        "df_2020[\"INSTITUICAO_ENSINO_ALUNO_2020\"] = df_2020[\"INSTITUICAO_ENSINO_ALUNO_2020\"].astype(\"category\")"
      ]
    },
    {
      "cell_type": "markdown",
      "metadata": {
        "id": "KbErU6cftSGp"
      },
      "source": [
        "#### Idade Aluno"
      ]
    },
    {
      "cell_type": "code",
      "execution_count": 14,
      "metadata": {
        "colab": {
          "base_uri": "https://localhost:8080/"
        },
        "id": "8EOEmFqAtSGp",
        "outputId": "b4f97b05-f17c-4507-d5cc-833ac64b027f"
      },
      "outputs": [
        {
          "output_type": "execute_result",
          "data": {
            "text/plain": [
              "array(['11', '12', '10', '14', '13', '8', '7', '18', '9', '15', '17',\n",
              "       '16', '19', 'D108', '20'], dtype=object)"
            ]
          },
          "metadata": {},
          "execution_count": 14
        }
      ],
      "source": [
        "df_2020['IDADE_ALUNO_2020'].unique()"
      ]
    },
    {
      "cell_type": "code",
      "source": [
        "#ValueError: invalid literal for int() with base 10: 'D108'\n",
        "df_2020.loc[df_2020[\"IDADE_ALUNO_2020\"] == 'D108']"
      ],
      "metadata": {
        "colab": {
          "base_uri": "https://localhost:8080/",
          "height": 149
        },
        "id": "QWnaKt7Xx6Bc",
        "outputId": "c1fef928-b0ad-4505-a6c6-fd374a0c21c8"
      },
      "execution_count": 15,
      "outputs": [
        {
          "output_type": "execute_result",
          "data": {
            "text/plain": [
              "           INSTITUICAO_ENSINO_ALUNO_2020 IDADE_ALUNO_2020 ANOS_PM_2020  \\\n",
              "NOME                                                                     \n",
              "ALUNO-1259                          V202             D108         D971   \n",
              "\n",
              "           FASE_TURMA_2020 PONTO_VIRADA_2020 INDE_2020 INDE_CONCEITO_2020  \\\n",
              "NOME                                                                        \n",
              "ALUNO-1259            D207             D9600      D980            D9891/2   \n",
              "\n",
              "           PEDRA_2020 DESTAQUE_IEG_2020 DESTAQUE_IDA_2020 DESTAQUE_IPV_2020  \\\n",
              "NOME                                                                          \n",
              "ALUNO-1259   D9891/2A              D301              D302               NaN   \n",
              "\n",
              "           IAA_2020 IEG_2020 IPS_2020 IDA_2020 IPP_2020 IPV_2020 IAN_2020  \n",
              "NOME                                                                       \n",
              "ALUNO-1259     D910     V920     D930     D940     D950     D960     D970  "
            ],
            "text/html": [
              "\n",
              "  <div id=\"df-caaea8b0-a224-41c5-a8ca-e9cc7d64171e\" class=\"colab-df-container\">\n",
              "    <div>\n",
              "<style scoped>\n",
              "    .dataframe tbody tr th:only-of-type {\n",
              "        vertical-align: middle;\n",
              "    }\n",
              "\n",
              "    .dataframe tbody tr th {\n",
              "        vertical-align: top;\n",
              "    }\n",
              "\n",
              "    .dataframe thead th {\n",
              "        text-align: right;\n",
              "    }\n",
              "</style>\n",
              "<table border=\"1\" class=\"dataframe\">\n",
              "  <thead>\n",
              "    <tr style=\"text-align: right;\">\n",
              "      <th></th>\n",
              "      <th>INSTITUICAO_ENSINO_ALUNO_2020</th>\n",
              "      <th>IDADE_ALUNO_2020</th>\n",
              "      <th>ANOS_PM_2020</th>\n",
              "      <th>FASE_TURMA_2020</th>\n",
              "      <th>PONTO_VIRADA_2020</th>\n",
              "      <th>INDE_2020</th>\n",
              "      <th>INDE_CONCEITO_2020</th>\n",
              "      <th>PEDRA_2020</th>\n",
              "      <th>DESTAQUE_IEG_2020</th>\n",
              "      <th>DESTAQUE_IDA_2020</th>\n",
              "      <th>DESTAQUE_IPV_2020</th>\n",
              "      <th>IAA_2020</th>\n",
              "      <th>IEG_2020</th>\n",
              "      <th>IPS_2020</th>\n",
              "      <th>IDA_2020</th>\n",
              "      <th>IPP_2020</th>\n",
              "      <th>IPV_2020</th>\n",
              "      <th>IAN_2020</th>\n",
              "    </tr>\n",
              "    <tr>\n",
              "      <th>NOME</th>\n",
              "      <th></th>\n",
              "      <th></th>\n",
              "      <th></th>\n",
              "      <th></th>\n",
              "      <th></th>\n",
              "      <th></th>\n",
              "      <th></th>\n",
              "      <th></th>\n",
              "      <th></th>\n",
              "      <th></th>\n",
              "      <th></th>\n",
              "      <th></th>\n",
              "      <th></th>\n",
              "      <th></th>\n",
              "      <th></th>\n",
              "      <th></th>\n",
              "      <th></th>\n",
              "      <th></th>\n",
              "    </tr>\n",
              "  </thead>\n",
              "  <tbody>\n",
              "    <tr>\n",
              "      <th>ALUNO-1259</th>\n",
              "      <td>V202</td>\n",
              "      <td>D108</td>\n",
              "      <td>D971</td>\n",
              "      <td>D207</td>\n",
              "      <td>D9600</td>\n",
              "      <td>D980</td>\n",
              "      <td>D9891/2</td>\n",
              "      <td>D9891/2A</td>\n",
              "      <td>D301</td>\n",
              "      <td>D302</td>\n",
              "      <td>NaN</td>\n",
              "      <td>D910</td>\n",
              "      <td>V920</td>\n",
              "      <td>D930</td>\n",
              "      <td>D940</td>\n",
              "      <td>D950</td>\n",
              "      <td>D960</td>\n",
              "      <td>D970</td>\n",
              "    </tr>\n",
              "  </tbody>\n",
              "</table>\n",
              "</div>\n",
              "    <div class=\"colab-df-buttons\">\n",
              "\n",
              "  <div class=\"colab-df-container\">\n",
              "    <button class=\"colab-df-convert\" onclick=\"convertToInteractive('df-caaea8b0-a224-41c5-a8ca-e9cc7d64171e')\"\n",
              "            title=\"Convert this dataframe to an interactive table.\"\n",
              "            style=\"display:none;\">\n",
              "\n",
              "  <svg xmlns=\"http://www.w3.org/2000/svg\" height=\"24px\" viewBox=\"0 -960 960 960\">\n",
              "    <path d=\"M120-120v-720h720v720H120Zm60-500h600v-160H180v160Zm220 220h160v-160H400v160Zm0 220h160v-160H400v160ZM180-400h160v-160H180v160Zm440 0h160v-160H620v160ZM180-180h160v-160H180v160Zm440 0h160v-160H620v160Z\"/>\n",
              "  </svg>\n",
              "    </button>\n",
              "\n",
              "  <style>\n",
              "    .colab-df-container {\n",
              "      display:flex;\n",
              "      gap: 12px;\n",
              "    }\n",
              "\n",
              "    .colab-df-convert {\n",
              "      background-color: #E8F0FE;\n",
              "      border: none;\n",
              "      border-radius: 50%;\n",
              "      cursor: pointer;\n",
              "      display: none;\n",
              "      fill: #1967D2;\n",
              "      height: 32px;\n",
              "      padding: 0 0 0 0;\n",
              "      width: 32px;\n",
              "    }\n",
              "\n",
              "    .colab-df-convert:hover {\n",
              "      background-color: #E2EBFA;\n",
              "      box-shadow: 0px 1px 2px rgba(60, 64, 67, 0.3), 0px 1px 3px 1px rgba(60, 64, 67, 0.15);\n",
              "      fill: #174EA6;\n",
              "    }\n",
              "\n",
              "    .colab-df-buttons div {\n",
              "      margin-bottom: 4px;\n",
              "    }\n",
              "\n",
              "    [theme=dark] .colab-df-convert {\n",
              "      background-color: #3B4455;\n",
              "      fill: #D2E3FC;\n",
              "    }\n",
              "\n",
              "    [theme=dark] .colab-df-convert:hover {\n",
              "      background-color: #434B5C;\n",
              "      box-shadow: 0px 1px 3px 1px rgba(0, 0, 0, 0.15);\n",
              "      filter: drop-shadow(0px 1px 2px rgba(0, 0, 0, 0.3));\n",
              "      fill: #FFFFFF;\n",
              "    }\n",
              "  </style>\n",
              "\n",
              "    <script>\n",
              "      const buttonEl =\n",
              "        document.querySelector('#df-caaea8b0-a224-41c5-a8ca-e9cc7d64171e button.colab-df-convert');\n",
              "      buttonEl.style.display =\n",
              "        google.colab.kernel.accessAllowed ? 'block' : 'none';\n",
              "\n",
              "      async function convertToInteractive(key) {\n",
              "        const element = document.querySelector('#df-caaea8b0-a224-41c5-a8ca-e9cc7d64171e');\n",
              "        const dataTable =\n",
              "          await google.colab.kernel.invokeFunction('convertToInteractive',\n",
              "                                                    [key], {});\n",
              "        if (!dataTable) return;\n",
              "\n",
              "        const docLinkHtml = 'Like what you see? Visit the ' +\n",
              "          '<a target=\"_blank\" href=https://colab.research.google.com/notebooks/data_table.ipynb>data table notebook</a>'\n",
              "          + ' to learn more about interactive tables.';\n",
              "        element.innerHTML = '';\n",
              "        dataTable['output_type'] = 'display_data';\n",
              "        await google.colab.output.renderOutput(dataTable, element);\n",
              "        const docLink = document.createElement('div');\n",
              "        docLink.innerHTML = docLinkHtml;\n",
              "        element.appendChild(docLink);\n",
              "      }\n",
              "    </script>\n",
              "  </div>\n",
              "\n",
              "\n",
              "    </div>\n",
              "  </div>\n"
            ],
            "application/vnd.google.colaboratory.intrinsic+json": {
              "type": "dataframe",
              "repr_error": "Out of range float values are not JSON compliant: nan"
            }
          },
          "metadata": {},
          "execution_count": 15
        }
      ]
    },
    {
      "cell_type": "code",
      "source": [
        "df_2020 = df_2020.drop([\"ALUNO-1259\"])\n"
      ],
      "metadata": {
        "id": "zkAn588MyIhz"
      },
      "execution_count": 16,
      "outputs": []
    },
    {
      "cell_type": "code",
      "execution_count": 17,
      "metadata": {
        "id": "kGeFkzyStSGp"
      },
      "outputs": [],
      "source": [
        "df_2020[\"IDADE_ALUNO_2020\"] = df_2020[\"IDADE_ALUNO_2020\"].astype(pd.Int64Dtype())"
      ]
    },
    {
      "cell_type": "markdown",
      "metadata": {
        "id": "XJ9ZMamstSGp"
      },
      "source": [
        "#### Anos na Passos Magicos"
      ]
    },
    {
      "cell_type": "code",
      "execution_count": 18,
      "metadata": {
        "colab": {
          "base_uri": "https://localhost:8080/"
        },
        "id": "ubS-tBkotSGp",
        "outputId": "606b2e48-98ad-4427-ffbd-488e552e69b9"
      },
      "outputs": [
        {
          "output_type": "execute_result",
          "data": {
            "text/plain": [
              "array(['2', '1', '3', '0', '4'], dtype=object)"
            ]
          },
          "metadata": {},
          "execution_count": 18
        }
      ],
      "source": [
        "df_2020['ANOS_PM_2020'].unique()"
      ]
    },
    {
      "cell_type": "code",
      "execution_count": 19,
      "metadata": {
        "id": "UKsRCPKQtSGp"
      },
      "outputs": [],
      "source": [
        "df_2020['ANOS_PM_2020'] = df_2020['ANOS_PM_2020'].astype(pd.Int16Dtype())"
      ]
    },
    {
      "cell_type": "markdown",
      "metadata": {
        "id": "qIpy7Ac6tSGp"
      },
      "source": [
        "#### Fase do Aluno na Passos Magicos em 2020"
      ]
    },
    {
      "cell_type": "code",
      "execution_count": 20,
      "metadata": {
        "id": "WG9YlxcjtSGq",
        "outputId": "9cd70346-2b07-4be1-9602-9def36c4b3a7",
        "colab": {
          "base_uri": "https://localhost:8080/"
        }
      },
      "outputs": [
        {
          "output_type": "execute_result",
          "data": {
            "text/plain": [
              "array(['2H', '3H', '1D', '2M', '4L', '3B', '0A', '3G', '2D', '1G', '3E',\n",
              "       '3J', '0C', '2C', '7B', '3C', '2N', '3F', '4F', '1M', '0D', '2F',\n",
              "       '5X', '6C', '6B', '5F', '1N', '2L', '1F', '3L', '0B', '1A', '4B',\n",
              "       '6A', '0G', '3M', '3A', '7A', '1J', '0F', '0H', '4A', '1C', '5A',\n",
              "       '5L', '1R', '2J', '1H', '8A', '1B', '0E', '5G', '2G', '2R', '5B',\n",
              "       '2P', '1E', '2B', '2E', '3R', '1K', '4E'], dtype=object)"
            ]
          },
          "metadata": {},
          "execution_count": 20
        }
      ],
      "source": [
        "df_2020['FASE_TURMA_2020'].unique()"
      ]
    },
    {
      "cell_type": "code",
      "execution_count": 21,
      "metadata": {
        "id": "LwdM-YpxtSGq"
      },
      "outputs": [],
      "source": [
        "df_fase = df_2020['FASE_TURMA_2020'].astype(str).str[0]"
      ]
    },
    {
      "cell_type": "code",
      "execution_count": 22,
      "metadata": {
        "id": "KtRuADINtSGq"
      },
      "outputs": [],
      "source": [
        "df_2020.insert(3,\"FASE_2020\", df_fase)"
      ]
    },
    {
      "cell_type": "code",
      "execution_count": 23,
      "metadata": {
        "colab": {
          "base_uri": "https://localhost:8080/"
        },
        "id": "3YBVBUo7tSGq",
        "outputId": "a3476e07-3508-4267-9af4-6369a3e0b0bf"
      },
      "outputs": [
        {
          "output_type": "execute_result",
          "data": {
            "text/plain": [
              "array(['2', '3', '1', '4', '0', '7', '5', '6', '8'], dtype=object)"
            ]
          },
          "metadata": {},
          "execution_count": 23
        }
      ],
      "source": [
        "df_2020[\"FASE_2020\"].unique()"
      ]
    },
    {
      "cell_type": "code",
      "execution_count": 24,
      "metadata": {
        "colab": {
          "base_uri": "https://localhost:8080/",
          "height": 443
        },
        "id": "wvIM9TcotSGq",
        "outputId": "1fd04792-9876-4608-ce9f-b5fb2f0fda33"
      },
      "outputs": [
        {
          "output_type": "execute_result",
          "data": {
            "text/plain": [
              "        INSTITUICAO_ENSINO_ALUNO_2020 IDADE_ALUNO_2020 ANOS_PM_2020  \\\n",
              "NOME                                                                  \n",
              "ALUNO-1                Escola Pública               11            2   \n",
              "ALUNO-2                           NaN              NaN          NaN   \n",
              "ALUNO-3                Escola Pública               12            2   \n",
              "ALUNO-4                Escola Pública               10            2   \n",
              "ALUNO-5                Escola Pública               10            1   \n",
              "\n",
              "        FASE_TURMA_2020 PONTO_VIRADA_2020          INDE_2020  \\\n",
              "NOME                                                           \n",
              "ALUNO-1              2H               Não           7.883752   \n",
              "ALUNO-2             NaN               NaN                NaN   \n",
              "ALUNO-3              3H               Não  7.856389666666666   \n",
              "ALUNO-4              1D               Não           5.076252   \n",
              "ALUNO-5              2M               Não           8.077085   \n",
              "\n",
              "        INDE_CONCEITO_2020 PEDRA_2020  \\\n",
              "NOME                                    \n",
              "ALUNO-1                  B   Ametista   \n",
              "ALUNO-2                NaN        NaN   \n",
              "ALUNO-3                  B   Ametista   \n",
              "ALUNO-4                  D    Quartzo   \n",
              "ALUNO-5                  B   Ametista   \n",
              "\n",
              "                                         DESTAQUE_IEG_2020  \\\n",
              "NOME                                                         \n",
              "ALUNO-1  Seu destaque em 2020: A sua boa entrega das li...   \n",
              "ALUNO-2                                                NaN   \n",
              "ALUNO-3  Seu destaque em 2020: A sua boa entrega das li...   \n",
              "ALUNO-4  Ponto a melhorar em 2021: Melhorar a sua entre...   \n",
              "ALUNO-5  Seu destaque em 2020: A sua boa entrega das li...   \n",
              "\n",
              "                                         DESTAQUE_IDA_2020  ...  IPP_2022  \\\n",
              "NOME                                                        ...             \n",
              "ALUNO-1  Ponto a melhorar em 2021: Empenhar-se mais nas...  ...       NaN   \n",
              "ALUNO-2                                                NaN  ...  5.625000   \n",
              "ALUNO-3  Ponto a melhorar em 2021: Empenhar-se mais nas...  ...       NaN   \n",
              "ALUNO-4  Ponto a melhorar em 2021: Empenhar-se mais nas...  ...  6.250000   \n",
              "ALUNO-5  Seu destaque em 2020: As suas boas notas na Pa...  ...  6.458333   \n",
              "\n",
              "                  REC_AVA_1_2022         REC_AVA_2_2022  \\\n",
              "NOME                                                      \n",
              "ALUNO-1                      NaN                    NaN   \n",
              "ALUNO-2  Mantido na Fase + Bolsa  Mantido na Fase atual   \n",
              "ALUNO-3                      NaN                    NaN   \n",
              "ALUNO-4        Promovido de Fase  Mantido na Fase atual   \n",
              "ALUNO-5    Mantido na Fase atual      Promovido de Fase   \n",
              "\n",
              "                REC_AVA_3_2022 REC_AVA_4_2022 INDICADO_BOLSA_2022  \\\n",
              "NOME                                                                \n",
              "ALUNO-1                    NaN            NaN                 NaN   \n",
              "ALUNO-2                    NaN            NaN                 Sim   \n",
              "ALUNO-3                    NaN            NaN                 NaN   \n",
              "ALUNO-4      Promovido de Fase            NaN                 Não   \n",
              "ALUNO-5  Mantido na Fase atual            NaN                 Não   \n",
              "\n",
              "        PONTO_VIRADA_2022  IPV_2022  IAN_2022      NIVEL_IDEAL_2022  \n",
              "NOME                                                                 \n",
              "ALUNO-1               NaN       NaN       NaN                   NaN  \n",
              "ALUNO-2               Não  7.916665       5.0  Fase 2 (5º e 6º ano)  \n",
              "ALUNO-3               NaN       NaN       NaN                   NaN  \n",
              "ALUNO-4               Não  8.055553       5.0  Fase 3 (7º e 8º ano)  \n",
              "ALUNO-5               Não  7.833337       5.0  Fase 3 (7º e 8º ano)  \n",
              "\n",
              "[5 rows x 68 columns]"
            ],
            "text/html": [
              "\n",
              "  <div id=\"df-616292bf-417a-4905-a5f4-571e20c83dfc\" class=\"colab-df-container\">\n",
              "    <div>\n",
              "<style scoped>\n",
              "    .dataframe tbody tr th:only-of-type {\n",
              "        vertical-align: middle;\n",
              "    }\n",
              "\n",
              "    .dataframe tbody tr th {\n",
              "        vertical-align: top;\n",
              "    }\n",
              "\n",
              "    .dataframe thead th {\n",
              "        text-align: right;\n",
              "    }\n",
              "</style>\n",
              "<table border=\"1\" class=\"dataframe\">\n",
              "  <thead>\n",
              "    <tr style=\"text-align: right;\">\n",
              "      <th></th>\n",
              "      <th>INSTITUICAO_ENSINO_ALUNO_2020</th>\n",
              "      <th>IDADE_ALUNO_2020</th>\n",
              "      <th>ANOS_PM_2020</th>\n",
              "      <th>FASE_TURMA_2020</th>\n",
              "      <th>PONTO_VIRADA_2020</th>\n",
              "      <th>INDE_2020</th>\n",
              "      <th>INDE_CONCEITO_2020</th>\n",
              "      <th>PEDRA_2020</th>\n",
              "      <th>DESTAQUE_IEG_2020</th>\n",
              "      <th>DESTAQUE_IDA_2020</th>\n",
              "      <th>...</th>\n",
              "      <th>IPP_2022</th>\n",
              "      <th>REC_AVA_1_2022</th>\n",
              "      <th>REC_AVA_2_2022</th>\n",
              "      <th>REC_AVA_3_2022</th>\n",
              "      <th>REC_AVA_4_2022</th>\n",
              "      <th>INDICADO_BOLSA_2022</th>\n",
              "      <th>PONTO_VIRADA_2022</th>\n",
              "      <th>IPV_2022</th>\n",
              "      <th>IAN_2022</th>\n",
              "      <th>NIVEL_IDEAL_2022</th>\n",
              "    </tr>\n",
              "    <tr>\n",
              "      <th>NOME</th>\n",
              "      <th></th>\n",
              "      <th></th>\n",
              "      <th></th>\n",
              "      <th></th>\n",
              "      <th></th>\n",
              "      <th></th>\n",
              "      <th></th>\n",
              "      <th></th>\n",
              "      <th></th>\n",
              "      <th></th>\n",
              "      <th></th>\n",
              "      <th></th>\n",
              "      <th></th>\n",
              "      <th></th>\n",
              "      <th></th>\n",
              "      <th></th>\n",
              "      <th></th>\n",
              "      <th></th>\n",
              "      <th></th>\n",
              "      <th></th>\n",
              "      <th></th>\n",
              "    </tr>\n",
              "  </thead>\n",
              "  <tbody>\n",
              "    <tr>\n",
              "      <th>ALUNO-1</th>\n",
              "      <td>Escola Pública</td>\n",
              "      <td>11</td>\n",
              "      <td>2</td>\n",
              "      <td>2H</td>\n",
              "      <td>Não</td>\n",
              "      <td>7.883752</td>\n",
              "      <td>B</td>\n",
              "      <td>Ametista</td>\n",
              "      <td>Seu destaque em 2020: A sua boa entrega das li...</td>\n",
              "      <td>Ponto a melhorar em 2021: Empenhar-se mais nas...</td>\n",
              "      <td>...</td>\n",
              "      <td>NaN</td>\n",
              "      <td>NaN</td>\n",
              "      <td>NaN</td>\n",
              "      <td>NaN</td>\n",
              "      <td>NaN</td>\n",
              "      <td>NaN</td>\n",
              "      <td>NaN</td>\n",
              "      <td>NaN</td>\n",
              "      <td>NaN</td>\n",
              "      <td>NaN</td>\n",
              "    </tr>\n",
              "    <tr>\n",
              "      <th>ALUNO-2</th>\n",
              "      <td>NaN</td>\n",
              "      <td>NaN</td>\n",
              "      <td>NaN</td>\n",
              "      <td>NaN</td>\n",
              "      <td>NaN</td>\n",
              "      <td>NaN</td>\n",
              "      <td>NaN</td>\n",
              "      <td>NaN</td>\n",
              "      <td>NaN</td>\n",
              "      <td>NaN</td>\n",
              "      <td>...</td>\n",
              "      <td>5.625000</td>\n",
              "      <td>Mantido na Fase + Bolsa</td>\n",
              "      <td>Mantido na Fase atual</td>\n",
              "      <td>NaN</td>\n",
              "      <td>NaN</td>\n",
              "      <td>Sim</td>\n",
              "      <td>Não</td>\n",
              "      <td>7.916665</td>\n",
              "      <td>5.0</td>\n",
              "      <td>Fase 2 (5º e 6º ano)</td>\n",
              "    </tr>\n",
              "    <tr>\n",
              "      <th>ALUNO-3</th>\n",
              "      <td>Escola Pública</td>\n",
              "      <td>12</td>\n",
              "      <td>2</td>\n",
              "      <td>3H</td>\n",
              "      <td>Não</td>\n",
              "      <td>7.856389666666666</td>\n",
              "      <td>B</td>\n",
              "      <td>Ametista</td>\n",
              "      <td>Seu destaque em 2020: A sua boa entrega das li...</td>\n",
              "      <td>Ponto a melhorar em 2021: Empenhar-se mais nas...</td>\n",
              "      <td>...</td>\n",
              "      <td>NaN</td>\n",
              "      <td>NaN</td>\n",
              "      <td>NaN</td>\n",
              "      <td>NaN</td>\n",
              "      <td>NaN</td>\n",
              "      <td>NaN</td>\n",
              "      <td>NaN</td>\n",
              "      <td>NaN</td>\n",
              "      <td>NaN</td>\n",
              "      <td>NaN</td>\n",
              "    </tr>\n",
              "    <tr>\n",
              "      <th>ALUNO-4</th>\n",
              "      <td>Escola Pública</td>\n",
              "      <td>10</td>\n",
              "      <td>2</td>\n",
              "      <td>1D</td>\n",
              "      <td>Não</td>\n",
              "      <td>5.076252</td>\n",
              "      <td>D</td>\n",
              "      <td>Quartzo</td>\n",
              "      <td>Ponto a melhorar em 2021: Melhorar a sua entre...</td>\n",
              "      <td>Ponto a melhorar em 2021: Empenhar-se mais nas...</td>\n",
              "      <td>...</td>\n",
              "      <td>6.250000</td>\n",
              "      <td>Promovido de Fase</td>\n",
              "      <td>Mantido na Fase atual</td>\n",
              "      <td>Promovido de Fase</td>\n",
              "      <td>NaN</td>\n",
              "      <td>Não</td>\n",
              "      <td>Não</td>\n",
              "      <td>8.055553</td>\n",
              "      <td>5.0</td>\n",
              "      <td>Fase 3 (7º e 8º ano)</td>\n",
              "    </tr>\n",
              "    <tr>\n",
              "      <th>ALUNO-5</th>\n",
              "      <td>Escola Pública</td>\n",
              "      <td>10</td>\n",
              "      <td>1</td>\n",
              "      <td>2M</td>\n",
              "      <td>Não</td>\n",
              "      <td>8.077085</td>\n",
              "      <td>B</td>\n",
              "      <td>Ametista</td>\n",
              "      <td>Seu destaque em 2020: A sua boa entrega das li...</td>\n",
              "      <td>Seu destaque em 2020: As suas boas notas na Pa...</td>\n",
              "      <td>...</td>\n",
              "      <td>6.458333</td>\n",
              "      <td>Mantido na Fase atual</td>\n",
              "      <td>Promovido de Fase</td>\n",
              "      <td>Mantido na Fase atual</td>\n",
              "      <td>NaN</td>\n",
              "      <td>Não</td>\n",
              "      <td>Não</td>\n",
              "      <td>7.833337</td>\n",
              "      <td>5.0</td>\n",
              "      <td>Fase 3 (7º e 8º ano)</td>\n",
              "    </tr>\n",
              "  </tbody>\n",
              "</table>\n",
              "<p>5 rows × 68 columns</p>\n",
              "</div>\n",
              "    <div class=\"colab-df-buttons\">\n",
              "\n",
              "  <div class=\"colab-df-container\">\n",
              "    <button class=\"colab-df-convert\" onclick=\"convertToInteractive('df-616292bf-417a-4905-a5f4-571e20c83dfc')\"\n",
              "            title=\"Convert this dataframe to an interactive table.\"\n",
              "            style=\"display:none;\">\n",
              "\n",
              "  <svg xmlns=\"http://www.w3.org/2000/svg\" height=\"24px\" viewBox=\"0 -960 960 960\">\n",
              "    <path d=\"M120-120v-720h720v720H120Zm60-500h600v-160H180v160Zm220 220h160v-160H400v160Zm0 220h160v-160H400v160ZM180-400h160v-160H180v160Zm440 0h160v-160H620v160ZM180-180h160v-160H180v160Zm440 0h160v-160H620v160Z\"/>\n",
              "  </svg>\n",
              "    </button>\n",
              "\n",
              "  <style>\n",
              "    .colab-df-container {\n",
              "      display:flex;\n",
              "      gap: 12px;\n",
              "    }\n",
              "\n",
              "    .colab-df-convert {\n",
              "      background-color: #E8F0FE;\n",
              "      border: none;\n",
              "      border-radius: 50%;\n",
              "      cursor: pointer;\n",
              "      display: none;\n",
              "      fill: #1967D2;\n",
              "      height: 32px;\n",
              "      padding: 0 0 0 0;\n",
              "      width: 32px;\n",
              "    }\n",
              "\n",
              "    .colab-df-convert:hover {\n",
              "      background-color: #E2EBFA;\n",
              "      box-shadow: 0px 1px 2px rgba(60, 64, 67, 0.3), 0px 1px 3px 1px rgba(60, 64, 67, 0.15);\n",
              "      fill: #174EA6;\n",
              "    }\n",
              "\n",
              "    .colab-df-buttons div {\n",
              "      margin-bottom: 4px;\n",
              "    }\n",
              "\n",
              "    [theme=dark] .colab-df-convert {\n",
              "      background-color: #3B4455;\n",
              "      fill: #D2E3FC;\n",
              "    }\n",
              "\n",
              "    [theme=dark] .colab-df-convert:hover {\n",
              "      background-color: #434B5C;\n",
              "      box-shadow: 0px 1px 3px 1px rgba(0, 0, 0, 0.15);\n",
              "      filter: drop-shadow(0px 1px 2px rgba(0, 0, 0, 0.3));\n",
              "      fill: #FFFFFF;\n",
              "    }\n",
              "  </style>\n",
              "\n",
              "    <script>\n",
              "      const buttonEl =\n",
              "        document.querySelector('#df-616292bf-417a-4905-a5f4-571e20c83dfc button.colab-df-convert');\n",
              "      buttonEl.style.display =\n",
              "        google.colab.kernel.accessAllowed ? 'block' : 'none';\n",
              "\n",
              "      async function convertToInteractive(key) {\n",
              "        const element = document.querySelector('#df-616292bf-417a-4905-a5f4-571e20c83dfc');\n",
              "        const dataTable =\n",
              "          await google.colab.kernel.invokeFunction('convertToInteractive',\n",
              "                                                    [key], {});\n",
              "        if (!dataTable) return;\n",
              "\n",
              "        const docLinkHtml = 'Like what you see? Visit the ' +\n",
              "          '<a target=\"_blank\" href=https://colab.research.google.com/notebooks/data_table.ipynb>data table notebook</a>'\n",
              "          + ' to learn more about interactive tables.';\n",
              "        element.innerHTML = '';\n",
              "        dataTable['output_type'] = 'display_data';\n",
              "        await google.colab.output.renderOutput(dataTable, element);\n",
              "        const docLink = document.createElement('div');\n",
              "        docLink.innerHTML = docLinkHtml;\n",
              "        element.appendChild(docLink);\n",
              "      }\n",
              "    </script>\n",
              "  </div>\n",
              "\n",
              "\n",
              "<div id=\"df-64871779-b117-4697-9638-4d24f914f65b\">\n",
              "  <button class=\"colab-df-quickchart\" onclick=\"quickchart('df-64871779-b117-4697-9638-4d24f914f65b')\"\n",
              "            title=\"Suggest charts\"\n",
              "            style=\"display:none;\">\n",
              "\n",
              "<svg xmlns=\"http://www.w3.org/2000/svg\" height=\"24px\"viewBox=\"0 0 24 24\"\n",
              "     width=\"24px\">\n",
              "    <g>\n",
              "        <path d=\"M19 3H5c-1.1 0-2 .9-2 2v14c0 1.1.9 2 2 2h14c1.1 0 2-.9 2-2V5c0-1.1-.9-2-2-2zM9 17H7v-7h2v7zm4 0h-2V7h2v10zm4 0h-2v-4h2v4z\"/>\n",
              "    </g>\n",
              "</svg>\n",
              "  </button>\n",
              "\n",
              "<style>\n",
              "  .colab-df-quickchart {\n",
              "      --bg-color: #E8F0FE;\n",
              "      --fill-color: #1967D2;\n",
              "      --hover-bg-color: #E2EBFA;\n",
              "      --hover-fill-color: #174EA6;\n",
              "      --disabled-fill-color: #AAA;\n",
              "      --disabled-bg-color: #DDD;\n",
              "  }\n",
              "\n",
              "  [theme=dark] .colab-df-quickchart {\n",
              "      --bg-color: #3B4455;\n",
              "      --fill-color: #D2E3FC;\n",
              "      --hover-bg-color: #434B5C;\n",
              "      --hover-fill-color: #FFFFFF;\n",
              "      --disabled-bg-color: #3B4455;\n",
              "      --disabled-fill-color: #666;\n",
              "  }\n",
              "\n",
              "  .colab-df-quickchart {\n",
              "    background-color: var(--bg-color);\n",
              "    border: none;\n",
              "    border-radius: 50%;\n",
              "    cursor: pointer;\n",
              "    display: none;\n",
              "    fill: var(--fill-color);\n",
              "    height: 32px;\n",
              "    padding: 0;\n",
              "    width: 32px;\n",
              "  }\n",
              "\n",
              "  .colab-df-quickchart:hover {\n",
              "    background-color: var(--hover-bg-color);\n",
              "    box-shadow: 0 1px 2px rgba(60, 64, 67, 0.3), 0 1px 3px 1px rgba(60, 64, 67, 0.15);\n",
              "    fill: var(--button-hover-fill-color);\n",
              "  }\n",
              "\n",
              "  .colab-df-quickchart-complete:disabled,\n",
              "  .colab-df-quickchart-complete:disabled:hover {\n",
              "    background-color: var(--disabled-bg-color);\n",
              "    fill: var(--disabled-fill-color);\n",
              "    box-shadow: none;\n",
              "  }\n",
              "\n",
              "  .colab-df-spinner {\n",
              "    border: 2px solid var(--fill-color);\n",
              "    border-color: transparent;\n",
              "    border-bottom-color: var(--fill-color);\n",
              "    animation:\n",
              "      spin 1s steps(1) infinite;\n",
              "  }\n",
              "\n",
              "  @keyframes spin {\n",
              "    0% {\n",
              "      border-color: transparent;\n",
              "      border-bottom-color: var(--fill-color);\n",
              "      border-left-color: var(--fill-color);\n",
              "    }\n",
              "    20% {\n",
              "      border-color: transparent;\n",
              "      border-left-color: var(--fill-color);\n",
              "      border-top-color: var(--fill-color);\n",
              "    }\n",
              "    30% {\n",
              "      border-color: transparent;\n",
              "      border-left-color: var(--fill-color);\n",
              "      border-top-color: var(--fill-color);\n",
              "      border-right-color: var(--fill-color);\n",
              "    }\n",
              "    40% {\n",
              "      border-color: transparent;\n",
              "      border-right-color: var(--fill-color);\n",
              "      border-top-color: var(--fill-color);\n",
              "    }\n",
              "    60% {\n",
              "      border-color: transparent;\n",
              "      border-right-color: var(--fill-color);\n",
              "    }\n",
              "    80% {\n",
              "      border-color: transparent;\n",
              "      border-right-color: var(--fill-color);\n",
              "      border-bottom-color: var(--fill-color);\n",
              "    }\n",
              "    90% {\n",
              "      border-color: transparent;\n",
              "      border-bottom-color: var(--fill-color);\n",
              "    }\n",
              "  }\n",
              "</style>\n",
              "\n",
              "  <script>\n",
              "    async function quickchart(key) {\n",
              "      const quickchartButtonEl =\n",
              "        document.querySelector('#' + key + ' button');\n",
              "      quickchartButtonEl.disabled = true;  // To prevent multiple clicks.\n",
              "      quickchartButtonEl.classList.add('colab-df-spinner');\n",
              "      try {\n",
              "        const charts = await google.colab.kernel.invokeFunction(\n",
              "            'suggestCharts', [key], {});\n",
              "      } catch (error) {\n",
              "        console.error('Error during call to suggestCharts:', error);\n",
              "      }\n",
              "      quickchartButtonEl.classList.remove('colab-df-spinner');\n",
              "      quickchartButtonEl.classList.add('colab-df-quickchart-complete');\n",
              "    }\n",
              "    (() => {\n",
              "      let quickchartButtonEl =\n",
              "        document.querySelector('#df-64871779-b117-4697-9638-4d24f914f65b button');\n",
              "      quickchartButtonEl.style.display =\n",
              "        google.colab.kernel.accessAllowed ? 'block' : 'none';\n",
              "    })();\n",
              "  </script>\n",
              "</div>\n",
              "\n",
              "    </div>\n",
              "  </div>\n"
            ],
            "application/vnd.google.colaboratory.intrinsic+json": {
              "type": "dataframe",
              "variable_name": "df"
            }
          },
          "metadata": {},
          "execution_count": 24
        }
      ],
      "source": [
        "df_2020[\"FASE_2020\"] = df_2020[\"FASE_2020\"].astype(\"category\")\n",
        "df.head(5)"
      ]
    },
    {
      "cell_type": "markdown",
      "metadata": {
        "id": "25_VdbkYtSGq"
      },
      "source": [
        "#### Turma do Aluno na Passos Magicos em 2020"
      ]
    },
    {
      "cell_type": "code",
      "execution_count": 25,
      "metadata": {
        "id": "AmhABGaNtSGq"
      },
      "outputs": [],
      "source": [
        "df_turma = df_2020['FASE_TURMA_2020'].astype(str).str[1]"
      ]
    },
    {
      "cell_type": "code",
      "execution_count": 26,
      "metadata": {
        "id": "ThtX8CwHtSGq"
      },
      "outputs": [],
      "source": [
        "df_2020.insert(4,\"TURMA_2020\", df_turma)"
      ]
    },
    {
      "cell_type": "code",
      "execution_count": 27,
      "metadata": {
        "colab": {
          "base_uri": "https://localhost:8080/"
        },
        "id": "7d3UNEyHtSGq",
        "outputId": "eb1186ee-f981-46f3-8c4c-44952a68d59e"
      },
      "outputs": [
        {
          "output_type": "execute_result",
          "data": {
            "text/plain": [
              "array(['H', 'D', 'M', 'L', 'B', 'A', 'G', 'E', 'J', 'C', 'N', 'F', 'X',\n",
              "       'R', 'P', 'K'], dtype=object)"
            ]
          },
          "metadata": {},
          "execution_count": 27
        }
      ],
      "source": [
        "df_2020[\"TURMA_2020\"].unique()"
      ]
    },
    {
      "cell_type": "code",
      "execution_count": 28,
      "metadata": {
        "id": "tvDwkSjQtSGq"
      },
      "outputs": [],
      "source": [
        "df_2020[\"TURMA_2020\"] = df_2020[\"TURMA_2020\"].astype(\"category\")"
      ]
    },
    {
      "cell_type": "code",
      "execution_count": 29,
      "metadata": {
        "id": "w5dbzPJQtSGq"
      },
      "outputs": [],
      "source": [
        "df_2020 = df_2020.drop(['FASE_TURMA_2020'], axis=1)"
      ]
    },
    {
      "cell_type": "markdown",
      "metadata": {
        "id": "8bkzho8gtSGq"
      },
      "source": [
        "#### Campo do Tipo Booleano que sinaliza se o Aluno atingiu o “Ponto de Virada” em 2020"
      ]
    },
    {
      "cell_type": "code",
      "execution_count": 30,
      "metadata": {
        "colab": {
          "base_uri": "https://localhost:8080/"
        },
        "id": "CU6Sm31xtSGz",
        "outputId": "48f325d6-cf9d-44c9-8c80-785a02f82140"
      },
      "outputs": [
        {
          "output_type": "execute_result",
          "data": {
            "text/plain": [
              "array(['Não', 'Sim', nan], dtype=object)"
            ]
          },
          "metadata": {},
          "execution_count": 30
        }
      ],
      "source": [
        "df_2020['PONTO_VIRADA_2020'].unique()"
      ]
    },
    {
      "cell_type": "code",
      "execution_count": 31,
      "metadata": {
        "colab": {
          "base_uri": "https://localhost:8080/"
        },
        "id": "XfKJVCNytSGz",
        "outputId": "d0cb2aa5-6b7d-44cb-8451-545339727251"
      },
      "outputs": [
        {
          "output_type": "execute_result",
          "data": {
            "text/plain": [
              "26"
            ]
          },
          "metadata": {},
          "execution_count": 31
        }
      ],
      "source": [
        "df_2020['PONTO_VIRADA_2020'].isna().sum()"
      ]
    },
    {
      "cell_type": "code",
      "execution_count": 32,
      "metadata": {
        "id": "x4Xz6fibtSGz"
      },
      "outputs": [],
      "source": [
        "df_2020['PONTO_VIRADA_2020'] = df_2020['PONTO_VIRADA_2020'].fillna(\"Não se Aplica\")"
      ]
    },
    {
      "cell_type": "code",
      "execution_count": 33,
      "metadata": {
        "id": "B17OTV81tSGz"
      },
      "outputs": [],
      "source": [
        "df_2020[\"PONTO_VIRADA_2020\"] = df_2020[\"PONTO_VIRADA_2020\"].astype(\"category\")"
      ]
    },
    {
      "cell_type": "markdown",
      "metadata": {
        "id": "Y0_5k8gNtSGz"
      },
      "source": [
        "#### Indice do Desenvolvimento Educacional – Metrica de Processo Avaliativo Geral do Aluno"
      ]
    },
    {
      "cell_type": "code",
      "execution_count": 34,
      "metadata": {
        "colab": {
          "base_uri": "https://localhost:8080/"
        },
        "id": "ZifBMB0_tSGz",
        "outputId": "fcf0cfe5-09ab-4af9-f630-347497bc1578"
      },
      "outputs": [
        {
          "output_type": "execute_result",
          "data": {
            "text/plain": [
              "array(['7.883752', '7.856389666666666', '5.076252', '8.077085',\n",
              "       '8.381390666666666', '5.1618745', '9.712504000000001',\n",
              "       '5.838887333333334', '6.434585', '5.162502', '7.766252',\n",
              "       '7.2055576666666665', '9.354725666666667', '7.125001',\n",
              "       '7.013888333333334', '7.698890666666667', '6.64396',\n",
              "       '8.307780333333334', '6.6788913333333335', '8.131388333333334',\n",
              "       '7.460002', '7.8052090000000005', '6.218335', '6.631252',\n",
              "       '6.966669', '8.955835', '8.181112666666667', '8.696667999999999',\n",
              "       '6.878125166666666', '7.311667166666667', '6.563055666666668',\n",
              "       '7.679582333333333', '5.604168666666667', '6.330001333333334',\n",
              "       '5.988752', '7.550001', '9.687504', '8.958334', '7.352085',\n",
              "       '6.499723333333334', '7.386391000000001', '7.954169',\n",
              "       '8.155003333333333', '8.750001000000001', '7.263334',\n",
              "       '5.688333833333334', '8.188612666666666', '9.040420000000001',\n",
              "       '7.937502', '7.073542833333333', '6.846668', '6.7552085',\n",
              "       '7.336876333333333', '6.432500999999999', '7.393752',\n",
              "       '6.908335000000001', '7.966668666666667', '8.597919000000001',\n",
              "       '8.516877', '8.450002', '6.8535425', '6.448887666666667',\n",
              "       '7.693335000000001', '5.331389333333334', '8.032085', '8.342085',\n",
              "       '7.895835000000001', '7.187502', '5.854169000000001', '7.344792',\n",
              "       '8.428752', '7.798752', '4.643056', '6.105834000000001',\n",
              "       '8.345001166666666', '6.385835333333334', '5.934724000000001',\n",
              "       '7.131667', '8.238891333333333', '7.963542166666667',\n",
              "       '8.167711833333334', '5.8845849999999995', '7.1105566666666675',\n",
              "       '7.177224000000001', '6.064722', '4.478057333333334', '8.891667',\n",
              "       '7.953752000000001', '6.440002', '7.708752', '8.431252',\n",
              "       '8.082224', '7.800001000000001', '3.7383341666666663', '7.921668',\n",
              "       '7.862503', '8.257224', '6.314166333333334', '6.41389', '7.744167',\n",
              "       '7.2558353333333345', '8.733751333333334', '4.854723333333333',\n",
              "       '8.539168666666667', '7.1214596666666665', '8.832500666666666',\n",
              "       '5.518958', '6.658610666666666', '7.355834833333334',\n",
              "       '7.718541500000001', '3.7799986666666667', '5.2162495',\n",
              "       '7.8425020000000005', '9.075004', '8.213058666666669', '6.345836',\n",
              "       '8.081669333333334', '8.874585000000002', '5.960001', '8.942503',\n",
              "       '7.832084999999999', '8.478752', '6.59278', '8.845558333333333',\n",
              "       '7.849446666666667', '5.981250166666666', '5.890556',\n",
              "       '5.0047223333333335', '5.9597921666666664', '8.125001833333334',\n",
              "       '6.492502', '7.285002', '6.707085000000001', '7.6391686666666665',\n",
              "       '8.575835333333334', '8.753335833333333', '7.251668666666667',\n",
              "       '8.221251333333335', '8.386113666666667', '7.630557666666667',\n",
              "       '8.336252', '8.370558666666668', '7.099168666666667',\n",
              "       '7.1900010000000005', '4.386945333333334', '6.113055666666667',\n",
              "       '6.399376666666667', '8.018889999999999', '8.240834333333334',\n",
              "       '6.6462520000000005', '7.901875833333333', '5.112502', '6.956252',\n",
              "       '8.302085', '6.840002', '8.485558666666666', '4.4162505',\n",
              "       '7.586252', '7.713335', '7.201112', '6.3366690000000006',\n",
              "       '8.388334', '6.776668000000001', '8.848335333333335',\n",
              "       '7.361390666666666', '3.8914599999999995', '8.200002000000001',\n",
              "       '8.508890666666668', '7.9000010000000005', '9.461114666666667',\n",
              "       '6.4275009999999995', '8.300001000000002', '7.1833350000000005',\n",
              "       '4.9156245', '6.053335000000001', '8.064375833333333',\n",
              "       '6.858541000000001', '7.9835415', '7.680002', '8.258057333333333',\n",
              "       '7.470837', '8.952223333333334', '5.9127081666666665', '8.137224',\n",
              "       '7.595277333333334', '9.096668', '8.133752000000001',\n",
              "       '7.582500666666667', '4.348541', '8.5', '8.418752000000001',\n",
              "       '7.79167', '9.200004', '7.165556666666667', '4.656042',\n",
              "       '6.407502000000001', '8.175279333333334', '5.668335', '7.813335',\n",
              "       '8.396044333333334', '8.325834666666669', '8.695001000000001',\n",
              "       '8.613335', '7.379792666666667', '6.816668000000001',\n",
              "       '6.216666833333334', '9.335420000000001', '7.412223000000001',\n",
              "       '7.9691670000000006', '5.6825', '5.3950000000000005', '6.443336',\n",
              "       '8.848334000000001', '7.918752', '7.338057', '6.289445333333333',\n",
              "       '7.0419453333333335', '8.404168666666667', '7.425278666666666',\n",
              "       '7.212501333333334', '5.934999666666666', '7.454722',\n",
              "       '7.687500833333334', '4.233888', '4.864168666666667',\n",
              "       '8.410210333333334', '8.318544833333334', '7.978752000000001',\n",
              "       '8.289376333333333', '9.316669000000001', '5.773612',\n",
              "       '7.780279333333334', '7.137293833333334', '7.912085',\n",
              "       '7.131665666666668', '6.645835333333333', '6.814172000000001',\n",
              "       '7.312779666666668', '7.808335333333335', '4.931111666666667',\n",
              "       '7.599446', '8.216668', '7.670558000000001', '6.662085000000001',\n",
              "       '7', '7.510557333333334', '8.745557333333332', '6.957083833333334',\n",
              "       '7.322224', '5.682502', '8.586392000000002', '5.9116686666666665',\n",
              "       '5.535835333333334', '5.938332666666667', '8.113544166666667',\n",
              "       '7.248334333333334', '8.291043', '6.841113666666667',\n",
              "       '5.782291333333333', '6.622917999999999', '7.426390666666667',\n",
              "       '8.347085000000002', '8.223057333333335', '7.809445333333334',\n",
              "       '8.033612666666667', '8.101250333333333', '5.791112666666667',\n",
              "       '6.578056666666668', '8.342224', '8.374169333333333', '5.703335',\n",
              "       '5.862502000000001', '8.78125', '6.512222666666668',\n",
              "       '8.003127333333333', '6.662084', '7.602290666666668', '8.651667',\n",
              "       '8.688544833333335', '8.308752', '7.771876666666667',\n",
              "       '8.179167666666668', '7.233337000000001', '8.783335000000001',\n",
              "       '8.008612333333332', '8.215626166666667', '8.302779666666668',\n",
              "       '8.734168', '7.521039666666667', '6.953335333333333',\n",
              "       '8.320209166666666', '8.17278', '8.647224666666666', '7.495419',\n",
              "       '8.362502000000001', '7.903127833333334', '5.045418000000001',\n",
              "       '7.579446666666667', '5.635834000000001', '8.306252', '6.958335',\n",
              "       '7.482502', '9.098057333333333', '6.706112', '6.742502000000001',\n",
              "       '4.928614333333334', '7.275557333333333', '4.5827085',\n",
              "       '5.7302773333333334', '7.816668666666667', '7.702085', '5.866251',\n",
              "       '6.8558346666666665', '6.0124986666666675', '8.356669333333334',\n",
              "       '7.288543499999999', '7.724721333333334', '9.233336',\n",
              "       '7.682224000000001', '7.638334333333334', '5.295835333333334',\n",
              "       '7.841669', '4.741112333333334', '7.424375833333333', '6.519446',\n",
              "       '7.982502', '8.664586', '7.393334666666667', '7.965557333333334',\n",
              "       '5.838957500000001', '6.027084833333334', '6.566667000000001',\n",
              "       '5.283540833333333', '6.1987499999999995', '6.068611666666667',\n",
              "       '8.470210166666668', '7.342223333333333', '7.556458833333334',\n",
              "       '7.580834333333334', '6.570001', '7.457292333333335',\n",
              "       '6.560557333333334', '5.504166166666667', '9.616671', '7.748336',\n",
              "       '4.515278666666667', '7.741390666666668', '6.487222666666668',\n",
              "       '5.227220000000001', '5.785002', '7.048958833333334',\n",
              "       '7.016667999999999', '6.890001000000001', '6.277778666666666',\n",
              "       '6.1470839999999995', '6.004582666666666', '5.708056666666667',\n",
              "       '6.906668', '6.067778', '7.159376333333334', '8.003890666666667',\n",
              "       '8.626253', '8.600003000000001', '7.811252000000001',\n",
              "       '7.201112666666667', '6.569166666666667', '8.470279333333334',\n",
              "       '8.776947333333334', '5.8327085', '8.261668', '7.377085000000001',\n",
              "       '9.219448333333334', '3.831041', '7.728335333333334',\n",
              "       '8.195835666666667', '7.561112', '7.709585000000001',\n",
              "       '3.925834666666667', '7.75542', '4.72222', '7.079375000000001',\n",
              "       '5.648752', '8.138752', '7.301666', '7.867223333333334',\n",
              "       '7.730002000000001', '7.767919', '6.893959333333333',\n",
              "       '7.776669999999999', '7.694168666666667', '8.25',\n",
              "       '8.631250000000001', '7.778336', '7.008611666666667',\n",
              "       '6.792780666666667', '6.966111333333335', '8.818057333333334',\n",
              "       '8.340419', '7.590002', '7.794168000000001', '8.004724',\n",
              "       '8.431669', '7.588752', '6.066944666666666', '5.550414999999999',\n",
              "       '7.709168666666667', '5.546668666666667', '5.688333333333334',\n",
              "       '6.325276333333333', '5.660002', '7.861945333333334',\n",
              "       '6.730835000000001', '6.437778666666668', '7.851389666666667',\n",
              "       '7.044585', '8.070001999999999', '7.458336000000001',\n",
              "       '8.703753666666667', '7.940418', '7.993333000000001',\n",
              "       '5.075208833333333', '5.955279', '8.890836', '8.154376000000001',\n",
              "       '6.502500333333334', '5.549445666666667', '6.485277', '7.735417',\n",
              "       '7.4341680000000006', '6.240207333333333', '7.436114000000001',\n",
              "       '8.641250000000001', '6.824446333333334', '7.096875',\n",
              "       '7.7272240000000005', '7.854724666666667', '5.591389333333334',\n",
              "       '7.012085000000001', '6.48', '8.103542166666667',\n",
              "       '8.435835666666668', '6.995835000000001', '8.812502', '5.065416',\n",
              "       '4.682222333333334', '9.198059333333333', '7.783335',\n",
              "       '8.118749000000001', '8.281114', '7.971252', '8.615210166666667',\n",
              "       '6.857223333333333', '6.979172000000001', '8.091669', '8.196669',\n",
              "       '8.388752', '6.864723333333334', '8.341669000000001',\n",
              "       '8.332223666666668', '7.1236120000000005', '8.450835333333334',\n",
              "       '7.751390666666667', '5.730206833333334', '6.381112000000001',\n",
              "       '7.503891', '6.508056333333332', '9.098615', '7.889583000000001',\n",
              "       '5.032083', '4.045624', '7.9133346666666675', '7.487501000000001',\n",
              "       '4.603611', '6.988332833333334', '7.432918', '7.8575013333333334',\n",
              "       '8.186876333333334', '7.6499999999999995', '7.356112666666667',\n",
              "       '8.590003000000001', '8.448612666666666', '8.080835',\n",
              "       '8.345835333333333', '8.558752', '6.996391333333334', '7.506112',\n",
              "       '7.706946333333334', '7.543335000000001', '4.8113893333333335',\n",
              "       '8.71667', '6.593890666666667', '7.633752', '6.867500666666667',\n",
              "       '7.698057333333334', '8.799447333333335', '7.105001', '7.812502',\n",
              "       '7.7166690000000004', '8.885835', '7.9385425000000005',\n",
              "       '8.927781333333334', '8.118335333333334', '7.156668',\n",
              "       '6.241251999999999', '4.328750666666667', '6.5970838333333335',\n",
              "       '4.745832666666667', '8.5077105', '8.893334', '7.1305570000000005',\n",
              "       '7.589375500000001', '7.2879190000000005', '7.400002000000001',\n",
              "       '7.648612', '8.537502', '8.297085166666667', '4.465625',\n",
              "       '8.372780333333333', '8.231250000000001', '7.526252',\n",
              "       '9.064585000000001', '8.427224', '8.384169', '7.745835',\n",
              "       '7.336111333333334', '7.941252', '5.510277666666668',\n",
              "       '7.360557333333334', '8.161668666666667', '7.0766670000000005',\n",
              "       '8.418335', '7.671946', '8.426390666666666', '8.659168666666668',\n",
              "       '5.500834', '8.032502000000001', '7.073614000000001',\n",
              "       '5.580831333333333', '7.1841680000000006', '8.116390666666666',\n",
              "       '7.7897240000000005', '5.311390666666667', '7.000417666666667',\n",
              "       '7.886668666666667', '6.7994460000000005', '7.32', '7.5256255',\n",
              "       '8.677223999999999', '7.736390666666667', '8.982502',\n",
              "       '7.004444666666667', '8.114724', '7.598890333333334',\n",
              "       '7.675002000000001', '7.8105573333333345', '7.5266693333333325',\n",
              "       '8.582085', '8.765835000000001', '6.964446', '8.052502',\n",
              "       '7.433890666666667', '8.473890666666668', '4.995277333333333',\n",
              "       '6.252775000000001', '6.250001', '6.7829180000000004', '8.780002',\n",
              "       '3.7622213333333336', '8.069793166666667', '7.73389',\n",
              "       '8.352502999999999', '9.166669', '7.751391333333333',\n",
              "       '8.263334666666667', '4.701666666666667', '7.793543333333334',\n",
              "       '7.993334666666667', '4.833887333333333', '6.254445333333334',\n",
              "       '4.336873833333334', '7.940278666666668', '8.312502',\n",
              "       '7.6333340000000005', '8.193334333333334', '8.796113333333334',\n",
              "       '8.254168', '7.804168000000001', '6.602502', '5.2535425',\n",
              "       '8.308336', '6.205209666666667', '7.635279333333334',\n",
              "       '6.116945666666667', '8.900004', '6.611668', '5.3102075',\n",
              "       '7.297778666666666', '8.041252', '9.116669', '7.818543333333334',\n",
              "       '8.976668', '6.394585', '7.648752', '7.7341690000000005',\n",
              "       '7.852501999999999', '6.8100005', '8.541252', '8.266390000000001',\n",
              "       '7.356669999999999', '8.229169833333334', '8.035278666666667',\n",
              "       '8.788613333333334', '7.046043', '7.131251333333334',\n",
              "       '5.431249666666666', '7.178543166666667', '7.7379188333333335',\n",
              "       '9.338335', '7.4925006666666665', '6.9812520000000005',\n",
              "       '5.968749333333333', '6.225555333333334', '3.0650014999999997',\n",
              "       '7.029166999999999', '8.673890666666669', '8.281250333333332',\n",
              "       '8.818335000000001', '8.552224666666667', '6.2183348333333335',\n",
              "       '8.080002', '5.6905573333333335', '7.627502', '8.043751',\n",
              "       '8.178752', '8.925003', '6.268752', '4.420833666666667',\n",
              "       '7.3906255000000005', '5.367224', '8.233335', '5.692918',\n",
              "       '7.745836000000001', '7.060279333333334', '5.461458666666667',\n",
              "       '9.218335', '8.100557333333333', '6.828125666666667',\n",
              "       '6.912779333333333', '8.153752', '7.820418166666667',\n",
              "       '6.790556666666666', '7.520000166666668', '8.962503', '8.700003',\n",
              "       '7.218335', '8.443336', '8.840628', '7.974724666666667',\n",
              "       '7.533542000000001', '8.350558', '5.984724', '8.129724666666666',\n",
              "       '7.600000666666666', '7.917778666666665', '7.5670823333333335',\n",
              "       '6.0041660000000014', '6.008751', '6.985000666666667', '8.539168',\n",
              "       '4.179721333333333', '8.742502000000002', '8.442778666666666',\n",
              "       '8.006044', '6.484720666666667', '7.613959833333333',\n",
              "       '5.802082833333333', '7.429166', '6.518752000000001', '5.397779',\n",
              "       '7.6402105', '7.975835333333334', '5.436457833333334',\n",
              "       '6.840279333333334', '8.110557333333334', '8.124446333333335',\n",
              "       '7.463612666666667', '7.448612666666667', '7.942502666666667',\n",
              "       '8.718752', '7.639723666666667', '7.31667', '8.381459166666666',\n",
              "       '6.301668', '6.793611000000001', '8.61125', '7.16667', '6.728749',\n",
              "       '6.120001333333334', '7.183333999999999', '8.050834666666667',\n",
              "       '8.949447333333334', '3.8519446666666672', '4.4933325',\n",
              "       '6.846252000000001', '7.080833833333333', '8.546669',\n",
              "       '7.819792333333333', '4.3272233333333325', '6.2175020000000005',\n",
              "       '7.887501166666667', '5.189999333333334', '5.655001', '8.500003',\n",
              "       '7.255001', '7.898334666666667', '8.049168666666667',\n",
              "       '8.000835333333335', '5.3245830000000005', '7.285836',\n",
              "       '5.584721333333334', '8.332502999999999', '7.922223333333333',\n",
              "       '8.430002833333335', '5.841667000000001', '6.449445333333334',\n",
              "       '7.158543333333334', '7.842224333333333'], dtype=object)"
            ]
          },
          "metadata": {},
          "execution_count": 34
        }
      ],
      "source": [
        "df_2020[\"INDE_2020\"].unique()"
      ]
    },
    {
      "cell_type": "code",
      "execution_count": 35,
      "metadata": {
        "colab": {
          "base_uri": "https://localhost:8080/"
        },
        "id": "FRY8MF5CtSGz",
        "outputId": "f8eb9fd0-46cf-4b8f-a91f-43f83d237eaa"
      },
      "outputs": [
        {
          "output_type": "execute_result",
          "data": {
            "text/plain": [
              "0"
            ]
          },
          "metadata": {},
          "execution_count": 35
        }
      ],
      "source": [
        "df_2020['INDE_2020'].isna().sum()"
      ]
    },
    {
      "cell_type": "code",
      "execution_count": 36,
      "metadata": {
        "id": "q-wk5zH2tSG0"
      },
      "outputs": [],
      "source": [
        "df_2020['INDE_2020'] = df_2020['INDE_2020'].astype(pd.Float64Dtype())"
      ]
    },
    {
      "cell_type": "code",
      "execution_count": 37,
      "metadata": {
        "id": "iuFeIOubtSG0"
      },
      "outputs": [],
      "source": [
        "df_2020['INDE_2020'] = np.round(df_2020['INDE_2020'], decimals=3)"
      ]
    },
    {
      "cell_type": "markdown",
      "metadata": {
        "id": "yfIATWgctSG0"
      },
      "source": [
        "#### INDE Conceito"
      ]
    },
    {
      "cell_type": "code",
      "execution_count": 38,
      "metadata": {
        "colab": {
          "base_uri": "https://localhost:8080/"
        },
        "id": "gC5w0KcWtSG0",
        "outputId": "9ed2cd6d-1a95-4a99-9787-115b9ca17eb6"
      },
      "outputs": [
        {
          "output_type": "execute_result",
          "data": {
            "text/plain": [
              "array(['B', 'D', 'A', 'C'], dtype=object)"
            ]
          },
          "metadata": {},
          "execution_count": 38
        }
      ],
      "source": [
        "# Category\n",
        "df_2020['INDE_CONCEITO_2020'].unique()"
      ]
    },
    {
      "cell_type": "code",
      "source": [],
      "metadata": {
        "id": "5xuBnD6g414K"
      },
      "execution_count": 38,
      "outputs": []
    },
    {
      "cell_type": "code",
      "execution_count": 39,
      "metadata": {
        "id": "rk3TaScltSG0"
      },
      "outputs": [],
      "source": [
        "df_2020[\"INDE_CONCEITO_2020\"] = df_2020[\"INDE_CONCEITO_2020\"].astype(\"category\")"
      ]
    },
    {
      "cell_type": "markdown",
      "metadata": {
        "id": "IE3YTguRtSG0"
      },
      "source": [
        "### Classificaça o do Aluno baseado no nu mero do INDE, o conceito de classificaça o e dado por:\n",
        "####Quartzo – 2,405 a 5,506\n",
        "####Agata – 5,506 a 6,868\n",
        "####Ametista – 6,868 a 8,230\n",
        "####Topazio – 8,230 a 9,294."
      ]
    },
    {
      "cell_type": "code",
      "execution_count": 40,
      "metadata": {
        "colab": {
          "base_uri": "https://localhost:8080/"
        },
        "id": "D11unCXwtSG0",
        "outputId": "f26cfea9-1014-49de-820b-bd82289a2ed6"
      },
      "outputs": [
        {
          "output_type": "execute_result",
          "data": {
            "text/plain": [
              "array(['Ametista', 'Quartzo', 'Topázio', 'Ágata'], dtype=object)"
            ]
          },
          "metadata": {},
          "execution_count": 40
        }
      ],
      "source": [
        "df_2020['PEDRA_2020'].unique()"
      ]
    },
    {
      "cell_type": "code",
      "execution_count": 41,
      "metadata": {
        "id": "4Io4phR1tSG0"
      },
      "outputs": [],
      "source": [
        "df_2020[\"PEDRA_2020\"] = df_2020[\"PEDRA_2020\"].astype(\"category\")"
      ]
    },
    {
      "cell_type": "markdown",
      "metadata": {
        "id": "lifMnQw3tSG0"
      },
      "source": [
        "#### Destaque IEG"
      ]
    },
    {
      "cell_type": "code",
      "execution_count": 42,
      "metadata": {
        "colab": {
          "base_uri": "https://localhost:8080/"
        },
        "id": "4pli4eNTtSG0",
        "outputId": "f793cc62-fb5d-45eb-f176-6ee380f0f6cf"
      },
      "outputs": [
        {
          "output_type": "execute_result",
          "data": {
            "text/plain": [
              "array(['Seu destaque em 2020: A sua boa entrega das lições de casa.',\n",
              "       'Ponto a melhorar em 2021: Melhorar a sua entrega de lições de casa.',\n",
              "       'Seu destaque em 2020: O seu bom engajamento nas ações de voluntariado.',\n",
              "       'Ponto a melhorar em 2021: Melhorar o seu engajamento nas ações de voluntariado.'],\n",
              "      dtype=object)"
            ]
          },
          "metadata": {},
          "execution_count": 42
        }
      ],
      "source": [
        "df_2020['DESTAQUE_IEG_2020'].unique()"
      ]
    },
    {
      "cell_type": "code",
      "execution_count": 43,
      "metadata": {
        "id": "uc_CdzhNtSG0"
      },
      "outputs": [],
      "source": [
        "df_2020[\"DESTAQUE_IEG_2020\"] = df_2020[\"DESTAQUE_IEG_2020\"].astype(\"category\")"
      ]
    },
    {
      "cell_type": "markdown",
      "metadata": {
        "id": "PAcgWqYytSG0"
      },
      "source": [
        "#### Destaque IDA"
      ]
    },
    {
      "cell_type": "code",
      "execution_count": 44,
      "metadata": {
        "colab": {
          "base_uri": "https://localhost:8080/"
        },
        "id": "VZn6chgxtSG1",
        "outputId": "eeff2354-a763-4095-f27c-86be96229f24"
      },
      "outputs": [
        {
          "output_type": "execute_result",
          "data": {
            "text/plain": [
              "array(['Ponto a melhorar em 2021: Empenhar-se mais nas aulas e avaliações.',\n",
              "       'Seu destaque em 2020: As suas boas notas na Passos Mágicos.',\n",
              "       'Seu destaque em 2020: As suas boas notas na Faculdade.',\n",
              "       'Ponto a melhorar em 2021: As suas notas na Faculdade.'],\n",
              "      dtype=object)"
            ]
          },
          "metadata": {},
          "execution_count": 44
        }
      ],
      "source": [
        "# Category\n",
        "df_2020['DESTAQUE_IDA_2020'].unique()"
      ]
    },
    {
      "cell_type": "code",
      "execution_count": 45,
      "metadata": {
        "id": "2OjgvOZZtSG1"
      },
      "outputs": [],
      "source": [
        "df_2020[\"DESTAQUE_IDA_2020\"] = df_2020[\"DESTAQUE_IDA_2020\"].astype(\"category\")"
      ]
    },
    {
      "cell_type": "markdown",
      "metadata": {
        "id": "Qr8ZpiUutSG1"
      },
      "source": [
        "#### Destaque IPV"
      ]
    },
    {
      "cell_type": "code",
      "execution_count": 46,
      "metadata": {
        "colab": {
          "base_uri": "https://localhost:8080/"
        },
        "id": "zqATiAH2tSG1",
        "outputId": "5b0c3cf9-7f44-460c-fa1a-4d16e85e27d5"
      },
      "outputs": [
        {
          "output_type": "execute_result",
          "data": {
            "text/plain": [
              "array(['Seu destaque em 2020: A sua boa integração aos Princípios Passos Mágicos.',\n",
              "       'Ponto a melhorar em 2021: Integrar-se mais aos Princípios Passos Mágicos.',\n",
              "       nan], dtype=object)"
            ]
          },
          "metadata": {},
          "execution_count": 46
        }
      ],
      "source": [
        "df_2020['DESTAQUE_IPV_2020'].unique()"
      ]
    },
    {
      "cell_type": "code",
      "execution_count": 47,
      "metadata": {
        "colab": {
          "base_uri": "https://localhost:8080/"
        },
        "id": "FujfraSMtSG2",
        "outputId": "7cd7c01f-10cc-409b-fd1a-726690e4388c"
      },
      "outputs": [
        {
          "output_type": "execute_result",
          "data": {
            "text/plain": [
              "24"
            ]
          },
          "metadata": {},
          "execution_count": 47
        }
      ],
      "source": [
        "df_2020['DESTAQUE_IPV_2020'].isna().sum()"
      ]
    },
    {
      "cell_type": "code",
      "execution_count": 48,
      "metadata": {
        "id": "DrxQzBdKtSG2"
      },
      "outputs": [],
      "source": [
        "df_2020['DESTAQUE_IPV_2020'] = df_2020['DESTAQUE_IPV_2020'].fillna(\"Não se Aplica\")"
      ]
    },
    {
      "cell_type": "code",
      "execution_count": 49,
      "metadata": {
        "id": "3zadMtsTtSG2"
      },
      "outputs": [],
      "source": [
        "df_2020[\"DESTAQUE_IPV_2020\"] = df_2020[\"DESTAQUE_IPV_2020\"].astype(\"category\")"
      ]
    },
    {
      "cell_type": "markdown",
      "metadata": {
        "id": "1WrZh9NTtSG2"
      },
      "source": [
        "#### Indicador de Auto Avalição"
      ]
    },
    {
      "cell_type": "code",
      "execution_count": 50,
      "metadata": {
        "colab": {
          "base_uri": "https://localhost:8080/"
        },
        "id": "tfSO4nictSG2",
        "outputId": "8d8da509-bac2-4c3f-dd54-37038ac2c0c3"
      },
      "outputs": [
        {
          "output_type": "execute_result",
          "data": {
            "text/plain": [
              "array(['8.500020000000001', '7.91667', '8.000020000000001', '7.50002',\n",
              "       '8.33334', '5.83333', '9.000020000000001', '6.25',\n",
              "       '9.500020000000001', '9.58335', '7.9166799999999995', '6.66667',\n",
              "       '8.75001', '10.000020000000001', '6.24999', '7.5', '9.16668', '0',\n",
              "       '8.91668', '6.9166799999999995', '5.41667', '7.08333',\n",
              "       '7.4166799999999995', '7.33334', '8.333350000000001', '5.83334',\n",
              "       '7.41668', '4.58334', '9.583350000000001', '7.50001', '6.66666',\n",
              "       '8.33335', '7.08334', '8.41668', '3.4999800000000003', '6.33335',\n",
              "       '6.25001', '7.91668', '5.8333200000000005', '7.00002', '5.41666',\n",
              "       '6.83334', '6.91668', '6.41668'], dtype=object)"
            ]
          },
          "metadata": {},
          "execution_count": 50
        }
      ],
      "source": [
        "df_2020[\"IAA_2020\"].unique()"
      ]
    },
    {
      "cell_type": "code",
      "execution_count": 51,
      "metadata": {
        "colab": {
          "base_uri": "https://localhost:8080/"
        },
        "id": "Zep1UiMetSG2",
        "outputId": "c805827e-8ffc-418c-b026-91e43f6f5b93"
      },
      "outputs": [
        {
          "output_type": "execute_result",
          "data": {
            "text/plain": [
              "0"
            ]
          },
          "metadata": {},
          "execution_count": 51
        }
      ],
      "source": [
        "df_2020['IAA_2020'].isna().sum()"
      ]
    },
    {
      "cell_type": "code",
      "execution_count": 52,
      "metadata": {
        "id": "8e6MrDyttSG2"
      },
      "outputs": [],
      "source": [
        "df_2020['IAA_2020'] = df_2020['IAA_2020'].astype(pd.Float64Dtype())"
      ]
    },
    {
      "cell_type": "code",
      "execution_count": 53,
      "metadata": {
        "id": "SWGjnq0YtSG3"
      },
      "outputs": [],
      "source": [
        "df_2020['IAA_2020'] = np.round(df_2020['IAA_2020'], decimals=3)"
      ]
    },
    {
      "cell_type": "markdown",
      "metadata": {
        "id": "ugxa3ZH5tSG3"
      },
      "source": [
        "#### IEG"
      ]
    },
    {
      "cell_type": "code",
      "execution_count": 54,
      "metadata": {
        "colab": {
          "base_uri": "https://localhost:8080/"
        },
        "id": "_U85nu4EtSG3",
        "outputId": "d0f38b5f-c83c-4e6a-9a27-65e5478bd8fd"
      },
      "outputs": [
        {
          "output_type": "execute_result",
          "data": {
            "text/plain": [
              "array(['8.7', '8.9', '4.1', '8', '9.9', '5.2', '10', '6', '7.6', '4',\n",
              "       '6.8', '7', '9.6', '4.5', '9.3', '6.1', '7.7', '9.4', '8.3', '7.5',\n",
              "       '1', '9.8', '8.6', '9', '7.1', '3.6', '9.7', '6.5', '6.9', '9.2',\n",
              "       '8.8', '4.9', '5.8', '6.4', '8.2', '8.5', '1.9', '8.4', '9.1',\n",
              "       '7.2', '9.5', '5.9', '2.3', '0.9', '4.7', '5.1', '4.8', '2.9',\n",
              "       '4.3', '0', '7.9', '7.8', '7.4', '3', '3.7', '4.2', '4.4', '5.6',\n",
              "       '6.2', '1.3', '6.6', '1.4', '2', '2.1', '8.1', '3.8', '3.4', '5',\n",
              "       '6.7', '5.3', '4.6', '6.3', '3.1', '3.3', '5.4', '1.7', '5.5',\n",
              "       '7.3', '5.7', '0.4', '2.7', '3.9', '2.8', '0.8', '2.6', '2.2',\n",
              "       '1.2', '3.5', '1.1'], dtype=object)"
            ]
          },
          "metadata": {},
          "execution_count": 54
        }
      ],
      "source": [
        "df_2020[\"IEG_2020\"].unique()"
      ]
    },
    {
      "cell_type": "code",
      "execution_count": 55,
      "metadata": {
        "colab": {
          "base_uri": "https://localhost:8080/"
        },
        "id": "go241-hTtSG3",
        "outputId": "ec6d8567-f14a-40ee-8e96-ea314b124fd1"
      },
      "outputs": [
        {
          "output_type": "execute_result",
          "data": {
            "text/plain": [
              "0"
            ]
          },
          "metadata": {},
          "execution_count": 55
        }
      ],
      "source": [
        "df_2020['IEG_2020'].isna().sum()"
      ]
    },
    {
      "cell_type": "code",
      "execution_count": 56,
      "metadata": {
        "id": "zrshH0W5tSG3"
      },
      "outputs": [],
      "source": [
        "df_2020['IEG_2020'] = df_2020['IEG_2020'].astype(pd.Float64Dtype())"
      ]
    },
    {
      "cell_type": "code",
      "execution_count": 57,
      "metadata": {
        "id": "56SLqD3ktSG3"
      },
      "outputs": [],
      "source": [
        "df_2020['IEG_2020'] = np.round(df_2020['IEG_2020'], decimals=3)"
      ]
    },
    {
      "cell_type": "markdown",
      "metadata": {
        "id": "s0rqubBbtSG3"
      },
      "source": [
        "#### IPS"
      ]
    },
    {
      "cell_type": "code",
      "execution_count": 58,
      "metadata": {
        "colab": {
          "base_uri": "https://localhost:8080/"
        },
        "id": "cnvqfh9wtSG3",
        "outputId": "ddadc158-8d2b-4752-f4be-edaaf2ce6305"
      },
      "outputs": [
        {
          "output_type": "execute_result",
          "data": {
            "text/plain": [
              "array(['7.5', '6.875', '4.375', '3.75', '8.125', '5.625', '6.25', '5',\n",
              "       '10', '2.5', '3.125', '8.75', '9.375'], dtype=object)"
            ]
          },
          "metadata": {},
          "execution_count": 58
        }
      ],
      "source": [
        "df_2020[\"IPS_2020\"].unique()"
      ]
    },
    {
      "cell_type": "code",
      "execution_count": 59,
      "metadata": {
        "colab": {
          "base_uri": "https://localhost:8080/"
        },
        "id": "v3L8c396tSG3",
        "outputId": "4e392c23-4c3f-4bb2-af17-cc1595797d39"
      },
      "outputs": [
        {
          "output_type": "execute_result",
          "data": {
            "text/plain": [
              "0"
            ]
          },
          "metadata": {},
          "execution_count": 59
        }
      ],
      "source": [
        "df_2020['IPS_2020'].isna().sum()"
      ]
    },
    {
      "cell_type": "code",
      "execution_count": 60,
      "metadata": {
        "id": "H6OG7ZfWtSG3"
      },
      "outputs": [],
      "source": [
        "df_2020['IPS_2020'] = df_2020['IPS_2020'].astype(pd.Float64Dtype())"
      ]
    },
    {
      "cell_type": "code",
      "execution_count": 61,
      "metadata": {
        "id": "eaV99fsUtSG3"
      },
      "outputs": [],
      "source": [
        "df_2020['IPS_2020'] = np.round(df_2020['IPS_2020'], decimals=3)"
      ]
    },
    {
      "cell_type": "markdown",
      "metadata": {
        "id": "ZWoq5nq_tSG4"
      },
      "source": [
        "#### IDA"
      ]
    },
    {
      "cell_type": "code",
      "execution_count": 62,
      "metadata": {
        "colab": {
          "base_uri": "https://localhost:8080/"
        },
        "id": "rNnC2REjtSG4",
        "outputId": "0569612e-db1f-4632-fafa-19cdb4c8e90c"
      },
      "outputs": [
        {
          "output_type": "execute_result",
          "data": {
            "text/plain": [
              "array(['7', '5.5', '0', '7.5', '7.333333333333333', '10',\n",
              "       '6.666666666666667', '6.5', '9', '4.75', '8.666666666666666', '5',\n",
              "       '8', '2.5', '8.333333333333334', '7.25', '8.2',\n",
              "       '6.333333333333333', '5.833333333333333', '6', '3.5', '9.5', '8.5',\n",
              "       '5.333333333333333', '3.6666666666666665', '7.666666666666667',\n",
              "       '4.5', '4', '3', '5.166666666666667', '2', '4.333333333333333',\n",
              "       '4.666666666666667', '6.75', '6.25', '2.8333333333333335', '7.2',\n",
              "       '5.666666666666667', '7.4', '2.3333333333333335', '5.75', '1',\n",
              "       '3.75', '9.2', '8.4', '8.3', '4.166666666666667', '8.8', '9.1',\n",
              "       '9.333333333333334', '4.25', '6.166666666666667', '1.5',\n",
              "       '7.166666666666667', '2.75', '7.8', '0.5', '4.833333333333333',\n",
              "       '9.666666666666666', '1.1666666666666667', '1.6666666666666667',\n",
              "       '2.6666666666666665', '1.25', '1.3333333333333333', '8.9',\n",
              "       '6.833333333333333', '3.3333333333333335', '9.7',\n",
              "       '3.1666666666666665', '9.4', '3.8333333333333335',\n",
              "       '0.6666666666666666', '2.1666666666666665'], dtype=object)"
            ]
          },
          "metadata": {},
          "execution_count": 62
        }
      ],
      "source": [
        "df_2020[\"IDA_2020\"].unique()"
      ]
    },
    {
      "cell_type": "code",
      "execution_count": 63,
      "metadata": {
        "colab": {
          "base_uri": "https://localhost:8080/"
        },
        "id": "my1EkOKCtSG4",
        "outputId": "986cd033-3835-4c62-f6f2-8410703049a6"
      },
      "outputs": [
        {
          "output_type": "execute_result",
          "data": {
            "text/plain": [
              "0"
            ]
          },
          "metadata": {},
          "execution_count": 63
        }
      ],
      "source": [
        "df_2020['IDA_2020'].isna().sum()"
      ]
    },
    {
      "cell_type": "code",
      "execution_count": 64,
      "metadata": {
        "id": "IT-kTF10tSG4"
      },
      "outputs": [],
      "source": [
        "df_2020['IDA_2020'] = df_2020['IDA_2020'].astype(pd.Float64Dtype())"
      ]
    },
    {
      "cell_type": "code",
      "execution_count": 65,
      "metadata": {
        "id": "yo0jVZZjtSG4"
      },
      "outputs": [],
      "source": [
        "df_2020['IDA_2020'] = np.round(df_2020['IDA_2020'], decimals=3)"
      ]
    },
    {
      "cell_type": "markdown",
      "metadata": {
        "id": "hZaJtvZmtSG4"
      },
      "source": [
        "#### IPP"
      ]
    },
    {
      "cell_type": "code",
      "execution_count": 66,
      "metadata": {
        "colab": {
          "base_uri": "https://localhost:8080/"
        },
        "id": "xMGMi-bxtSG4",
        "outputId": "16a45fa4-1919-4156-970d-34d9236ea7f4"
      },
      "outputs": [
        {
          "output_type": "execute_result",
          "data": {
            "text/plain": [
              "array(['5.9375', '8.125', '7.1875', '8.4375', '8.749999999999998',\n",
              "       '7.96875', '10', '5.624999999999999', '6.5625',\n",
              "       '7.083333333333334', '2.5', '7.65625', '6.458333333333333',\n",
              "       '8.541666666666666', '7.5', '6.25', '7.8125', '7.916666666666668',\n",
              "       '0', '8.28125', '7.291666666666667', '6.875', '7.083333333333333',\n",
              "       '9.375', '8.958333333333332', '5.625', '7.708333333333334',\n",
              "       '7.916666666666667', '6.666666666666667', '9.166666666666666',\n",
              "       '8.59375', '9.0625', '6.041666666666666', '5.78125',\n",
              "       '6.458333333333334', '8.541666666666668', '5.833333333333333',\n",
              "       '7.03125', '8.75', '8.958333333333334', '6.09375',\n",
              "       '8.333333333333334', '4.6875', '5', '5.15625', '6.40625',\n",
              "       '7.34375', '5.3125', '6.71875', '9.6875', '9.791666666666666',\n",
              "       '8.90625', '5.416666666666667', '8.333333333333332',\n",
              "       '5.208333333333333', '5.416666666666666', '6.041666666666667',\n",
              "       '6.666666666666666', '6.249999999999999', '2.8125',\n",
              "       '6.875000000000001', '4.84375', '3.4375', '4.375',\n",
              "       '7.916666666666666', '7.291666666666668', '7.500000000000001',\n",
              "       '3.75'], dtype=object)"
            ]
          },
          "metadata": {},
          "execution_count": 66
        }
      ],
      "source": [
        "df_2020[\"IPP_2020\"].unique()"
      ]
    },
    {
      "cell_type": "code",
      "execution_count": 67,
      "metadata": {
        "colab": {
          "base_uri": "https://localhost:8080/"
        },
        "id": "4eDwhDpitSG4",
        "outputId": "d82322b8-91c7-4513-bb5b-a376d1ba1f47"
      },
      "outputs": [
        {
          "output_type": "execute_result",
          "data": {
            "text/plain": [
              "0"
            ]
          },
          "metadata": {},
          "execution_count": 67
        }
      ],
      "source": [
        "# Float64\n",
        "df_2020['IPP_2020'].isna().sum()"
      ]
    },
    {
      "cell_type": "code",
      "execution_count": 68,
      "metadata": {
        "id": "Em10VtEttSG4"
      },
      "outputs": [],
      "source": [
        "df_2020['IPP_2020'] = df_2020['IPP_2020'].astype(pd.Float64Dtype())"
      ]
    },
    {
      "cell_type": "code",
      "execution_count": 69,
      "metadata": {
        "id": "4zdMfYz7tSG4"
      },
      "outputs": [],
      "source": [
        "df_2020['IPP_2020'] = np.round(df_2020['IPP_2020'], decimals=3)"
      ]
    },
    {
      "cell_type": "markdown",
      "metadata": {
        "id": "GMvcp3i5tSG4"
      },
      "source": [
        "#### IPV"
      ]
    },
    {
      "cell_type": "code",
      "execution_count": 70,
      "metadata": {
        "colab": {
          "base_uri": "https://localhost:8080/"
        },
        "id": "whX7rthDtSG4",
        "outputId": "56f7a076-ce18-410b-ec4f-d1120b90b207"
      },
      "outputs": [
        {
          "output_type": "execute_result",
          "data": {
            "text/plain": [
              "array(['7.75', '8.111113333333334', '8.166665', '8.94445', '6.8333325',\n",
              "       '10.00001', '5.277770000000001', '7.916665', '7.25',\n",
              "       '7.944446666666665', '9.944453333333334', '6.916665',\n",
              "       '6.277773333333332', '7.944443333333334', '8.29167',\n",
              "       '8.222226666666668', '7.77778', '6.777780000000001', '8.04167',\n",
              "       '7.583335', '7.416665', '8.22222', '0', '8.666667499999999',\n",
              "       '7.5833325', '6.444439999999998', '8.124995', '7.333333333333333',\n",
              "       '7.5', '8', '7.749995', '9.75001', '6.58333', '7.666665',\n",
              "       '7.444443333333333', '9.11112', '7.333335', '9.166676666666666',\n",
              "       '6.999995', '6.66666', '5.7083325', '8.722226666666666', '9.58334',\n",
              "       '7.5000025', '7.58333', '6.791665', '8.791664999999998',\n",
              "       '7.833333333333333', '7.66667', '7.8750025', '7.611103333333333',\n",
              "       '5.111106666666666', '3.500005', '6.95833', '5.444446666666667',\n",
              "       '5.499996666666667', '8.8333375', '7.277776666666666', '8.333335',\n",
              "       '8.611113333333334', '8.6250075', '9.125007499999999', '8.11111',\n",
              "       '7.777776666666667', '6.611103333333333', '5.749995', '4.1250025',\n",
              "       '7.000005', '7.111106666666665', '8.66667', '9.666670000000002',\n",
              "       '9.333333333333332', '7.04167', '8.5', '6.291665',\n",
              "       '7.388886666666666', '8.5416725', '7.4166675', '6.833326666666666',\n",
              "       '7.1249975', '8.277783333333332', '2.5833399999999997',\n",
              "       '7.833336666666668', '9.000005', '8.25', '8.055556666666668',\n",
              "       '8.277783333333334', '8.222223333333332', '6.0416625',\n",
              "       '4.611106666666667', '6.5833325', '7.2916675', '6.75',\n",
              "       '7.666666666666666', '9.2916725', '7.79167', '9.250005',\n",
              "       '8.388893333333336', '7.777783333333335', '9.777786666666666',\n",
              "       '8.500003333333334', '4.388883333333333', '7.444443333333334',\n",
              "       '5.666665', '7.777773333333332', '8.333333333333334', '7.7500025',\n",
              "       '7', '8.833335', '7.833333333333334', '9.44445', '6.6666675',\n",
              "       '8.38889', '6.833335', '8.277776666666666', '4.95834', '6.749995',\n",
              "       '9.8889', '6.3333275', '6.416665', '8.333332500000001', '7.20833',\n",
              "       '7.6249975', '5.166675', '9.111113333333332', '6.5416625',\n",
              "       '8.444446666666668', '6.888883333333333', '9.000003333333334',\n",
              "       '7.08333', '5.74999', '7.83334', '6.944439999999998', '6.624995',\n",
              "       '7.722219999999999', '7.166665', '9.125005000000002',\n",
              "       '8.166666666666668', '9.166669999999998', '7.41667', '6.83333',\n",
              "       '6.6666625', '8.111106666666666', '4.833323333333333', '4.16667',\n",
              "       '7.611113333333334', '7.222216666666665', '9.000006666666666',\n",
              "       '7.38889', '7.833329999999999', '6.166665', '6.11111', '6.7499975',\n",
              "       '6.777773333333332', '8.458335', '9.166675000000001',\n",
              "       '6.888886666666666', '7.2500025', '5.666656666666667',\n",
              "       '3.8333499999999994', '8.055560000000002', '6.055549999999999',\n",
              "       '6.72222', '7.33333', '7.777780000000001', '4.99999',\n",
              "       '8.444443333333332', '7.944443333333333', '9.277783333333334',\n",
              "       '7.666666666666667', '8.958337499999999', '7.666670000000001',\n",
              "       '7.888893333333335', '7.791665', '7.91667', '7.72222', '8.041665',\n",
              "       '7.055553333333332', '8.277776666666668', '8.16667', '6.49999',\n",
              "       '5.611103333333335', '6.91666', '8.208335', '5.916675',\n",
              "       '7.222219999999999', '8.7083375', '9.222226666666666', '6.41666',\n",
              "       '7.9583325', '9.05556', '9.375007500000002', '8.72223',\n",
              "       '8.944446666666666', '7.555549999999998', '4.888896666666667',\n",
              "       '7.944450000000002', '6.2916625', '7.249995', '7.1666675',\n",
              "       '7.111103333333333', '8.91667', '7.61111', '9.083335',\n",
              "       '7.222223333333334', '8.055553333333332', '6.1666675',\n",
              "       '3.2500099999999996', '8.05555', '8.208337499999999', '7.7916625',\n",
              "       '6.9999975', '9.833345', '8.41667', '7.055549999999999',\n",
              "       '5.444433333333334', '7.0416675', '5.083325', '5.611113333333333',\n",
              "       '6.08333', '6.888883333333332', '6.500005', '5.499993333333334',\n",
              "       '7.0833325', '8.125', '4.66667', '9.33334', '7.000003333333334',\n",
              "       '8.58334', '6.6111', '6.375', '6.99999', '5', '8.833336666666666',\n",
              "       '6.222213333333333', '7.666663333333333', '7.555553333333333',\n",
              "       '6.333325', '8.333336666666668', '8.666675', '5.83333', '6.916655',\n",
              "       '5.666659999999999', '6.555553333333332', '6.722216666666666',\n",
              "       '6.33333', '8.222226666666666', '6.24999', '6.16666', '8.77778',\n",
              "       '8.944446666666664', '6.611106666666666', '7.624995',\n",
              "       '9.166673333333334', '5.611103333333333', '7.333325', '7.6250025',\n",
              "       '4.333349999999999', '7.833335', '8.083335', '8.944453333333334',\n",
              "       '5.4999925', '6.222216666666667', '8.777786666666666',\n",
              "       '9.222233333333334', '6.124995', '8.000003333333334', '4.499995',\n",
              "       '4.2222133333333325', '6.888886666666665', '8.888893333333332',\n",
              "       '7.944446666666667', '7.555549999999999', '8.05556',\n",
              "       '5.611106666666666', '7.58334', '7.1666599999999985', '6.083335',\n",
              "       '9.888896666666668', '6.3333325', '5.1666566666666665',\n",
              "       '9.8333425', '7.444446666666667', '9.333337499999999', '4.75',\n",
              "       '9.208337499999999', '5.374995', '8.000003333333332',\n",
              "       '5.722213333333335', '9.29167', '6.833333333333333',\n",
              "       '9.111113333333334', '4.666663333333334', '5.999996666666666',\n",
              "       '7.22222', '8.458337499999999', '7.944446666666668', '5.5',\n",
              "       '9.000003333333332', '7.11111', '5.388883333333333', '6.88888',\n",
              "       '4.94444', '9.0000025', '7.166663333333332', '8.83334',\n",
              "       '5.0833275', '5.66666', '8.55556', '4.2916675', '7.375',\n",
              "       '8.222223333333334', '6.9166625', '7.055553333333334', '8.583335',\n",
              "       '7.9166675', '9.611113333333332', '9.7083425', '7.888890000000001',\n",
              "       '6.541665', '8.20834', '7.291665', '7.499996666666666', '6.70833',\n",
              "       '5.777770000000001', '4.5416725', '4.833325', '8.944449999999998',\n",
              "       '6.1249975', '5.277776666666666', '9.500006666666668',\n",
              "       '5.833333333333335', '7.888886666666667', '5.75',\n",
              "       '6.777776666666665', '6.333335', '8.2500025', '7.611106666666666',\n",
              "       '9.37501', '9.416675000000001', '7.374995', '6.833329999999999',\n",
              "       '7.999996666666666', '9.125005', '7.94444', '7.7916675',\n",
              "       '6.3333200000000005', '8.166667499999999', '5.2916625',\n",
              "       '7.888886666666666', '8.666673333333334', '9.111120000000001',\n",
              "       '4.58334', '9.125002499999999', '2.75', '6.555550000000001',\n",
              "       '5.58334', '7.499995', '6.666663333333334', '6.583335',\n",
              "       '8.0416725', '5.666660000000001', '5.999995', '7.750005',\n",
              "       '6.583325', '6.944439999999999', '9.2083425'], dtype=object)"
            ]
          },
          "metadata": {},
          "execution_count": 70
        }
      ],
      "source": [
        "df_2020[\"IPV_2020\"].unique()"
      ]
    },
    {
      "cell_type": "code",
      "execution_count": 71,
      "metadata": {
        "colab": {
          "base_uri": "https://localhost:8080/"
        },
        "id": "eG5MN3fztSG4",
        "outputId": "128d958a-9ea4-41c1-c04c-d147285c04ef"
      },
      "outputs": [
        {
          "output_type": "execute_result",
          "data": {
            "text/plain": [
              "0"
            ]
          },
          "metadata": {},
          "execution_count": 71
        }
      ],
      "source": [
        "df_2020['IPV_2020'].isna().sum()"
      ]
    },
    {
      "cell_type": "code",
      "execution_count": 72,
      "metadata": {
        "id": "oIpZmKAQtSG5"
      },
      "outputs": [],
      "source": [
        "df_2020['IPV_2020'] = df_2020['IPV_2020'].astype(pd.Float64Dtype())"
      ]
    },
    {
      "cell_type": "code",
      "execution_count": 73,
      "metadata": {
        "id": "IVXVbkuytSG5"
      },
      "outputs": [],
      "source": [
        "df_2020['IPV_2020'] = np.round(df_2020['IPV_2020'], decimals=3)"
      ]
    },
    {
      "cell_type": "markdown",
      "metadata": {
        "id": "f2C8hn1itSG5"
      },
      "source": [
        "#### IAN"
      ]
    },
    {
      "cell_type": "code",
      "execution_count": 74,
      "metadata": {
        "colab": {
          "base_uri": "https://localhost:8080/"
        },
        "id": "viDhbsn5tSG5",
        "outputId": "e8ff791c-005d-43f0-867c-32a1fd8b29c6"
      },
      "outputs": [
        {
          "output_type": "execute_result",
          "data": {
            "text/plain": [
              "array(['10', '5', '2.5'], dtype=object)"
            ]
          },
          "metadata": {},
          "execution_count": 74
        }
      ],
      "source": [
        "df_2020[\"IAN_2020\"].unique()"
      ]
    },
    {
      "cell_type": "code",
      "execution_count": 75,
      "metadata": {
        "colab": {
          "base_uri": "https://localhost:8080/"
        },
        "id": "Txfwq5lJtSG5",
        "outputId": "b2fc8670-a74d-4820-dd5a-bce3a9367b76"
      },
      "outputs": [
        {
          "output_type": "execute_result",
          "data": {
            "text/plain": [
              "0"
            ]
          },
          "metadata": {},
          "execution_count": 75
        }
      ],
      "source": [
        "df_2020['IAN_2020'].isna().sum()"
      ]
    },
    {
      "cell_type": "code",
      "execution_count": 76,
      "metadata": {
        "id": "DPchVsVStSG5"
      },
      "outputs": [],
      "source": [
        "df_2020['IAN_2020'] = df_2020['IAN_2020'].astype(pd.Float64Dtype())"
      ]
    },
    {
      "cell_type": "code",
      "execution_count": 77,
      "metadata": {
        "id": "KCizcGHHtSG5"
      },
      "outputs": [],
      "source": [
        "df_2020['IAN_2020'] = np.round(df_2020['IAN_2020'], decimals=2)"
      ]
    },
    {
      "cell_type": "markdown",
      "metadata": {
        "id": "n5VOYR0ItSG5"
      },
      "source": [
        "#### Base de Dados 2020 Tratada"
      ]
    },
    {
      "cell_type": "code",
      "execution_count": 78,
      "metadata": {
        "colab": {
          "base_uri": "https://localhost:8080/"
        },
        "id": "khrn3_L0tSG5",
        "outputId": "4eb41ab2-405a-40d2-da36-a371b617f7e2"
      },
      "outputs": [
        {
          "output_type": "stream",
          "name": "stdout",
          "text": [
            "<class 'pandas.core.frame.DataFrame'>\n",
            "Index: 727 entries, ALUNO-1 to ALUNO-1348\n",
            "Data columns (total 19 columns):\n",
            " #   Column                         Non-Null Count  Dtype   \n",
            "---  ------                         --------------  -----   \n",
            " 0   INSTITUICAO_ENSINO_ALUNO_2020  727 non-null    category\n",
            " 1   IDADE_ALUNO_2020               727 non-null    Int64   \n",
            " 2   ANOS_PM_2020                   727 non-null    Int16   \n",
            " 3   FASE_2020                      727 non-null    category\n",
            " 4   TURMA_2020                     727 non-null    category\n",
            " 5   PONTO_VIRADA_2020              727 non-null    category\n",
            " 6   INDE_2020                      727 non-null    Float64 \n",
            " 7   INDE_CONCEITO_2020             727 non-null    category\n",
            " 8   PEDRA_2020                     727 non-null    category\n",
            " 9   DESTAQUE_IEG_2020              727 non-null    category\n",
            " 10  DESTAQUE_IDA_2020              727 non-null    category\n",
            " 11  DESTAQUE_IPV_2020              727 non-null    category\n",
            " 12  IAA_2020                       727 non-null    Float64 \n",
            " 13  IEG_2020                       727 non-null    Float64 \n",
            " 14  IPS_2020                       727 non-null    Float64 \n",
            " 15  IDA_2020                       727 non-null    Float64 \n",
            " 16  IPP_2020                       727 non-null    Float64 \n",
            " 17  IPV_2020                       727 non-null    Float64 \n",
            " 18  IAN_2020                       727 non-null    Float64 \n",
            "dtypes: Float64(8), Int16(1), Int64(1), category(9)\n",
            "memory usage: 74.1+ KB\n"
          ]
        }
      ],
      "source": [
        "df_2020.info()"
      ]
    },
    {
      "cell_type": "code",
      "execution_count": 79,
      "metadata": {
        "id": "0mnFF_chtSG5"
      },
      "outputs": [],
      "source": [
        "df_2020.reset_index(inplace=True)"
      ]
    },
    {
      "cell_type": "code",
      "source": [
        "from google.colab import drive\n",
        "drive.mount('/content/drive')"
      ],
      "metadata": {
        "colab": {
          "base_uri": "https://localhost:8080/"
        },
        "id": "5umxHvxt2QqA",
        "outputId": "294b7641-1782-4f30-daf0-cb2ece8b818a"
      },
      "execution_count": 80,
      "outputs": [
        {
          "output_type": "stream",
          "name": "stdout",
          "text": [
            "Mounted at /content/drive\n"
          ]
        }
      ]
    },
    {
      "cell_type": "code",
      "execution_count": 81,
      "metadata": {
        "id": "I5bQjKpOtSG5"
      },
      "outputs": [],
      "source": [
        "df_2020.to_csv('/content/drive/My Drive/pm_2020.csv', index=False)"
      ]
    },
    {
      "cell_type": "code",
      "source": [],
      "metadata": {
        "id": "RG-t_-pY2MTU"
      },
      "execution_count": 81,
      "outputs": []
    },
    {
      "cell_type": "markdown",
      "metadata": {
        "id": "LlMhJA4itSG5"
      },
      "source": [
        "### Base de Dados 2021"
      ]
    },
    {
      "cell_type": "markdown",
      "metadata": {
        "id": "D8hIjdm8tSG6"
      },
      "source": [
        "#### Instituição de Ensino"
      ]
    },
    {
      "cell_type": "code",
      "execution_count": 82,
      "metadata": {
        "colab": {
          "base_uri": "https://localhost:8080/"
        },
        "id": "0NBPBm0StSG6",
        "outputId": "eef7be31-14dd-484f-a63a-0a36b4249871"
      },
      "outputs": [
        {
          "output_type": "execute_result",
          "data": {
            "text/plain": [
              "array(['Rede Decisão', 'Escola Pública', 'Escola JP II'], dtype=object)"
            ]
          },
          "metadata": {},
          "execution_count": 82
        }
      ],
      "source": [
        "df_2021[\"INSTITUICAO_ENSINO_ALUNO_2021\"].unique()"
      ]
    },
    {
      "cell_type": "code",
      "execution_count": 83,
      "metadata": {
        "id": "MK4MEFWztSG6"
      },
      "outputs": [],
      "source": [
        "df_2021[\"INSTITUICAO_ENSINO_ALUNO_2021\"] = df_2021[\"INSTITUICAO_ENSINO_ALUNO_2021\"].astype(\"category\")"
      ]
    },
    {
      "cell_type": "markdown",
      "metadata": {
        "id": "VQWti1LltSG6"
      },
      "source": [
        "#### Ní vel de Aprendizado do Aluno em 2021"
      ]
    },
    {
      "cell_type": "code",
      "execution_count": 84,
      "metadata": {
        "id": "gH24WUHztSG6",
        "outputId": "8a33fb3d-bd34-4378-abab-a44b350fcd47",
        "colab": {
          "base_uri": "https://localhost:8080/"
        }
      },
      "outputs": [
        {
          "output_type": "execute_result",
          "data": {
            "text/plain": [
              "array([2., 3., 5., 1., 0., 4., 7., 6.])"
            ]
          },
          "metadata": {},
          "execution_count": 84
        }
      ],
      "source": [
        "df_2021[\"FASE_2021\"].unique()"
      ]
    },
    {
      "cell_type": "code",
      "execution_count": 85,
      "metadata": {
        "id": "HqECXL1mtSG6"
      },
      "outputs": [],
      "source": [
        "df_2021['FASE_2021'] = df_2021['FASE_2021'].astype(str).str[0]"
      ]
    },
    {
      "cell_type": "code",
      "execution_count": 86,
      "metadata": {
        "id": "OqauVbTttSG6"
      },
      "outputs": [],
      "source": [
        "df_2021[\"FASE_2021\"] = df_2021[\"FASE_2021\"].astype(\"category\")"
      ]
    },
    {
      "cell_type": "markdown",
      "metadata": {
        "id": "Mz5iFNpbtSG6"
      },
      "source": [
        "#### Numero da Turma de cada fase (1A,1B,1C)"
      ]
    },
    {
      "cell_type": "code",
      "execution_count": 87,
      "metadata": {
        "id": "olkirk2ktSG6",
        "outputId": "3857fb01-af8f-4379-d337-4b4d2e3a07c9",
        "colab": {
          "base_uri": "https://localhost:8080/"
        }
      },
      "outputs": [
        {
          "output_type": "execute_result",
          "data": {
            "text/plain": [
              "array(['G', 'F', 'L', 'A', 'T', 'C', 'D', 'N', 'B', 'J', 'P', 'M', 'R',\n",
              "       'E', 'H', 'K', 'I', 'O', 'Q', 'S'], dtype=object)"
            ]
          },
          "metadata": {},
          "execution_count": 87
        }
      ],
      "source": [
        "df_2021[\"TURMA_2021\"].unique()"
      ]
    },
    {
      "cell_type": "code",
      "execution_count": 88,
      "metadata": {
        "id": "jnrLm31ltSG7"
      },
      "outputs": [],
      "source": [
        "df_2021[\"TURMA_2021\"] = df_2021[\"TURMA_2021\"].astype(\"category\")"
      ]
    },
    {
      "cell_type": "markdown",
      "metadata": {
        "id": "2YdfyEDMtSG7"
      },
      "source": [
        "#### Campo do Tipo Booleano que sinaliza se o Aluno atingiu o “Ponto de Virada” em 2021."
      ]
    },
    {
      "cell_type": "code",
      "execution_count": 89,
      "metadata": {
        "id": "L66lrMbJtSG7",
        "outputId": "1e70ac16-123c-489c-cb7a-75583f8bbcb6",
        "colab": {
          "base_uri": "https://localhost:8080/"
        }
      },
      "outputs": [
        {
          "output_type": "execute_result",
          "data": {
            "text/plain": [
              "array(['Não', 'Sim', '#NULO!'], dtype=object)"
            ]
          },
          "metadata": {},
          "execution_count": 89
        }
      ],
      "source": [
        "df_2021[\"PONTO_VIRADA_2021\"].unique()"
      ]
    },
    {
      "cell_type": "code",
      "execution_count": 90,
      "metadata": {
        "id": "R9XMUCOqtSG7",
        "outputId": "29ed5bb1-a2e1-43c4-c09a-d4d5807b6968",
        "colab": {
          "base_uri": "https://localhost:8080/"
        }
      },
      "outputs": [
        {
          "output_type": "execute_result",
          "data": {
            "text/plain": [
              "NOME\n",
              "ALUNO-71     #NULO!\n",
              "ALUNO-506    #NULO!\n",
              "Name: PONTO_VIRADA_2021, dtype: object"
            ]
          },
          "metadata": {},
          "execution_count": 90
        }
      ],
      "source": [
        "df_2021[\"PONTO_VIRADA_2021\"].loc[df_2021[\"PONTO_VIRADA_2021\"] == '#NULO!']"
      ]
    },
    {
      "cell_type": "code",
      "execution_count": 91,
      "metadata": {
        "id": "bKDbZLZRtSG7"
      },
      "outputs": [],
      "source": [
        "df_2021[\"PONTO_VIRADA_2021\"] = df_2021[\"PONTO_VIRADA_2021\"].replace('#NULO!','Não se Aplica')"
      ]
    },
    {
      "cell_type": "code",
      "execution_count": 92,
      "metadata": {
        "id": "viW54gu7tSG7"
      },
      "outputs": [],
      "source": [
        "df_2021[\"PONTO_VIRADA_2021\"] = df_2021[\"PONTO_VIRADA_2021\"].astype(\"category\")"
      ]
    },
    {
      "cell_type": "markdown",
      "metadata": {
        "id": "1qpP_hnNtSG7"
      },
      "source": [
        "#### Ingressou ou e Veterano no ano de 2021"
      ]
    },
    {
      "cell_type": "code",
      "execution_count": 93,
      "metadata": {
        "colab": {
          "base_uri": "https://localhost:8080/"
        },
        "id": "mp7PMthRtSG7",
        "outputId": "a579aef9-15b9-4421-c3f6-fdf52d714d36"
      },
      "outputs": [
        {
          "output_type": "execute_result",
          "data": {
            "text/plain": [
              "array(['Ingressante', 'Veterano'], dtype=object)"
            ]
          },
          "metadata": {},
          "execution_count": 93
        }
      ],
      "source": [
        "df_2021[\"SINALIZADOR_INGRESSANTE_2021\"].unique()"
      ]
    },
    {
      "cell_type": "code",
      "execution_count": 94,
      "metadata": {
        "id": "0qsWtRtTtSG7"
      },
      "outputs": [],
      "source": [
        "df_2021[\"SINALIZADOR_INGRESSANTE_2021\"] = df_2021[\"SINALIZADOR_INGRESSANTE_2021\"].astype(\"category\")"
      ]
    },
    {
      "cell_type": "markdown",
      "metadata": {
        "id": "t5GVTM6OtSG7"
      },
      "source": [
        "#### Indice do Desenvolvimento Educacional – Metrica de Processo Avaliativo Geral do Aluno"
      ]
    },
    {
      "cell_type": "code",
      "execution_count": 95,
      "metadata": {
        "colab": {
          "base_uri": "https://localhost:8080/"
        },
        "id": "-xzfKFqKtSG7",
        "outputId": "0504643e-6207-4aa0-d2e4-7c301a2b0cd0"
      },
      "outputs": [
        {
          "output_type": "execute_result",
          "data": {
            "text/plain": [
              "0"
            ]
          },
          "metadata": {},
          "execution_count": 95
        }
      ],
      "source": [
        "df_2021['INDE_2021'].isna().sum()"
      ]
    },
    {
      "cell_type": "code",
      "execution_count": 96,
      "metadata": {
        "colab": {
          "base_uri": "https://localhost:8080/"
        },
        "id": "p6OwvJX4tSG7",
        "outputId": "58cb1598-cea9-4190-ed48-93990909801e"
      },
      "outputs": [
        {
          "output_type": "execute_result",
          "data": {
            "text/plain": [
              "array(['7.319', '7.021', '7.399', '8.269', '8.990', '3.413', '6.140',\n",
              "       '5.666', '6.751', '9.079', '6.342', '6.129', '8.416', '6.246',\n",
              "       '6.154', '6.847', '7.334', '6.100', '6.802', '8.471', '6.056',\n",
              "       '8.051', '6.388', '8.219', '6.777', '7.213', '6.956', '3.017',\n",
              "       '5.704', '8.438', '6.875', '4.939', '#NULO!', '9.108', '8.869',\n",
              "       '7.854', '6.339', '6.188', '5.987', '7.867', '6.652', '8.004',\n",
              "       '8.096', '5.994', '4.200', '6.248', '5.923', '4.957', '6.317',\n",
              "       '6.953', '3.117', '6.704', '8.076', '8.010', '4.956', '8.242',\n",
              "       '7.360', '7.222', '6.098', '6.664', '7.774', '8.299', '7.096',\n",
              "       '8.275', '6.461', '6.069', '6.907', '5.229', '5.819', '7.990',\n",
              "       '5.788', '6.012', '6.278', '8.360', '9.004', '8.672', '8.355',\n",
              "       '5.163', '5.082', '7.981', '8.025', '7.531', '7.125', '7.579',\n",
              "       '7.639', '3.524', '6.898', '8.036', '6.532', '5.674', '7.196',\n",
              "       '7.896', '7.906', '6.435', '8.215', '7.751', '4.788', '5.636',\n",
              "       '5.143', '5.504', '6.450', '7.167', '5.663', '8.761', '7.765',\n",
              "       '8.821', '4.176', '4.442', '7.138', '4.617', '5.054', '7.698',\n",
              "       '7.331', '7.544', '3.663', '7.629', '2.860', '5.833', '6.354',\n",
              "       '7.013', '8.013', '6.025', '7.976', '7.473', '6.283', '6.750',\n",
              "       '6.899', '7.903', '7.694', '7.892', '8.014', '6.429', '4.125',\n",
              "       '6.880', '5.815', '8.183', '8.544', '8.531', '8.088', '3.080',\n",
              "       '8.994', '6.771', '7.221', '4.894', '8.289', '7.767', '7.315',\n",
              "       '7.165', '7.946', '7.375', '8.909', '7.821', '7.891', '4.976',\n",
              "       '8.252', '8.923', '8.342', '7.533', '7.661', '7.676', '7.800',\n",
              "       '7.392', '7.070', '6.764', '4.925', '7.558', '4.414', '5.783',\n",
              "       '6.854', '7.326', '8.231', '6.306', '7.376', '6.392', '8.196',\n",
              "       '6.360', '4.712', '8.276', '8.858', '5.216', '7.110', '7.441',\n",
              "       '4.151', '7.052', '6.915', '7.418', '5.435', '6.190', '6.007',\n",
              "       '8.201', '7.260', '6.053', '7.593', '4.257', '3.729', '7.878',\n",
              "       '8.499', '6.868', '8.475', '8.699', '7.349', '6.624', '7.965',\n",
              "       '3.146', '5.990', '6.642', '4.946', '4.169', '7.743', '6.482',\n",
              "       '5.756', '7.382', '7.571', '5.188', '6.469', '7.690', '7.850',\n",
              "       '7.653', '5.667', '7.118', '7.154', '8.292', '8.123', '6.583',\n",
              "       '6.759', '7.215', '5.185', '9.021', '7.644', '6.387', '5.511',\n",
              "       '7.440', '5.539', '7.044', '8.268', '7.895', '7.599', '5.735',\n",
              "       '7.497', '6.853', '8.008', '5.580', '7.296', '7.972', '7.285',\n",
              "       '7.971', '8.414', '7.254', '5.868', '7.082', '8.494', '7.626',\n",
              "       '7.620', '8.090', '7.223', '5.956', '4.586', '4.808', '4.824',\n",
              "       '6.078', '7.835', '7.565', '7.292', '5.728', '6.800', '8.431',\n",
              "       '7.873', '8.489', '7.543', '6.489', '4.740', '8.418', '8.371',\n",
              "       '5.755', '8.385', '8.133', '6.885', '8.644', '5.049', '7.246',\n",
              "       '8.681', '7.336', '7.490', '7.332', '6.535', '7.039', '2.735',\n",
              "       '8.019', '8.881', '7.413', '7.476', '8.806', '6.374', '4.940',\n",
              "       '5.787', '7.310', '6.913', '8.358', '8.583', '6.682', '2.942',\n",
              "       '5.193', '5.742', '7.442', '7.438', '5.888', '3.754', '4.494',\n",
              "       '6.783', '9.163', '6.633', '7.396', '3.868', '6.942', '8.046',\n",
              "       '5.615', '5.348', '5.336', '5.479', '6.722', '7.872', '7.963',\n",
              "       '5.411', '4.600', '6.842', '8.040', '6.048', '6.917', '5.101',\n",
              "       '7.738', '7.908', '6.042', '6.675', '8.665', '8.263', '7.294',\n",
              "       '6.197', '7.106', '6.814', '7.286', '7.449', '8.713', '5.129',\n",
              "       '6.911', '5.494', '5.029', '8.271', '2.767', '5.981', '5.686',\n",
              "       '5.690', '6.890', '5.113', '7.431', '8.042', '8.085', '6.421',\n",
              "       '7.002', '8.061', '9.107', '8.675', '7.985', '6.508', '4.785',\n",
              "       '6.872', '5.421', '6.983', '6.546', '8.065', '8.401', '8.921',\n",
              "       '9.211', '5.424', '5.500', '5.450', '6.118', '8.533', '5.341',\n",
              "       '8.650', '5.531', '6.506', '7.211', '5.943', '2.468', '7.250',\n",
              "       '9.046', '7.133', '6.993', '9.176', '4.769', '8.075', '7.275',\n",
              "       '6.231', '7.549', '6.958', '8.073', '8.758', '7.207', '7.760',\n",
              "       '4.286', '4.186', '6.733', '7.482', '6.418', '8.506', '7.351',\n",
              "       '5.825', '5.506', '4.335', '6.315', '6.598', '6.644', '5.683',\n",
              "       '6.850', '7.444', '8.151', '7.713', '6.243', '8.586', '7.069',\n",
              "       '7.724', '8.396', '8.846', '4.088', '8.081', '6.258', '4.451',\n",
              "       '5.864', '6.192', '8.069', '6.379', '7.083', '4.511', '7.772',\n",
              "       '7.933', '6.058', '7.411', '5.135', '8.092', '5.835', '7.273',\n",
              "       '9.069', '7.144', '6.133', '8.632', '5.364', '6.082', '6.772',\n",
              "       '6.239', '5.061', '8.866', '6.517', '7.475', '5.910', '7.219',\n",
              "       '7.247', '7.757', '7.289', '8.581', '6.883', '6.557', '4.625',\n",
              "       '7.747', '7.542', '6.908', '7.233', '7.604', '7.494', '8.064',\n",
              "       '7.261', '7.885', '6.029', '7.239', '3.300', '8.596', '8.254',\n",
              "       '5.933', '6.249', '8.296', '4.081', '6.427', '5.207', '7.107',\n",
              "       '6.050', '5.751', '6.892', '8.767', '6.858', '8.931', '7.693',\n",
              "       '7.506', '3.752', '7.400', '7.636', '7.844', '7.008', '5.672',\n",
              "       '8.782', '8.863', '7.451', '7.679', '7.718', '6.619', '8.367',\n",
              "       '8.250', '7.457', '8.788', '3.599', '4.900', '6.817', '8.000',\n",
              "       '6.540', '7.501', '7.758', '7.194', '7.033', '6.914', '7.859',\n",
              "       '4.450', '3.498', '7.954', '6.234', '7.746', '7.329', '5.653',\n",
              "       '7.179', '7.225', '9.294', '8.814', '8.313', '8.331', '4.000',\n",
              "       '6.889', '6.621', '8.217', '6.871', '7.242', '6.376', '3.638',\n",
              "       '7.129', '7.383', '7.634', '7.264', '5.047', '7.547', '7.961',\n",
              "       '5.774', '7.584', '6.497', '6.545', '6.969', '7.775', '8.181',\n",
              "       '7.318', '5.931', '9.048', '6.730', '7.130', '6.458', '6.571',\n",
              "       '3.979', '6.294', '8.104', '4.275', '9.025', '6.775', '5.915',\n",
              "       '8.003', '7.006', '7.614', '7.554', '4.615', '8.322', '4.814',\n",
              "       '7.025', '7.031', '8.797', '8.871', '6.748', '5.703', '7.496',\n",
              "       '7.401', '8.618', '6.779', '3.603', '5.588', '7.714', '4.133',\n",
              "       '2.717', '7.416', '7.229', '4.372', '5.574', '5.507', '7.389',\n",
              "       '6.047', '6.343', '7.789', '7.379', '6.541', '6.163', '6.254',\n",
              "       '4.817', '6.978', '8.468', '5.671', '4.729', '8.407', '8.015',\n",
              "       '7.546', '6.787', '6.860', '8.614', '6.844', '7.521', '7.936',\n",
              "       '7.297', '7.983', '3.827', '4.892', '6.625', '5.075', '7.572',\n",
              "       '7.518', '7.186', '4.396', '7.117', '8.775', '4.831', '6.511',\n",
              "       '3.996', '5.664', '6.606', '7.422'], dtype=object)"
            ]
          },
          "metadata": {},
          "execution_count": 96
        }
      ],
      "source": [
        "df_2021[\"INDE_2021\"].unique()"
      ]
    },
    {
      "cell_type": "code",
      "execution_count": 97,
      "metadata": {
        "id": "kjeF6tRmtSG8",
        "outputId": "62e4912f-e09f-4ce5-b7f0-f9e9276128b5",
        "colab": {
          "base_uri": "https://localhost:8080/"
        }
      },
      "outputs": [
        {
          "output_type": "execute_result",
          "data": {
            "text/plain": [
              "NOME\n",
              "ALUNO-71     #NULO!\n",
              "ALUNO-506    #NULO!\n",
              "Name: INDE_2021, dtype: object"
            ]
          },
          "metadata": {},
          "execution_count": 97
        }
      ],
      "source": [
        "df_2021[\"INDE_2021\"].loc[df_2021[\"INDE_2021\"] == \"#NULO!\"]"
      ]
    },
    {
      "cell_type": "code",
      "execution_count": 98,
      "metadata": {
        "id": "CHClzZWdtSG8"
      },
      "outputs": [],
      "source": [
        "df_2021[\"INDE_2021\"] = df_2021[\"INDE_2021\"].replace('#NULO!','0.0')"
      ]
    },
    {
      "cell_type": "code",
      "execution_count": 99,
      "metadata": {
        "id": "T2Wbom_5tSG8"
      },
      "outputs": [],
      "source": [
        "df_2021['INDE_2021'] = df_2021['INDE_2021'].astype(pd.Float64Dtype())"
      ]
    },
    {
      "cell_type": "code",
      "execution_count": 100,
      "metadata": {
        "id": "2Nk_L-pTtSG8"
      },
      "outputs": [],
      "source": [
        "df_2021['INDE_2021'] = np.round(df_2021['INDE_2021'], decimals=3)"
      ]
    },
    {
      "cell_type": "markdown",
      "metadata": {
        "id": "VDeziOIYtSG8"
      },
      "source": [
        "### Classificaça o do Aluno baseado no nu mero do INDE, o conceito de classificaça o e dado por:\n",
        "####Quartzo – 2,405 a 5,506\n",
        "####Agata – 5,506 a 6,868\n",
        "####Ametista – 6,868 a 8,230\n",
        "####Topazio – 8,230 a 9,294."
      ]
    },
    {
      "cell_type": "code",
      "execution_count": 101,
      "metadata": {
        "colab": {
          "base_uri": "https://localhost:8080/"
        },
        "id": "WKvu3d-UtSG8",
        "outputId": "d6f3e9cd-f4e2-4c00-d7ad-f26bffe59963"
      },
      "outputs": [
        {
          "output_type": "execute_result",
          "data": {
            "text/plain": [
              "array(['Ametista', 'Topázio', 'Quartzo', 'Ágata', '#NULO!'], dtype=object)"
            ]
          },
          "metadata": {},
          "execution_count": 101
        }
      ],
      "source": [
        "df_2021[\"PEDRA_2021\"].unique()"
      ]
    },
    {
      "cell_type": "code",
      "execution_count": 102,
      "metadata": {
        "id": "6IP6SntJtSG8"
      },
      "outputs": [],
      "source": [
        "df_2021[\"PEDRA_2021\"] = df_2021[\"PEDRA_2021\"].replace('#NULO!','Não se Aplica')"
      ]
    },
    {
      "cell_type": "code",
      "execution_count": 103,
      "metadata": {
        "id": "AFKJ1XECtSG8"
      },
      "outputs": [],
      "source": [
        "df_2021[\"PEDRA_2021\"] = df_2021[\"PEDRA_2021\"].astype(\"category\")"
      ]
    },
    {
      "cell_type": "markdown",
      "metadata": {
        "id": "UWKgPjj8tSG8"
      },
      "source": [
        "#### Indicador de Auto Avaliçao"
      ]
    },
    {
      "cell_type": "code",
      "execution_count": 104,
      "metadata": {
        "colab": {
          "base_uri": "https://localhost:8080/"
        },
        "id": "DhqyAEfBtSG8",
        "outputId": "a519b2d1-e9bd-4cd2-c642-28cead5ab315"
      },
      "outputs": [
        {
          "output_type": "execute_result",
          "data": {
            "text/plain": [
              "array([ 7.5,  7.1,  7.4,  8.8,  9. ,  8. ,  9.5, 10. ,  8.3,  9.6,  6.9,\n",
              "        9.2,  0. ,  3.8,  8.5,  7.9,  8.9,  6.3,  6.7,  3.5,  5.8,  7. ,\n",
              "        7.8,  4.6,  8.4,  5.4,  6.8,  5.3,  6.4])"
            ]
          },
          "metadata": {},
          "execution_count": 104
        }
      ],
      "source": [
        "df_2021[\"IAA_2021\"].unique()"
      ]
    },
    {
      "cell_type": "code",
      "execution_count": 105,
      "metadata": {
        "id": "-Sa4faVjtSG8"
      },
      "outputs": [],
      "source": [
        "df_2021['IAA_2021'] = df_2021['IAA_2021'].astype(pd.Float64Dtype())"
      ]
    },
    {
      "cell_type": "code",
      "execution_count": 106,
      "metadata": {
        "id": "yMeLo3XXtSG9"
      },
      "outputs": [],
      "source": [
        "df_2021['IAA_2021'] = np.round(df_2021['IAA_2021'], decimals=3)"
      ]
    },
    {
      "cell_type": "markdown",
      "metadata": {
        "id": "mJkzK6UPtSG9"
      },
      "source": [
        "#### IEG"
      ]
    },
    {
      "cell_type": "code",
      "execution_count": 107,
      "metadata": {
        "colab": {
          "base_uri": "https://localhost:8080/"
        },
        "id": "2YBRi6HPtSG9",
        "outputId": "a2d10d65-0aec-450e-b218-978c45dc2561"
      },
      "outputs": [
        {
          "output_type": "execute_result",
          "data": {
            "text/plain": [
              "array([ 6.3,  6.9,  7.5,  8.6, 10. ,  0. ,  4.2,  3.3,  9.2,  5.3,  2.9,\n",
              "        9.4,  6.4,  5.4,  7.8,  5. ,  6.7,  5.8,  8.9,  1.3,  4.6,  9.6,\n",
              "        3.6,  5.6,  8.8,  1.1,  7.9,  8.1,  3.1,  7.1,  8.3,  4.4,  6.1,\n",
              "        1.7,  7.2,  3.9,  2.8,  0.4,  2.1,  9.7,  3.8,  4.7,  2.5,  2.2,\n",
              "        0.8,  0.6,  1.9])"
            ]
          },
          "metadata": {},
          "execution_count": 107
        }
      ],
      "source": [
        "df_2021[\"IEG_2021\"].unique()"
      ]
    },
    {
      "cell_type": "code",
      "execution_count": 108,
      "metadata": {
        "id": "Pz5MaLwptSG9"
      },
      "outputs": [],
      "source": [
        "df_2021['IEG_2021'] = df_2021['IEG_2021'].astype(pd.Float64Dtype())"
      ]
    },
    {
      "cell_type": "code",
      "execution_count": 109,
      "metadata": {
        "id": "ObIZXeMVtSG9"
      },
      "outputs": [],
      "source": [
        "df_2021['IEG_2021'] = np.round(df_2021['IEG_2021'], decimals=3)"
      ]
    },
    {
      "cell_type": "markdown",
      "metadata": {
        "id": "tUjrfQi_tSG9"
      },
      "source": [
        "#### IPS"
      ]
    },
    {
      "cell_type": "code",
      "execution_count": 110,
      "metadata": {
        "colab": {
          "base_uri": "https://localhost:8080/"
        },
        "id": "kv65mfZgtSG9",
        "outputId": "d376edd7-e083-4d81-f2de-038e10027639"
      },
      "outputs": [
        {
          "output_type": "execute_result",
          "data": {
            "text/plain": [
              "array([6.9, 6.3, 7.5, 3.8, 8.1, 5.6, 5. , 2.5, 4.4, 0. , 8.8, 3.1, 1.9])"
            ]
          },
          "metadata": {},
          "execution_count": 110
        }
      ],
      "source": [
        "df_2021[\"IPS_2021\"].unique()"
      ]
    },
    {
      "cell_type": "code",
      "execution_count": 111,
      "metadata": {
        "id": "rolP0PJatSG9"
      },
      "outputs": [],
      "source": [
        "df_2021['IPS_2021'] = df_2021['IPS_2021'].astype(pd.Float64Dtype())"
      ]
    },
    {
      "cell_type": "code",
      "execution_count": 112,
      "metadata": {
        "id": "xYWDMnH3tSG9"
      },
      "outputs": [],
      "source": [
        "df_2021['IPS_2021'] = np.round(df_2021['IPS_2021'], decimals=3)"
      ]
    },
    {
      "cell_type": "markdown",
      "metadata": {
        "id": "6LiCL4SktSG9"
      },
      "source": [
        "#### IDA"
      ]
    },
    {
      "cell_type": "code",
      "execution_count": 113,
      "metadata": {
        "id": "MssdBT7btSG9",
        "outputId": "3349c56a-420c-451c-e586-552436682156",
        "colab": {
          "base_uri": "https://localhost:8080/"
        }
      },
      "outputs": [
        {
          "output_type": "execute_result",
          "data": {
            "text/plain": [
              "array([8.8, 5.6, 5.4, 7.1, 0.8, 2.6, 5.3, 4.6, 3.8, 5.5, 8.2, 4.7, 6.5,\n",
              "       5.1, 6. , 6.8, 4. , 6.9, 4.1, 7.6, 6.1, 0. , 3.1, 5.9, 1.1, 3.6,\n",
              "       8.5, 6.4, 3. , 7.8, 7.4, 2.2, 1.3, 5.8, 6.3, 4.8, 6.2, 2.8, 7.9,\n",
              "       4.5, 4.3, 9.1, 8. , 7.5, 1.5, 3.4, 7.3, 6.6, 2.5, 4.9, 7.7, 3.3,\n",
              "       2. , 4.2, 1.9, 1.8, 6.7, 2.1, 2.9, 3.2, 8.7, 7. , 0.4, 3.5, 8.1,\n",
              "       3.9, 1.7, 9. , 5.2, 7.2, 1.2, 0.7, 1. , 5. , 8.4, 5.7, 9.2, 2.7,\n",
              "       2.3, 2.4, 9.4, 9.3, 8.3, 4.4, 8.9, 1.6, 0.9, 8.6, 3.7, 9.5, 0.6])"
            ]
          },
          "metadata": {},
          "execution_count": 113
        }
      ],
      "source": [
        "df_2021[\"IDA_2021\"].unique()"
      ]
    },
    {
      "cell_type": "code",
      "execution_count": 114,
      "metadata": {
        "id": "rj3tKTi1tSG9"
      },
      "outputs": [],
      "source": [
        "df_2021['IDA_2021'] = df_2021['IDA_2021'].astype(pd.Float64Dtype())"
      ]
    },
    {
      "cell_type": "code",
      "execution_count": 115,
      "metadata": {
        "id": "JCKzdL9QtSG9"
      },
      "outputs": [],
      "source": [
        "df_2021['IDA_2021'] = np.round(df_2021['IDA_2021'], decimals=3)"
      ]
    },
    {
      "cell_type": "markdown",
      "metadata": {
        "id": "ioUzNIvntSG9"
      },
      "source": [
        "#### IPP"
      ]
    },
    {
      "cell_type": "code",
      "execution_count": 116,
      "metadata": {
        "id": "aEm2VKjAtSG9",
        "outputId": "bd5a5969-9191-437b-9952-5986a8193c9e",
        "colab": {
          "base_uri": "https://localhost:8080/"
        }
      },
      "outputs": [
        {
          "output_type": "execute_result",
          "data": {
            "text/plain": [
              "array([ 7.7,  7.3,  8.5,  8. ,  0. ,  8.4,  9.4,  7.5,  8.3,  7.2,  8.1,\n",
              "        7.8,  6.9,  8.8,  4.7,  5.6,  6.6,  6.3,  7.9,  6.7,  2.5,  5. ,\n",
              "       10. ,  5.3,  5.8,  7.1,  4.1,  5.9,  8.6,  3.8,  7. ,  9. ,  4.6,\n",
              "        8.9,  9.2,  9.8,  5.2,  4.4,  6. ,  9.1,  6.5,  5.4])"
            ]
          },
          "metadata": {},
          "execution_count": 116
        }
      ],
      "source": [
        "df_2021[\"IPP_2021\"].unique()"
      ]
    },
    {
      "cell_type": "code",
      "execution_count": 117,
      "metadata": {
        "id": "zSJcFcyGtSG9"
      },
      "outputs": [],
      "source": [
        "df_2021['IPP_2021'] = df_2021['IPP_2021'].astype(pd.Float64Dtype())"
      ]
    },
    {
      "cell_type": "code",
      "execution_count": 118,
      "metadata": {
        "id": "V4Af7T72tSG-"
      },
      "outputs": [],
      "source": [
        "df_2021['IPP_2021'] = np.round(df_2021['IPP_2021'], decimals=3)"
      ]
    },
    {
      "cell_type": "markdown",
      "metadata": {
        "id": "_wrngygutSG-"
      },
      "source": [
        "#### IPV"
      ]
    },
    {
      "cell_type": "code",
      "execution_count": 119,
      "metadata": {
        "id": "clpkE7u1tSG-",
        "outputId": "dff8e0e8-8aa9-4b5b-c523-cdc8c97e42cd",
        "colab": {
          "base_uri": "https://localhost:8080/"
        }
      },
      "outputs": [
        {
          "output_type": "execute_result",
          "data": {
            "text/plain": [
              "array([ 8.1,  7.2,  7.4,  8.5,  9.7,  6. ,  8.8,  5.2,  8.3,  9.9,  7.9,\n",
              "        8.7,  9.4,  6.7,  7.8,  8. ,  8.4,  5.8,  8.6,  9.2,  7. ,  7.7,\n",
              "        5.1,  6.2, 10. ,  6.1,  0. ,  5.6,  9.1,  2.5,  5.9,  4.1,  7.5,\n",
              "        3.8,  6.8,  3.7,  8.2,  6.9,  6.6,  7.6,  7.3,  4.3,  9.8,  9. ,\n",
              "        6.3,  9.3,  4.4,  5.7,  9.6,  3.5,  4.7,  8.9,  4.8,  3.9,  2.6,\n",
              "        5.5,  6.4,  9.5,  5.3,  4.6,  6.5,  4.2,  5.4,  7.1,  4.9,  4.5,\n",
              "        3.3,  4. ,  3.6,  3.4,  5. ,  2.9,  2.8])"
            ]
          },
          "metadata": {},
          "execution_count": 119
        }
      ],
      "source": [
        "df_2021[\"IPV_2021\"].unique()"
      ]
    },
    {
      "cell_type": "code",
      "execution_count": 120,
      "metadata": {
        "id": "2lE0YuWwtSG-"
      },
      "outputs": [],
      "source": [
        "df_2021['IPV_2021'] = df_2021['IPV_2021'].astype(pd.Float64Dtype())"
      ]
    },
    {
      "cell_type": "code",
      "execution_count": 121,
      "metadata": {
        "id": "0UWqFwYGtSG-"
      },
      "outputs": [],
      "source": [
        "df_2021['IPV_2021'] = np.round(df_2021['IPV_2021'], decimals=3)"
      ]
    },
    {
      "cell_type": "markdown",
      "metadata": {
        "id": "xR5Cp-zHtSG-"
      },
      "source": [
        "#### IAN"
      ]
    },
    {
      "cell_type": "code",
      "execution_count": 122,
      "metadata": {
        "id": "ySCxEeButSG-",
        "outputId": "da6b071a-408e-4204-cd02-431bf64a4d69",
        "colab": {
          "base_uri": "https://localhost:8080/"
        }
      },
      "outputs": [
        {
          "output_type": "execute_result",
          "data": {
            "text/plain": [
              "array([ 5. , 10. ,  2.5])"
            ]
          },
          "metadata": {},
          "execution_count": 122
        }
      ],
      "source": [
        "df_2021[\"IAN_2021\"].unique()"
      ]
    },
    {
      "cell_type": "code",
      "execution_count": 123,
      "metadata": {
        "id": "Qk20z0odtSG-"
      },
      "outputs": [],
      "source": [
        "df_2021['IAN_2021'] = df_2021['IAN_2021'].astype(pd.Float64Dtype())"
      ]
    },
    {
      "cell_type": "code",
      "execution_count": 124,
      "metadata": {
        "id": "5oCHJXN4tSG-"
      },
      "outputs": [],
      "source": [
        "df_2021['IAN_2021'] = np.round(df_2021['IAN_2021'], decimals=2)"
      ]
    },
    {
      "cell_type": "markdown",
      "metadata": {
        "id": "K2HTmgvRtSG-"
      },
      "source": [
        "#### REC 1"
      ]
    },
    {
      "cell_type": "code",
      "execution_count": 125,
      "metadata": {
        "id": "J_cZ162ztSG-",
        "outputId": "23685eeb-6bbe-40dd-c325-b4aa211364bb",
        "colab": {
          "base_uri": "https://localhost:8080/"
        }
      },
      "outputs": [
        {
          "output_type": "execute_result",
          "data": {
            "text/plain": [
              "array(['Promovido de Fase', 'Promovido de Fase + Bolsa', 'Não avaliado',\n",
              "       'Mantido na Fase atual', 'Mantido na Fase + Bolsa',\n",
              "       'Alocado em Fase anterior'], dtype=object)"
            ]
          },
          "metadata": {},
          "execution_count": 125
        }
      ],
      "source": [
        "df_2021[\"REC_EQUIPE_1_2021\"].unique()"
      ]
    },
    {
      "cell_type": "code",
      "execution_count": 126,
      "metadata": {
        "id": "ASHSFPYztSG-"
      },
      "outputs": [],
      "source": [
        "df_2021[\"REC_EQUIPE_1_2021\"] = df_2021[\"REC_EQUIPE_1_2021\"].astype(\"category\")"
      ]
    },
    {
      "cell_type": "markdown",
      "metadata": {
        "id": "1oJw-EautSG-"
      },
      "source": [
        "#### REC 2"
      ]
    },
    {
      "cell_type": "code",
      "execution_count": 127,
      "metadata": {
        "id": "X_NnbFoBtSG-",
        "outputId": "3fb3b804-c8aa-4348-b66d-125e61d0e611",
        "colab": {
          "base_uri": "https://localhost:8080/"
        }
      },
      "outputs": [
        {
          "output_type": "execute_result",
          "data": {
            "text/plain": [
              "array(['Promovido de Fase', 'Mantido na Fase atual', 'Não avaliado',\n",
              "       'Promovido de Fase + Bolsa', 'Mantido na Fase + Bolsa',\n",
              "       'Alocado em Fase anterior'], dtype=object)"
            ]
          },
          "metadata": {},
          "execution_count": 127
        }
      ],
      "source": [
        "df_2021[\"REC_EQUIPE_2_2021\"].unique()"
      ]
    },
    {
      "cell_type": "code",
      "execution_count": 128,
      "metadata": {
        "id": "khXBkBcItSG_"
      },
      "outputs": [],
      "source": [
        "df_2021[\"REC_EQUIPE_2_2021\"] = df_2021[\"REC_EQUIPE_2_2021\"].astype(\"category\")"
      ]
    },
    {
      "cell_type": "markdown",
      "metadata": {
        "id": "LVrYNYwZtSG_"
      },
      "source": [
        "#### REC 3"
      ]
    },
    {
      "cell_type": "code",
      "execution_count": 129,
      "metadata": {
        "id": "2BksNi6GtSG_",
        "outputId": "922dffa9-eb07-4102-c557-4c9945c81328",
        "colab": {
          "base_uri": "https://localhost:8080/"
        }
      },
      "outputs": [
        {
          "output_type": "execute_result",
          "data": {
            "text/plain": [
              "array(['Mantido na Fase atual', 'Promovido de Fase', 'Não avaliado',\n",
              "       'Mantido na Fase + Bolsa', 'Promovido de Fase + Bolsa',\n",
              "       'Alocado em Fase anterior'], dtype=object)"
            ]
          },
          "metadata": {},
          "execution_count": 129
        }
      ],
      "source": [
        "df_2021[\"REC_EQUIPE_3_2021\"].unique()"
      ]
    },
    {
      "cell_type": "code",
      "execution_count": 130,
      "metadata": {
        "id": "Gtn0yHBktSG_"
      },
      "outputs": [],
      "source": [
        "df_2021[\"REC_EQUIPE_3_2021\"] = df_2021[\"REC_EQUIPE_3_2021\"].astype(\"category\")"
      ]
    },
    {
      "cell_type": "markdown",
      "metadata": {
        "id": "ECGnRnmWtSG_"
      },
      "source": [
        "#### REC 4"
      ]
    },
    {
      "cell_type": "code",
      "execution_count": 131,
      "metadata": {
        "id": "8kGa-i52tSG_",
        "outputId": "b56e0f27-ea5b-40b3-d6da-cd4c4189a2e3",
        "colab": {
          "base_uri": "https://localhost:8080/"
        }
      },
      "outputs": [
        {
          "output_type": "execute_result",
          "data": {
            "text/plain": [
              "array(['Não avaliado', 'Mantido na Fase atual', 'Promovido de Fase',\n",
              "       'Promovido de Fase + Bolsa', 'Mantido na Fase + Bolsa',\n",
              "       'Alocado em Fase anterior'], dtype=object)"
            ]
          },
          "metadata": {},
          "execution_count": 131
        }
      ],
      "source": [
        "df_2021[\"REC_EQUIPE_4_2021\"].unique()"
      ]
    },
    {
      "cell_type": "code",
      "execution_count": 132,
      "metadata": {
        "id": "EJEArSlitSG_"
      },
      "outputs": [],
      "source": [
        "df_2021[\"REC_EQUIPE_4_2021\"] = df_2021[\"REC_EQUIPE_4_2021\"].astype(\"category\")"
      ]
    },
    {
      "cell_type": "markdown",
      "metadata": {
        "id": "N3uHFyM1tSG_"
      },
      "source": [
        "#### Nivel"
      ]
    },
    {
      "cell_type": "code",
      "execution_count": 133,
      "metadata": {
        "id": "IaBlyFpQtSG_",
        "outputId": "1f878b2c-181d-429e-acba-620ae868a3d0",
        "colab": {
          "base_uri": "https://localhost:8080/"
        }
      },
      "outputs": [
        {
          "output_type": "execute_result",
          "data": {
            "text/plain": [
              "array(['Nível 3 (7o e 8o ano)', 'Nível 2 (5o e 6o ano)',\n",
              "       'Nível 5 (1o EM)', 'Nível 1 (4o ano)', 'Nível 4 (9o ano)',\n",
              "       'Nível 8 (Universitários)', 'Nível 6 (2o EM)',\n",
              "       'ALFA  (2o e 3o ano)', 'Nível 7 (3o EM)', 'ERRO'], dtype=object)"
            ]
          },
          "metadata": {},
          "execution_count": 133
        }
      ],
      "source": [
        "df_2021[\"NIVEL_IDEAL_2021\"].unique()"
      ]
    },
    {
      "cell_type": "code",
      "execution_count": 134,
      "metadata": {
        "id": "hdKtGv7PtSG_",
        "outputId": "595d4b44-9a0a-472a-a051-70d26c4226c8",
        "colab": {
          "base_uri": "https://localhost:8080/"
        }
      },
      "outputs": [
        {
          "output_type": "execute_result",
          "data": {
            "text/plain": [
              "NOME\n",
              "ALUNO-374     ERRO\n",
              "ALUNO-1196    ERRO\n",
              "Name: NIVEL_IDEAL_2021, dtype: object"
            ]
          },
          "metadata": {},
          "execution_count": 134
        }
      ],
      "source": [
        "df_2021[\"NIVEL_IDEAL_2021\"].loc[df_2021[\"NIVEL_IDEAL_2021\"] == 'ERRO']"
      ]
    },
    {
      "cell_type": "code",
      "execution_count": 135,
      "metadata": {
        "id": "N3V7XtiktSG_",
        "outputId": "dbccf347-2783-4b54-9fb8-2be6463133e5",
        "colab": {
          "base_uri": "https://localhost:8080/"
        }
      },
      "outputs": [
        {
          "output_type": "execute_result",
          "data": {
            "text/plain": [
              "INSTITUICAO_ENSINO_ALUNO_2021               Escola Pública\n",
              "FASE_2021                                                7\n",
              "TURMA_2021                                               A\n",
              "PONTO_VIRADA_2021                                      Não\n",
              "SINALIZADOR_INGRESSANTE_2021                   Ingressante\n",
              "INDE_2021                                            8.276\n",
              "PEDRA_2021                                         Topázio\n",
              "IAA_2021                                               9.6\n",
              "IEG_2021                                               9.4\n",
              "IPS_2021                                               7.5\n",
              "IDA_2021                                               6.4\n",
              "IPP_2021                                               8.1\n",
              "IPV_2021                                               7.9\n",
              "IAN_2021                                              10.0\n",
              "REC_EQUIPE_1_2021                Promovido de Fase + Bolsa\n",
              "REC_EQUIPE_2_2021                Promovido de Fase + Bolsa\n",
              "REC_EQUIPE_3_2021                Promovido de Fase + Bolsa\n",
              "REC_EQUIPE_4_2021                Promovido de Fase + Bolsa\n",
              "NIVEL_IDEAL_2021                                      ERRO\n",
              "DEFASAGEM_2021                                         0.0\n",
              "Name: ALUNO-374, dtype: object"
            ]
          },
          "metadata": {},
          "execution_count": 135
        }
      ],
      "source": [
        "df_2021.iloc[178]"
      ]
    },
    {
      "cell_type": "code",
      "execution_count": 136,
      "metadata": {
        "id": "i-B71epBtSG_",
        "outputId": "e1668aba-fdc9-4f85-c2d2-37372ca51818",
        "colab": {
          "base_uri": "https://localhost:8080/"
        }
      },
      "outputs": [
        {
          "output_type": "execute_result",
          "data": {
            "text/plain": [
              "INSTITUICAO_ENSINO_ALUNO_2021               Escola Pública\n",
              "FASE_2021                                                7\n",
              "TURMA_2021                                               A\n",
              "PONTO_VIRADA_2021                                      Não\n",
              "SINALIZADOR_INGRESSANTE_2021                   Ingressante\n",
              "INDE_2021                                            7.892\n",
              "PEDRA_2021                                        Ametista\n",
              "IAA_2021                                               9.2\n",
              "IEG_2021                                               6.9\n",
              "IPS_2021                                               7.5\n",
              "IDA_2021                                               6.1\n",
              "IPP_2021                                               8.3\n",
              "IPV_2021                                               9.0\n",
              "IAN_2021                                              10.0\n",
              "REC_EQUIPE_1_2021                Promovido de Fase + Bolsa\n",
              "REC_EQUIPE_2_2021                Promovido de Fase + Bolsa\n",
              "REC_EQUIPE_3_2021                Promovido de Fase + Bolsa\n",
              "REC_EQUIPE_4_2021                Promovido de Fase + Bolsa\n",
              "NIVEL_IDEAL_2021                                      ERRO\n",
              "DEFASAGEM_2021                                         0.0\n",
              "Name: ALUNO-1196, dtype: object"
            ]
          },
          "metadata": {},
          "execution_count": 136
        }
      ],
      "source": [
        "df_2021.iloc[615]"
      ]
    },
    {
      "cell_type": "code",
      "execution_count": 137,
      "metadata": {
        "id": "9eSHyEYDtSG_"
      },
      "outputs": [],
      "source": [
        "df_2021[\"NIVEL_IDEAL_2021\"] = df_2021[\"NIVEL_IDEAL_2021\"].replace('ERRO','Não se Aplica')"
      ]
    },
    {
      "cell_type": "code",
      "execution_count": 138,
      "metadata": {
        "id": "AYwSs7ratSG_",
        "outputId": "fdf20e04-37bc-457c-c324-7908a9c6a99a",
        "colab": {
          "base_uri": "https://localhost:8080/"
        }
      },
      "outputs": [
        {
          "output_type": "execute_result",
          "data": {
            "text/plain": [
              "array(['Nível 3 (7o e 8o ano)', 'Nível 2 (5o e 6o ano)',\n",
              "       'Nível 5 (1o EM)', 'Nível 1 (4o ano)', 'Nível 4 (9o ano)',\n",
              "       'Nível 8 (Universitários)', 'Nível 6 (2o EM)',\n",
              "       'ALFA  (2o e 3o ano)', 'Nível 7 (3o EM)', 'Não se Aplica'],\n",
              "      dtype=object)"
            ]
          },
          "metadata": {},
          "execution_count": 138
        }
      ],
      "source": [
        "df_2021[\"NIVEL_IDEAL_2021\"].unique()"
      ]
    },
    {
      "cell_type": "code",
      "execution_count": 139,
      "metadata": {
        "id": "e21_pf9mtSG_"
      },
      "outputs": [],
      "source": [
        "df_2021[\"NIVEL_IDEAL_2021\"] = df_2021[\"NIVEL_IDEAL_2021\"].astype(\"category\")"
      ]
    },
    {
      "cell_type": "markdown",
      "metadata": {
        "id": "SLuQ4WGCtSHA"
      },
      "source": [
        "#### Defasagem"
      ]
    },
    {
      "cell_type": "code",
      "execution_count": 140,
      "metadata": {
        "id": "Fo2rKXRotSHA",
        "outputId": "1c7c3f51-98fe-4ef5-b889-041f5e923746",
        "colab": {
          "base_uri": "https://localhost:8080/"
        }
      },
      "outputs": [
        {
          "output_type": "execute_result",
          "data": {
            "text/plain": [
              "array([-1.,  0., -2.,  1., -4., -3.,  3.])"
            ]
          },
          "metadata": {},
          "execution_count": 140
        }
      ],
      "source": [
        "df_2021[\"DEFASAGEM_2021\"].unique()"
      ]
    },
    {
      "cell_type": "code",
      "execution_count": 141,
      "metadata": {
        "id": "m8t8yByktSHA"
      },
      "outputs": [],
      "source": [
        "df_2021['DEFASAGEM_2021'] = df_2021['DEFASAGEM_2021'].astype(pd.Int16Dtype())"
      ]
    },
    {
      "cell_type": "markdown",
      "metadata": {
        "id": "kK4i_X16tSHA"
      },
      "source": [
        "### Anos PM"
      ]
    },
    {
      "cell_type": "markdown",
      "metadata": {
        "id": "abi81xIUtSHA"
      },
      "source": [
        "#### DataFrame 2021 Final"
      ]
    },
    {
      "cell_type": "code",
      "execution_count": 142,
      "metadata": {
        "id": "0449symDtSHA",
        "outputId": "e7af80d1-bb3a-4f12-dd73-cbf01af64f44",
        "colab": {
          "base_uri": "https://localhost:8080/"
        }
      },
      "outputs": [
        {
          "output_type": "stream",
          "name": "stdout",
          "text": [
            "<class 'pandas.core.frame.DataFrame'>\n",
            "Index: 686 entries, ALUNO-1 to ALUNO-1348\n",
            "Data columns (total 20 columns):\n",
            " #   Column                         Non-Null Count  Dtype   \n",
            "---  ------                         --------------  -----   \n",
            " 0   INSTITUICAO_ENSINO_ALUNO_2021  686 non-null    category\n",
            " 1   FASE_2021                      686 non-null    category\n",
            " 2   TURMA_2021                     686 non-null    category\n",
            " 3   PONTO_VIRADA_2021              686 non-null    category\n",
            " 4   SINALIZADOR_INGRESSANTE_2021   686 non-null    category\n",
            " 5   INDE_2021                      686 non-null    Float64 \n",
            " 6   PEDRA_2021                     686 non-null    category\n",
            " 7   IAA_2021                       686 non-null    Float64 \n",
            " 8   IEG_2021                       686 non-null    Float64 \n",
            " 9   IPS_2021                       686 non-null    Float64 \n",
            " 10  IDA_2021                       686 non-null    Float64 \n",
            " 11  IPP_2021                       686 non-null    Float64 \n",
            " 12  IPV_2021                       686 non-null    Float64 \n",
            " 13  IAN_2021                       686 non-null    Float64 \n",
            " 14  REC_EQUIPE_1_2021              686 non-null    category\n",
            " 15  REC_EQUIPE_2_2021              686 non-null    category\n",
            " 16  REC_EQUIPE_3_2021              686 non-null    category\n",
            " 17  REC_EQUIPE_4_2021              686 non-null    category\n",
            " 18  NIVEL_IDEAL_2021               686 non-null    category\n",
            " 19  DEFASAGEM_2021                 686 non-null    Int16   \n",
            "dtypes: Float64(8), Int16(1), category(11)\n",
            "memory usage: 65.8+ KB\n"
          ]
        }
      ],
      "source": [
        "df_2021.info()"
      ]
    },
    {
      "cell_type": "code",
      "execution_count": 143,
      "metadata": {
        "id": "MG1c-qijtSHA"
      },
      "outputs": [],
      "source": [
        "df_2021.reset_index(inplace=True)"
      ]
    },
    {
      "cell_type": "code",
      "source": [
        "drive.mount('/content/drive')"
      ],
      "metadata": {
        "colab": {
          "base_uri": "https://localhost:8080/"
        },
        "id": "Dfu0-u4C2Nry",
        "outputId": "7e591e04-9b18-4cdb-a0cd-ac1637df1b1d"
      },
      "execution_count": 144,
      "outputs": [
        {
          "output_type": "stream",
          "name": "stdout",
          "text": [
            "Drive already mounted at /content/drive; to attempt to forcibly remount, call drive.mount(\"/content/drive\", force_remount=True).\n"
          ]
        }
      ]
    },
    {
      "cell_type": "code",
      "source": [],
      "metadata": {
        "id": "SX9b0lL42QQn"
      },
      "execution_count": 144,
      "outputs": []
    },
    {
      "cell_type": "code",
      "execution_count": 145,
      "metadata": {
        "id": "khMayLkgtSHA"
      },
      "outputs": [],
      "source": [
        "# Salvando o DataFrame\n",
        "df_2021.to_csv('/content/drive/My Drive/passos_2021.csv', index=False)"
      ]
    },
    {
      "cell_type": "markdown",
      "metadata": {
        "id": "ZFknJw4QtSHA"
      },
      "source": [
        "### Limpando DataFrame 2022"
      ]
    },
    {
      "cell_type": "markdown",
      "metadata": {
        "id": "GHXuv4Y8tSHA"
      },
      "source": [
        "#### Ano Ingresso"
      ]
    },
    {
      "cell_type": "code",
      "execution_count": 146,
      "metadata": {
        "id": "XiDPVC2XtSHA",
        "outputId": "fc63a238-b61e-4baf-c759-c45484972d7f",
        "colab": {
          "base_uri": "https://localhost:8080/"
        }
      },
      "outputs": [
        {
          "output_type": "execute_result",
          "data": {
            "text/plain": [
              "array([2022., 2019., 2017., 2020., 2018., 2021., 2016.])"
            ]
          },
          "metadata": {},
          "execution_count": 146
        }
      ],
      "source": [
        "df_2022[\"ANO_INGRESSO_2022\"].unique()"
      ]
    },
    {
      "cell_type": "code",
      "execution_count": 147,
      "metadata": {
        "id": "INZvKMD1tSHB"
      },
      "outputs": [],
      "source": [
        "df_2022['ANO_INGRESSO_2022'] = df_2022['ANO_INGRESSO_2022'].astype(pd.Int16Dtype())"
      ]
    },
    {
      "cell_type": "markdown",
      "metadata": {
        "id": "NWSnh1LqtSHB"
      },
      "source": [
        "#### Bolsista"
      ]
    },
    {
      "cell_type": "code",
      "execution_count": 148,
      "metadata": {
        "id": "wj6OnktftSHB",
        "outputId": "9ff7e298-f3bd-49e3-d87f-9f4fa4ff52ff",
        "colab": {
          "base_uri": "https://localhost:8080/"
        }
      },
      "outputs": [
        {
          "output_type": "execute_result",
          "data": {
            "text/plain": [
              "array(['Não', 'Sim'], dtype=object)"
            ]
          },
          "metadata": {},
          "execution_count": 148
        }
      ],
      "source": [
        "# Bool\n",
        "df_2022[\"BOLSISTA_2022\"].unique()"
      ]
    },
    {
      "cell_type": "code",
      "execution_count": 149,
      "metadata": {
        "id": "0I_NqcITtSHB"
      },
      "outputs": [],
      "source": [
        "df_2022[\"BOLSISTA_2022\"] = df_2022[\"BOLSISTA_2022\"].map({'Sim':True,'Não':False})"
      ]
    },
    {
      "cell_type": "markdown",
      "metadata": {
        "id": "hHwmXrJetSHB"
      },
      "source": [
        "#### Fase"
      ]
    },
    {
      "cell_type": "code",
      "execution_count": 150,
      "metadata": {
        "id": "iH9PXUoStSHB",
        "outputId": "cd56efa6-b0d9-4c13-e9dd-aa4e7feac70a",
        "colab": {
          "base_uri": "https://localhost:8080/"
        }
      },
      "outputs": [
        {
          "output_type": "execute_result",
          "data": {
            "text/plain": [
              "array([0., 2., 1., 5., 4., 3., 7., 6.])"
            ]
          },
          "metadata": {},
          "execution_count": 150
        }
      ],
      "source": [
        "# Category\n",
        "df_2022[\"FASE_2022\"].unique()"
      ]
    },
    {
      "cell_type": "code",
      "execution_count": 151,
      "metadata": {
        "id": "QKLQAr5ltSHB"
      },
      "outputs": [],
      "source": [
        "df_2022['FASE_2022'] = df_2022['FASE_2022'].astype(str).str[0]"
      ]
    },
    {
      "cell_type": "code",
      "execution_count": 152,
      "metadata": {
        "id": "sa8-k4VStSHB"
      },
      "outputs": [],
      "source": [
        "df_2022[\"FASE_2022\"] = df_2022[\"FASE_2022\"].astype(\"category\")"
      ]
    },
    {
      "cell_type": "markdown",
      "metadata": {
        "id": "NPL0BCMWtSHB"
      },
      "source": [
        "#### Turma"
      ]
    },
    {
      "cell_type": "code",
      "execution_count": 153,
      "metadata": {
        "id": "uHOUSDZvtSHB",
        "outputId": "7dd90693-e60d-4096-d564-246c2fbffc76",
        "colab": {
          "base_uri": "https://localhost:8080/"
        }
      },
      "outputs": [
        {
          "output_type": "execute_result",
          "data": {
            "text/plain": [
              "array(['K', 'J', 'L', 'U', 'Z', 'A', 'P', 'G', 'H', 'Q', 'N', 'Y', 'F',\n",
              "       'M', 'C', 'V', 'D', 'B', 'E', 'O', 'I', 'R', 'S', 'T'],\n",
              "      dtype=object)"
            ]
          },
          "metadata": {},
          "execution_count": 153
        }
      ],
      "source": [
        "# Category\n",
        "df_2022[\"TURMA_2022\"].unique()"
      ]
    },
    {
      "cell_type": "code",
      "execution_count": 154,
      "metadata": {
        "id": "bpF__Bg7tSHB"
      },
      "outputs": [],
      "source": [
        "df_2022[\"TURMA_2022\"] = df_2022[\"TURMA_2022\"].astype(\"category\")"
      ]
    },
    {
      "cell_type": "markdown",
      "metadata": {
        "id": "Ssrf0njYtSHB"
      },
      "source": [
        "#### Ponto de Virada"
      ]
    },
    {
      "cell_type": "code",
      "execution_count": 155,
      "metadata": {
        "id": "jdJZxQmYtSHB",
        "outputId": "5b6d5513-0f28-48d8-f306-751a67d15ddb",
        "colab": {
          "base_uri": "https://localhost:8080/"
        }
      },
      "outputs": [
        {
          "output_type": "execute_result",
          "data": {
            "text/plain": [
              "array(['Não', 'Sim'], dtype=object)"
            ]
          },
          "metadata": {},
          "execution_count": 155
        }
      ],
      "source": [
        "# Category\n",
        "df_2022[\"PONTO_VIRADA_2022\"].unique()"
      ]
    },
    {
      "cell_type": "code",
      "execution_count": 156,
      "metadata": {
        "id": "HhypystotSHB"
      },
      "outputs": [],
      "source": [
        "df_2022[\"PONTO_VIRADA_2022\"] = df_2022[\"PONTO_VIRADA_2022\"].astype(\"category\")"
      ]
    },
    {
      "cell_type": "markdown",
      "metadata": {
        "id": "5rqtTeyotSHC"
      },
      "source": [
        "#### INDE"
      ]
    },
    {
      "cell_type": "code",
      "execution_count": 157,
      "metadata": {
        "id": "emR_xr2ItSHC",
        "outputId": "3480cda7-c81a-466f-d144-5e009608b5ad",
        "colab": {
          "base_uri": "https://localhost:8080/"
        }
      },
      "outputs": [
        {
          "output_type": "execute_result",
          "data": {
            "text/plain": [
              "array([7.67550935, 7.11706505, 7.23233631, 7.74166867, 7.40674348,\n",
              "       7.28979544, 5.6657462 , 8.46468654, 6.9955042 , 6.72332593,\n",
              "       5.84572196, 7.84314904, 8.61624377, 5.65238586, 8.09849632,\n",
              "       7.78265827, 8.26975686, 7.95176507, 7.73802041, 6.35009197,\n",
              "       4.93555633, 8.08353568, 7.2631578 , 6.79270867, 6.66678775,\n",
              "       6.85403958, 7.55554176, 6.69538757, 4.2797659 , 6.730556  ,\n",
              "       7.39843656, 7.65278   , 3.91488129, 8.33958633, 4.96639363,\n",
              "       6.95319032, 3.03657338, 7.30515806, 5.78313295, 6.41035576,\n",
              "       6.68382133, 4.66493139, 7.98750311, 7.1718745 , 6.77019277,\n",
              "       7.59829722, 8.20555733, 7.72884383, 6.71204477, 6.68472272,\n",
              "       9.44152186, 8.30617528, 7.90166322, 7.60438731, 7.11049433,\n",
              "       6.58009326, 7.47420251, 7.20297752, 7.50240143, 7.74455362,\n",
              "       6.64481074, 8.4272698 , 5.19505698, 7.41288447, 7.23206882,\n",
              "       7.50175405, 7.39652728, 7.7833335 , 6.04231876, 7.47756878,\n",
              "       7.47586046, 7.10569066, 8.35771051, 6.01131119, 7.64229051,\n",
              "       7.42648545, 6.40909041, 7.48421115, 7.91389067, 8.33403111,\n",
              "       8.23090848, 6.24475219, 8.26527867, 7.61919436, 7.20956144,\n",
              "       7.21657589, 6.86574809, 7.00427656, 7.20323589, 8.25950483,\n",
              "       7.423958  , 7.2920606 , 7.08693883, 5.26271712, 8.45291043,\n",
              "       6.95204845, 7.3386367 , 8.08373067, 6.33091382, 7.94668634,\n",
              "       7.6189837 , 8.21995461, 8.22558217, 7.61838859, 9.10528094,\n",
              "       4.93449709, 7.53525991, 5.62385222, 7.48487888, 6.83721688,\n",
              "       8.18081097, 6.64131121, 6.98591403, 6.43417222, 7.2849369 ,\n",
              "       7.52383379, 7.30486078, 6.40707716, 7.54082211, 5.09660841,\n",
              "       8.27865518, 7.2053366 , 7.68295499, 6.03958633, 7.91076884,\n",
              "       7.09322772, 7.61704532, 6.70972511, 6.72202492, 7.17419693,\n",
              "       6.74547995, 7.25468043, 8.35471784, 6.87487327, 6.43841314,\n",
              "       7.32916933, 6.57500222, 7.66492399, 4.57167398, 7.85657189,\n",
              "       6.34424459, 6.41787518, 8.48808864, 8.36256812, 5.81064926,\n",
              "       6.63198787, 4.93211511, 6.60616855, 6.95731628, 5.31296407,\n",
              "       6.02596287, 7.67683238, 7.5607709 , 8.12115585, 6.92239189,\n",
              "       8.20745112, 6.62245953, 6.30925959, 4.55608577, 6.4540709 ,\n",
              "       8.14347456, 5.2464679 , 6.73631513, 6.30061157, 7.66071629,\n",
              "       8.3611879 , 8.01192725, 7.75506119, 7.416668  , 7.77565889,\n",
              "       8.39795655, 8.00000067, 7.58522838, 5.79019651, 7.56313707,\n",
              "       7.05485128, 6.59112701, 7.0353199 , 7.8340062 , 7.79847037,\n",
              "       8.000002  , 7.725002  , 6.68333556, 6.07316238, 7.70318561,\n",
              "       7.30591965, 5.80007849, 7.42453859, 8.08693783, 7.97904523,\n",
              "       8.10744058, 7.18928727, 7.17512737, 6.644446  , 8.67667033,\n",
              "       3.84553588, 8.26431262, 7.72083533, 6.82304773, 5.5385612 ,\n",
              "       8.18810392, 7.87341297, 7.46108681, 6.9168446 , 6.099999  ,\n",
              "       8.19689013, 7.47953904, 7.27802479, 7.07379427, 6.40785501,\n",
              "       5.67180007, 7.41249502, 8.22639178, 6.35000044, 6.32273128,\n",
              "       3.89806478, 8.15362223, 8.538335  , 7.95805622, 8.62222533,\n",
              "       8.75000267, 7.52349159, 6.252917  , 7.17229191, 7.12357711,\n",
              "       5.71780048, 7.02487457, 5.72210323, 7.38720338, 6.58943348,\n",
              "       8.48083414, 8.06250267, 6.60706064, 6.602085  , 6.36111061,\n",
              "       6.11249967, 7.92554258, 5.93854133, 7.99290067, 7.42035356,\n",
              "       6.31278837, 5.95130797, 5.55738871, 6.4878268 , 7.6921191 ,\n",
              "       5.71196932, 8.15507321, 6.94278506, 7.42745495, 6.95320713,\n",
              "       6.6557699 , 5.15930555, 6.44576875, 8.05750754, 7.22724272,\n",
              "       7.05635027, 5.0627815 , 6.24162411, 6.93132676, 7.09634651,\n",
              "       5.59687869, 8.94060042, 7.01114149, 7.808336  , 8.92064837,\n",
              "       6.38017721, 5.19770336, 7.40533626, 7.74406655, 6.82550727,\n",
              "       6.31526595, 7.02173782, 7.48030693, 6.70667741, 7.05131353,\n",
              "       8.19957156, 5.58060068, 7.63351127, 6.77720047, 6.47787576,\n",
              "       8.5656617 , 7.59257159, 6.85414492, 7.04926786, 4.94861344,\n",
              "       8.26389067, 7.88889111, 6.28653979, 7.70000222, 5.8483128 ,\n",
              "       6.80214936, 7.28428639, 7.6761319 , 7.3017507 , 7.48245216,\n",
              "       7.69460099, 4.33181918, 7.00352697, 7.6399295 , 8.40000311,\n",
              "       7.86608853, 7.85625333, 7.67487005, 7.85469307, 7.50052126,\n",
              "       7.66492983, 7.04444087, 6.63611802, 4.26542659, 6.33960549,\n",
              "       4.98524801, 6.33030403, 7.50432759, 8.46771133, 8.67291967,\n",
              "       4.49881741, 7.48333533, 6.84626225, 7.18055689, 6.37606867,\n",
              "       7.86087468, 7.0398991 , 5.67058197, 7.88291713, 7.33591492,\n",
              "       7.35683154, 7.82639067, 6.72494805, 7.89378618, 6.73802596,\n",
              "       7.77109211, 7.5924052 , 8.21953558, 6.05811772, 7.13932647,\n",
              "       8.32513265, 8.31659789, 6.95012458, 5.85768736, 8.26111356,\n",
              "       8.0677095 , 6.81822371, 5.91818082, 7.75639619, 6.34215753,\n",
              "       6.64462716, 6.0990189 , 6.81039394, 6.71970899, 8.13554109,\n",
              "       6.52747084, 4.78600993, 8.30625579, 8.65021417, 7.094446  ,\n",
              "       7.84498108, 6.98236448, 5.67904729, 5.42382638, 5.26111333,\n",
              "       5.98696245, 7.94571515, 7.03869248, 7.59356461, 7.60538661,\n",
              "       8.23194667, 7.50714755, 8.10878435, 7.02532018, 6.98458367,\n",
              "       7.44144952, 7.55849834, 7.59087457, 7.27685352, 5.48607838,\n",
              "       5.51814052, 7.45465948, 6.43306978, 7.30347422, 7.73610048,\n",
              "       8.15092793, 3.70028116, 6.30768269, 8.12134394, 7.71314479,\n",
              "       6.74124372, 4.97185538, 5.56111156, 6.32265141, 6.57634682,\n",
              "       5.54190443, 5.42685385, 6.66474645, 8.33840774, 7.79446849,\n",
              "       6.63428605, 4.27652911, 7.44846422, 3.73794425, 8.17216419,\n",
              "       5.81805667, 6.86019277, 5.248612  , 6.92361311, 4.31194425,\n",
              "       6.3134836 , 6.94667413, 8.05987191, 8.44166352, 4.74200891,\n",
              "       7.36694146, 7.89722389, 6.92155011, 5.23339886, 6.08336466,\n",
              "       6.87566824, 8.51284948, 8.62279744, 5.98893755, 8.10092793,\n",
              "       5.37886343, 8.84298709, 7.54057084, 6.0999985 , 6.65801603,\n",
              "       6.02638989, 7.79220506, 6.54925429, 7.28025827, 6.66540503,\n",
              "       6.85326048, 6.32770717, 8.0165702 , 7.40190494, 7.19252734,\n",
              "       7.43463628, 7.43193937, 7.62063714, 4.09707225, 6.10370438,\n",
              "       6.33381861, 6.82489143, 6.47078894, 6.71493122, 5.94246745,\n",
              "       5.88858896, 7.50745172, 8.12439729, 5.55743812, 6.99600368,\n",
              "       4.563332  , 8.33919998, 4.44002627, 5.70244606, 7.62448292,\n",
              "       7.24467804, 7.36971466, 7.30037895, 6.82045126, 7.3781766 ,\n",
              "       7.00694176, 7.97338165, 7.53992476, 7.40656886, 7.38139133,\n",
              "       8.51020858, 7.59097222, 7.59042848, 7.21794358, 5.0614312 ,\n",
              "       6.59571067, 7.46821548, 6.195832  , 8.00281439, 7.05853286,\n",
              "       7.23439834, 6.62116201, 8.01290247, 6.89595177, 8.4910731 ,\n",
              "       4.95178834, 7.0841092 , 8.46493504, 6.52451923, 7.22559524,\n",
              "       8.65570737, 8.63902149, 6.81773885, 6.2357056 , 6.53516533,\n",
              "       8.21750798, 6.67071067, 6.0477796 , 8.40416967, 8.00434011,\n",
              "       5.55398785, 7.30215311, 6.25805645, 6.49019368, 7.8968995 ,\n",
              "       7.86161794, 6.95498724, 8.28662061, 7.36508159, 6.61316315,\n",
              "       7.41202548, 8.81389267, 6.64434142, 5.9300814 , 6.96918153,\n",
              "       7.67540305, 6.32255378, 6.58093334, 7.5636048 , 7.27992574,\n",
              "       7.83078843, 6.90197188, 7.30472239, 8.22877229, 7.91281153,\n",
              "       5.91490055, 5.70511859, 6.25910969, 7.11760011, 8.1358823 ,\n",
              "       6.44583268, 8.62014139, 6.61451569, 5.66142506, 6.89444478,\n",
              "       8.07934983, 7.15133476, 6.83936508, 5.78393405, 7.30833556,\n",
              "       7.86202614, 6.03020583, 7.38820354, 8.0406766 , 7.34730592,\n",
              "       7.92860182, 7.40312962, 6.3552075 , 7.64165505, 7.7797639 ,\n",
              "       6.68952187, 7.72916833, 6.9624093 , 7.785337  , 8.67976357,\n",
              "       7.68008375, 6.2542854 , 8.41672411, 7.56936814, 6.73009437,\n",
              "       8.427782  , 5.52675031, 7.41007214, 6.05804741, 6.62500167,\n",
              "       8.05719964, 7.57653118, 7.791668  , 5.53742302, 8.01808985,\n",
              "       8.086112  , 5.85277911, 7.83159296, 8.025002  , 5.60694533,\n",
              "       7.94404829, 7.19948359, 7.0782139 , 6.0672225 , 7.51777072,\n",
              "       8.17515721, 7.65874436, 6.65407067, 5.32306053, 5.54660878,\n",
              "       7.02798644, 6.9409096 , 6.5985835 , 9.35430822, 7.61917986,\n",
              "       4.83194808, 7.03950463, 4.92935137, 7.1916665 , 7.67873528,\n",
              "       7.41250222, 7.8185548 , 5.14861691, 6.65156699, 8.9653482 ,\n",
              "       6.38972598, 5.20114652, 5.67700047, 7.6651789 , 6.97989993,\n",
              "       6.92590912, 6.74586659, 6.32821953, 4.18177888, 8.51152944,\n",
              "       7.41145783, 5.84372877, 6.2889187 , 7.83564993, 7.97222467,\n",
              "       7.0970689 , 8.10972333, 7.35895351, 6.68171391, 8.09325597,\n",
              "       6.67158969, 7.46080447, 7.27630705, 7.72017062, 6.99437494,\n",
              "       8.71697503, 7.48307474, 6.97602881, 8.17884411, 6.79902094,\n",
              "       7.2037047 , 4.36510585, 7.57550816, 6.84829789, 6.97314904,\n",
              "       7.74083169, 5.58839419, 6.12685619, 7.39217327, 6.89987481,\n",
              "       6.74583533, 6.93075619, 6.84651684, 7.43974442, 7.22117983,\n",
              "       7.06555452, 7.96071651, 7.74197631, 6.68674354, 7.38214486,\n",
              "       7.56287482, 8.1845036 , 7.05000067, 7.25904013, 7.44004863,\n",
              "       7.26276316, 7.79057151, 7.30324185, 8.67342462, 7.95721614,\n",
              "       7.52518316, 6.83237346, 8.09268585, 5.668999  , 6.94305472,\n",
              "       7.92818304, 6.87462232, 7.950002  , 8.24399157, 7.49558053,\n",
              "       8.12197003, 7.53255852, 7.62523281, 7.26779725, 6.89166683,\n",
              "       7.28209569, 7.90218387, 7.03888911, 7.10745328, 7.78569315,\n",
              "       6.76250017, 8.11186499, 7.89145072, 7.77639067, 7.45654228,\n",
              "       6.42735457, 7.76351166, 4.8374985 , 7.20876573, 6.24302751,\n",
              "       5.55224492, 7.5109878 , 7.21482646, 7.68275306, 4.28916844,\n",
              "       6.86408863, 5.94945442, 5.75026588, 5.37197834, 5.33453952,\n",
              "       6.58194667, 7.5660153 , 6.11621957, 6.51166233, 5.41157563,\n",
              "       6.96201702, 6.46425276, 6.15777944, 5.1796303 , 5.51912244,\n",
              "       6.90158961, 8.90278133, 8.14992973, 7.91099172, 7.30370593,\n",
              "       6.44032356, 4.24498023, 6.01179024, 7.13128068, 6.78712343,\n",
              "       6.55592446, 5.30736335, 7.487918  , 7.19537259, 6.60576136,\n",
              "       7.87472064, 7.535415  , 7.5764813 , 6.73083467, 7.1010415 ,\n",
              "       8.06389067, 7.48459375, 8.71196798, 7.81576821, 7.49849268,\n",
              "       6.30694544, 4.78632329, 7.62862075, 8.28217876, 8.8151642 ,\n",
              "       7.36932706, 7.36751923, 8.28325764, 5.60446656, 6.92172752,\n",
              "       7.1814713 , 6.79705046, 8.14305778, 6.05059357, 7.21620393,\n",
              "       7.97327508, 5.56254228, 7.87576838, 6.77599092, 7.30002337,\n",
              "       6.94479233, 6.9263939 , 7.18448024, 7.18038052, 7.50299256,\n",
              "       6.28114538, 8.63847439, 4.94961779, 8.52322213, 7.06425343,\n",
              "       6.64676059, 6.14259304, 7.45555756, 7.88657151, 7.47500233,\n",
              "       7.46111333, 4.73314111, 6.9296111 , 8.18090394, 6.725002  ,\n",
              "       7.67771342, 8.64593254, 7.64583467, 7.45133516, 8.15454365,\n",
              "       7.7503986 , 8.07222444, 7.94028067, 8.25953508, 7.33493623,\n",
              "       7.24973712, 6.57544872, 7.3354175 , 7.69290323, 7.908336  ,\n",
              "       7.83582013, 8.0057543 , 5.27136763, 8.04589879, 6.80609436,\n",
              "       6.77594783, 6.61839762, 6.30443427, 8.06331384, 5.85224725,\n",
              "       6.03256392, 7.7122306 , 6.85943791, 5.3185395 , 7.747224  ,\n",
              "       7.49689236, 7.59120593, 5.66504296, 8.06431029, 3.63313675,\n",
              "       3.03180622, 6.07541029, 8.25304981, 6.76316226, 7.64072222,\n",
              "       7.132224  , 6.71850232, 6.95737379, 7.5870603 , 6.01761905,\n",
              "       8.11666867, 7.42916767, 7.51520075, 8.37778449, 7.83077123,\n",
              "       5.86389022, 6.79414407, 7.32345545, 7.74074107, 7.65575115,\n",
              "       7.44786377, 6.99600791, 6.51022561, 7.13097289, 8.74021628,\n",
              "       6.92763102, 6.71425321, 7.82956594, 7.13776227, 5.31318937,\n",
              "       5.89409656, 5.65788639, 6.78996145, 4.87469396, 4.87039091,\n",
              "       6.86016392, 7.28037104, 5.71111067, 6.65774621, 4.98901748,\n",
              "       6.70884261, 5.45126067, 6.625549  , 6.08565015, 5.88550088,\n",
              "       7.41031979, 8.18009459, 8.97083667, 6.74277724, 6.15075724,\n",
              "       7.07519305, 5.0308044 , 8.15000133, 5.67464374, 8.13553777,\n",
              "       6.74998056, 6.39968827])"
            ]
          },
          "metadata": {},
          "execution_count": 157
        }
      ],
      "source": [
        "# Float64\n",
        "df_2022[\"INDE_2022\"].unique()"
      ]
    },
    {
      "cell_type": "code",
      "execution_count": 158,
      "metadata": {
        "id": "u7_KO_rxtSHC",
        "outputId": "d5b856e5-8a27-4636-af27-8df4ffb17c90",
        "colab": {
          "base_uri": "https://localhost:8080/"
        }
      },
      "outputs": [
        {
          "output_type": "execute_result",
          "data": {
            "text/plain": [
              "0"
            ]
          },
          "metadata": {},
          "execution_count": 158
        }
      ],
      "source": [
        "df_2022[\"INDE_2022\"].isna().sum()"
      ]
    },
    {
      "cell_type": "code",
      "execution_count": 159,
      "metadata": {
        "id": "9h2J4eHZtSHC"
      },
      "outputs": [],
      "source": [
        "df_2022['INDE_2022'] = df_2022['INDE_2022'].astype(pd.Float64Dtype())"
      ]
    },
    {
      "cell_type": "code",
      "execution_count": 160,
      "metadata": {
        "id": "AkovC_rJtSHC"
      },
      "outputs": [],
      "source": [
        "df_2022['INDE_2022'] = np.round(df_2022['INDE_2022'], decimals=3)"
      ]
    },
    {
      "cell_type": "markdown",
      "metadata": {
        "id": "Ht50lTn5tSHC"
      },
      "source": [
        "#### Pedra"
      ]
    },
    {
      "cell_type": "code",
      "execution_count": 161,
      "metadata": {
        "id": "BUbU_79XtSHC",
        "outputId": "ba146a81-1071-4171-b905-bd9cc1726988",
        "colab": {
          "base_uri": "https://localhost:8080/"
        }
      },
      "outputs": [
        {
          "output_type": "execute_result",
          "data": {
            "text/plain": [
              "array(['Ametista', 'Quartzo', 'Topázio', 'Ágata'], dtype=object)"
            ]
          },
          "metadata": {},
          "execution_count": 161
        }
      ],
      "source": [
        "# Category\n",
        "df_2022[\"PEDRA_2022\"].unique()"
      ]
    },
    {
      "cell_type": "code",
      "execution_count": 162,
      "metadata": {
        "id": "MxnMctKHtSHC"
      },
      "outputs": [],
      "source": [
        "df_2022[\"PEDRA_2022\"] = df_2022[\"PEDRA_2022\"].astype(\"category\")"
      ]
    },
    {
      "cell_type": "markdown",
      "metadata": {
        "id": "MZ2Mi7XutSHC"
      },
      "source": [
        "#### CG"
      ]
    },
    {
      "cell_type": "code",
      "execution_count": 163,
      "metadata": {
        "id": "1Q93-MQ5tSHC",
        "outputId": "a7845732-3808-41fc-9676-4b898f9830fe",
        "colab": {
          "base_uri": "https://localhost:8080/"
        }
      },
      "outputs": [
        {
          "output_type": "execute_result",
          "data": {
            "text/plain": [
              "array([245., 451., 415., 221., 357., 397., 767.,  40., 489., 580., 746.,\n",
              "       188.,  28., 771., 116., 208.,  66., 154., 224., 668., 827., 122.,\n",
              "       408., 558., 599., 538., 292., 590., 849., 576., 362., 254., 855.,\n",
              "        54., 823., 504., 861., 386., 753., 658., 594., 839., 146., 442.,\n",
              "       564., 272.,  84., 227., 586., 593.,   1.,  61., 169., 271., 452.,\n",
              "       633., 327., 429., 309., 218., 608.,  44., 812., 350., 416., 310.,\n",
              "       363., 207., 720., 324., 325., 454.,  52., 728., 256., 345., 659.,\n",
              "       318., 163.,  57.,  76., 696.,  67., 265., 424., 421., 532., 485.,\n",
              "       428.,  72., 347., 396., 460., 805.,  41., 505., 378., 121., 674.,\n",
              "       156., 267.,  80.,  79., 268.,   3., 828., 297., 772., 316., 544.,\n",
              "        90., 612., 491., 654., 398., 300., 387., 661., 293., 816.,  65.,\n",
              "       426., 238., 721., 166., 459., 269., 587., 581., 440., 570., 411.,\n",
              "        53., 530., 653., 382., 636., 250., 840., 184., 670., 657.,  36.,\n",
              "        50., 749., 615., 829., 624., 501., 802., 725., 243., 290., 109.,\n",
              "       519.,  83., 618., 684., 842., 649., 101., 808., 574., 688., 251.,\n",
              "        51., 139., 215., 349., 211.,  48., 144., 281., 751., 288., 469.,\n",
              "       629., 478., 191., 200., 143., 228., 595., 714., 233., 385., 750.,\n",
              "       346., 119., 147., 114., 434., 439., 610.,  17., 857.,  68., 229.,\n",
              "       548., 786.,  87., 179., 330., 522., 708.,  86., 323., 404., 464.,\n",
              "       660., 764., 352.,  78., 669., 678., 856.,  97.,  30., 152.,  26.,\n",
              "        12., 301., 695., 441., 449., 756., 481., 755., 366., 630.,  37.,\n",
              "       129., 623., 626., 666., 706., 162., 734., 145., 348., 683., 731.,\n",
              "       781., 645., 237., 757.,  95., 510., 344., 503., 604., 814., 651.,\n",
              "       131., 417., 468., 817., 698., 512., 457., 775.,   6., 483., 199.,\n",
              "         7., 664., 811., 359., 219., 546., 681., 482., 322., 589., 470.,\n",
              "        85., 777., 260., 561., 646.,  29., 274., 537., 472., 826.,  69.,\n",
              "       174., 690., 234., 745., 554., 399., 244., 393., 321., 235., 846.,\n",
              "       486., 259.,  47., 180., 185., 247., 186., 311., 249., 473., 613.,\n",
              "       851., 672., 821., 675., 307.,  38.,  19., 843., 319., 542., 437.,\n",
              "       665., 183., 474., 765., 176., 379., 376., 196., 579., 172., 573.,\n",
              "       212., 275.,  81., 716., 444.,  58.,  59., 506., 742.,  70., 125.,\n",
              "       550., 736., 214., 671., 609., 710., 552., 582., 104., 640., 836.,\n",
              "        60.,  21., 458., 187., 493., 761., 794., 806., 730., 157., 477.,\n",
              "       273., 270.,  75., 306., 113., 480., 492., 338., 291., 278., 405.,\n",
              "       791., 790., 334., 655., 390., 225.,  98., 859., 685., 108., 231.,\n",
              "       572., 822., 779., 679., 634., 785., 793., 601.,  56., 201., 614.,\n",
              "       850., 336., 858.,  94., 748., 534., 807., 518., 847., 682., 507.,\n",
              "       130.,  42., 837., 373., 170., 521., 809., 712., 529.,  32.,  25.,\n",
              "       729., 115., 796.,   9., 294., 709., 602., 724., 202., 638., 402.,\n",
              "       600., 539., 677., 137., 361., 432., 341., 342., 264., 854., 707.,\n",
              "       673., 547., 647., 584., 733., 739., 305., 106., 780., 488., 841.,\n",
              "        55., 844., 760., 263., 413., 370., 394., 549., 369., 484., 148.,\n",
              "       295., 358., 368.,  34., 277., 279., 420., 818., 628., 328., 700.,\n",
              "       142., 467., 414., 619., 138., 526.,  35., 824., 461.,  39., 641.,\n",
              "       418.,  20.,  23., 551., 699., 639.,  82., 598., 719.,  46., 141.,\n",
              "       782., 392., 693., 644., 171., 182., 502.,  62., 374., 622., 353.,\n",
              "        11., 611., 735., 497., 246., 680., 632., 287., 403., 193., 523.,\n",
              "       388.,  77., 164., 737., 759., 692., 450., 103., 650.,  27., 621.,\n",
              "       769., 527., 123., 443., 543., 752., 384., 181., 723., 365., 134.,\n",
              "       377., 160., 360., 667., 257., 209., 591., 226., 498., 206.,  16.,\n",
              "       240., 694.,  45., 285., 577.,  43., 788., 356., 717., 617., 132.,\n",
              "       282., 203., 787., 136., 120., 743., 192., 135., 773., 158., 430.,\n",
              "       462., 715., 302.,  93., 252., 605., 799., 784., 479., 511., 627.,\n",
              "         2., 266., 834., 475., 830., 433., 241., 351., 197., 815., 606.,\n",
              "         5., 663., 810., 762., 248., 494., 517., 568., 676., 853.,  33.,\n",
              "       354., 747., 689., 190., 150., 456., 112., 375., 596., 117., 597.,\n",
              "       331., 406., 230., 490.,  14., 320., 495.,  92., 555., 427., 845.,\n",
              "       284., 540., 496., 222., 776., 704., 364., 525., 569., 513., 541.,\n",
              "       340., 419., 465., 151., 220., 592., 367., 289.,  88., 471., 410.,\n",
              "       339., 409., 204., 391.,  18., 153., 299., 545., 118., 766., 509.,\n",
              "       161., 531., 155.,  74., 314., 107., 298., 262., 407., 528., 400.,\n",
              "       168., 476., 453., 205., 566., 111., 173., 210., 332., 656., 213.,\n",
              "       833., 425., 697., 783., 304., 423., 239., 848., 533., 732., 754.,\n",
              "       797., 798., 631., 286., 705., 642., 795., 499., 648., 701., 813.,\n",
              "       789., 524.,   8., 100., 165., 389., 652., 852., 727., 447., 560.,\n",
              "       637., 803., 315., 431., 625., 178., 296., 283., 575., 455., 127.,\n",
              "       317.,  15., 198., 312., 686., 835., 261.,  64.,  10., 371., 372.,\n",
              "        63., 774., 520., 436., 556., 102., 718., 422., 149., 778., 177.,\n",
              "       562., 395., 508., 516., 435., 438., 308., 691.,  24., 825.,  31.,\n",
              "       466., 607., 703., 333., 175., 326., 329., 838., 514.,  89., 578.,\n",
              "       242.,  22., 255., 335.,  96., 216., 124., 159.,  71., 381., 412.,\n",
              "       635., 380., 236., 167., 189., 140., 804., 133., 553., 563., 620.,\n",
              "       687., 128., 744., 722., 232., 536., 800., 217., 313., 276., 768.,\n",
              "       126., 860., 862., 713.,  73., 565., 258., 446., 583., 500., 280.,\n",
              "       726., 110., 343., 303.,  49., 194., 741., 557., 383., 223., 253.,\n",
              "       337., 487., 643., 448.,  13., 515., 585., 195., 445., 801., 738.,\n",
              "       770., 559., 831., 832., 535., 401., 758., 603., 820., 588., 792.,\n",
              "       616., 711., 740., 355.,  91.,   4., 571., 702., 463., 819.,  99.,\n",
              "       763., 105., 567., 662.])"
            ]
          },
          "metadata": {},
          "execution_count": 163
        }
      ],
      "source": [
        "# Int16\n",
        "df_2022[\"CG_2022\"].unique()"
      ]
    },
    {
      "cell_type": "code",
      "execution_count": 164,
      "metadata": {
        "id": "fbsfISJytSHC",
        "outputId": "2c8cc2ef-edad-40df-e156-58886fb79cf8",
        "colab": {
          "base_uri": "https://localhost:8080/"
        }
      },
      "outputs": [
        {
          "output_type": "execute_result",
          "data": {
            "text/plain": [
              "0"
            ]
          },
          "metadata": {},
          "execution_count": 164
        }
      ],
      "source": [
        "df_2022[\"CG_2022\"].isna().sum()"
      ]
    },
    {
      "cell_type": "code",
      "execution_count": 165,
      "metadata": {
        "id": "ONtJpdlltSHC"
      },
      "outputs": [],
      "source": [
        "df_2022['CG_2022'] = df_2022['CG_2022'].astype(pd.Int16Dtype())"
      ]
    },
    {
      "cell_type": "markdown",
      "metadata": {
        "id": "FBzuP3mFtSHC"
      },
      "source": [
        "#### CF"
      ]
    },
    {
      "cell_type": "code",
      "execution_count": 166,
      "metadata": {
        "id": "f0VP4cQ3tSHC",
        "outputId": "0eb7e43c-fff8-4c71-e8da-24144b92f1ff",
        "colab": {
          "base_uri": "https://localhost:8080/"
        }
      },
      "outputs": [
        {
          "output_type": "execute_result",
          "data": {
            "text/plain": [
              "array([ 66.,  69.,  61.,  35.,  93.,  26., 184.,   5., 129., 142.,  68.,\n",
              "        29.,   3., 114.,  32.,  51.,   6.,  42.,  60., 122.,  34., 119.,\n",
              "        12.,  78.,  46.,  45.,  77., 189.,  94.,  59.,  14., 128., 131.,\n",
              "        23.,  18., 163., 137.,  37.,  53., 138.,  76.,  10.,  62.,  54.,\n",
              "        55.,   1.,  70., 110.,  27.,  81.,  56.,  36., 123., 132.,  84.,\n",
              "       116.,  13., 180.,  72., 101.,  86.,  22., 109., 126., 134.,  19.,\n",
              "        40., 104.,  57., 185.,   9., 145.,  43.,  91.,  15., 190.,  25.,\n",
              "        92.,  20., 147., 117.,  79.,  31., 159.,  24., 125.,  16., 127.,\n",
              "        38., 178.,  75., 144.,  95.,  50., 155., 173., 118.,   7., 148.,\n",
              "       130., 152.,  30., 179.,   8.,  82.,  21., 107., 164., 154.,  28.,\n",
              "       187., 140., 166.,  65., 103., 182.,  63., 100., 108.,  11.,  17.,\n",
              "       181.,  49.,  97.,  44.,  98.,  96.,  48., 120., 111., 162.,   4.,\n",
              "       176.,  47., 153., 169.,  88., 106., 102.,  39.,  73., 124., 146.,\n",
              "       133., 121., 188.,  85.,  83.,  67., 135.,  58.,  64., 105., 175.,\n",
              "        89., 161., 112., 136.,   2., 174., 177., 158.,  33.,  71.,  74.,\n",
              "       172.,  41., 160.,  52.,  99., 168., 143., 191., 186., 151.,  90.,\n",
              "        80., 139., 141., 183., 156., 150., 171., 157., 167., 149., 115.,\n",
              "       113., 192.,  87., 165., 170.])"
            ]
          },
          "metadata": {},
          "execution_count": 166
        }
      ],
      "source": [
        "# Int16\n",
        "df_2022[\"CF_2022\"].unique()"
      ]
    },
    {
      "cell_type": "code",
      "execution_count": 167,
      "metadata": {
        "id": "LHP4IEu9tSHC",
        "outputId": "80811501-a44e-430f-d46a-d09789fa9b39",
        "colab": {
          "base_uri": "https://localhost:8080/"
        }
      },
      "outputs": [
        {
          "output_type": "execute_result",
          "data": {
            "text/plain": [
              "0"
            ]
          },
          "metadata": {},
          "execution_count": 167
        }
      ],
      "source": [
        "df_2022[\"CF_2022\"].isna().sum()"
      ]
    },
    {
      "cell_type": "code",
      "execution_count": 168,
      "metadata": {
        "id": "wYPaE-aatSHC"
      },
      "outputs": [],
      "source": [
        "df_2022['CF_2022'] = df_2022['CF_2022'].astype(pd.Int16Dtype())"
      ]
    },
    {
      "cell_type": "markdown",
      "metadata": {
        "id": "yFwq7ibztSHC"
      },
      "source": [
        "#### CT"
      ]
    },
    {
      "cell_type": "code",
      "execution_count": 169,
      "metadata": {
        "id": "lSEs16c7tSHD",
        "outputId": "9098f4d1-2936-4d4a-fd08-7e8b96ee8566",
        "colab": {
          "base_uri": "https://localhost:8080/"
        }
      },
      "outputs": [
        {
          "output_type": "execute_result",
          "data": {
            "text/plain": [
              "array([ 6.,  3., 12.,  2.,  7.,  9.,  1., 13.,  5.,  4.,  8., 11., 16.,\n",
              "       15., 10., 14., 17., 18.])"
            ]
          },
          "metadata": {},
          "execution_count": 169
        }
      ],
      "source": [
        "# Int16\n",
        "df_2022[\"CT_2022\"].unique()"
      ]
    },
    {
      "cell_type": "code",
      "execution_count": 170,
      "metadata": {
        "id": "wJgZla4LtSHD",
        "outputId": "49686dba-710b-48cf-cbaf-6408e57f6407",
        "colab": {
          "base_uri": "https://localhost:8080/"
        }
      },
      "outputs": [
        {
          "output_type": "execute_result",
          "data": {
            "text/plain": [
              "0"
            ]
          },
          "metadata": {},
          "execution_count": 170
        }
      ],
      "source": [
        "df_2022[\"CT_2022\"].isna().sum()"
      ]
    },
    {
      "cell_type": "code",
      "execution_count": 171,
      "metadata": {
        "id": "RQoJXzzHtSHD"
      },
      "outputs": [],
      "source": [
        "df_2022['CT_2022'] = df_2022['CT_2022'].astype(pd.Int16Dtype())"
      ]
    },
    {
      "cell_type": "markdown",
      "metadata": {
        "id": "YxQi-RhKtSHD"
      },
      "source": [
        "#### Destaque IEG"
      ]
    },
    {
      "cell_type": "code",
      "execution_count": 172,
      "metadata": {
        "id": "TruP9IoUtSHD",
        "outputId": "dadc4b5f-a944-4ebe-f5d3-28865d8f3625",
        "colab": {
          "base_uri": "https://localhost:8080/"
        }
      },
      "outputs": [
        {
          "output_type": "execute_result",
          "data": {
            "text/plain": [
              "array(['Destaque: A sua boa entrega das lições de casa.',\n",
              "       'Melhorar: Melhorar a sua entrega de lições de casa.'],\n",
              "      dtype=object)"
            ]
          },
          "metadata": {},
          "execution_count": 172
        }
      ],
      "source": [
        "# Category\n",
        "df_2022[\"DESTAQUE_IEG_2022\"].unique()"
      ]
    },
    {
      "cell_type": "code",
      "execution_count": 173,
      "metadata": {
        "id": "dqYJF6r3tSHD"
      },
      "outputs": [],
      "source": [
        "df_2022[\"DESTAQUE_IEG_2022\"] = df_2022[\"DESTAQUE_IEG_2022\"].astype(\"category\")"
      ]
    },
    {
      "cell_type": "markdown",
      "metadata": {
        "id": "yTQkL492tSHD"
      },
      "source": [
        "#### Destaque IDA"
      ]
    },
    {
      "cell_type": "code",
      "execution_count": 174,
      "metadata": {
        "id": "iaelNAuctSHD",
        "outputId": "ce648c56-a0ef-4f93-9cc3-91fb30f64521",
        "colab": {
          "base_uri": "https://localhost:8080/"
        }
      },
      "outputs": [
        {
          "output_type": "execute_result",
          "data": {
            "text/plain": [
              "array(['Destaque: As suas boas notas na Passos Mágicos.',\n",
              "       'Melhorar: Empenhar-se mais nas aulas e avaliações.'], dtype=object)"
            ]
          },
          "metadata": {},
          "execution_count": 174
        }
      ],
      "source": [
        "# Category\n",
        "df_2022[\"DESTAQUE_IDA_2022\"].unique()"
      ]
    },
    {
      "cell_type": "code",
      "execution_count": 175,
      "metadata": {
        "id": "gM5qTA_dtSHD"
      },
      "outputs": [],
      "source": [
        "df_2022[\"DESTAQUE_IDA_2022\"] = df_2022[\"DESTAQUE_IDA_2022\"].astype(\"category\")"
      ]
    },
    {
      "cell_type": "markdown",
      "metadata": {
        "id": "68PbUzk6tSHD"
      },
      "source": [
        "#### Destaque IPV"
      ]
    },
    {
      "cell_type": "code",
      "execution_count": 176,
      "metadata": {
        "id": "a3dKlReOtSHD",
        "outputId": "b0bfbcf5-5658-4e85-9bdb-9a6de1bb68c2",
        "colab": {
          "base_uri": "https://localhost:8080/"
        }
      },
      "outputs": [
        {
          "output_type": "execute_result",
          "data": {
            "text/plain": [
              "array(['Destaque: A sua boa integração aos Princípios Passos Mágicos.',\n",
              "       'Melhorar: Integrar-se mais aos Princípios Passos Mágicos.'],\n",
              "      dtype=object)"
            ]
          },
          "metadata": {},
          "execution_count": 176
        }
      ],
      "source": [
        "# Category\n",
        "df_2022[\"DESTAQUE_IPV_2022\"].unique()"
      ]
    },
    {
      "cell_type": "code",
      "execution_count": 177,
      "metadata": {
        "id": "g0UMs6EktSHD"
      },
      "outputs": [],
      "source": [
        "df_2022[\"DESTAQUE_IPV_2022\"] = df_2022[\"DESTAQUE_IPV_2022\"].astype(\"category\")"
      ]
    },
    {
      "cell_type": "markdown",
      "metadata": {
        "id": "BFPhgMs6tSHD"
      },
      "source": [
        "#### IAA"
      ]
    },
    {
      "cell_type": "code",
      "execution_count": 178,
      "metadata": {
        "id": "JkOtNbR-tSHD",
        "outputId": "31028522-b044-4d5f-9924-af0ef13900c0",
        "colab": {
          "base_uri": "https://localhost:8080/"
        }
      },
      "outputs": [
        {
          "output_type": "execute_result",
          "data": {
            "text/plain": [
              "0"
            ]
          },
          "metadata": {},
          "execution_count": 178
        }
      ],
      "source": [
        "df_2022[\"IAA_2022\"].isna().sum()"
      ]
    },
    {
      "cell_type": "code",
      "execution_count": 179,
      "metadata": {
        "id": "EOlUTRlWtSHD",
        "outputId": "14993db2-f6d6-4ad6-8bf1-52a477956627",
        "colab": {
          "base_uri": "https://localhost:8080/"
        }
      },
      "outputs": [
        {
          "output_type": "execute_result",
          "data": {
            "text/plain": [
              "array([10.00002,  6.41668,  9.00002,  9.16668,  8.00002,  8.50002,\n",
              "        9.50002,  0.     ,  7.91667,  7.50002,  6.91668,  7.5    ,\n",
              "        5.83333,  7.91668,  5.41667,  8.33334,  8.75001,  6.66667,\n",
              "        9.58335,  6.83334,  5.83332,  7.08333,  7.33334,  7.91668,\n",
              "        3.49998,  6.66666,  7.41668,  5.41666,  5.75   ,  7.00002,\n",
              "        8.91668,  7.08334,  6.25   ,  7.41668,  5.     ,  5.83334,\n",
              "        8.33335,  8.91668,  6.66668,  4.58334,  7.50001,  6.75   ,\n",
              "        7.83334,  8.41668,  5.41665,  7.08334,  5.83332,  5.16666])"
            ]
          },
          "metadata": {},
          "execution_count": 179
        }
      ],
      "source": [
        "# Float64\n",
        "df_2022[\"IAA_2022\"].unique()"
      ]
    },
    {
      "cell_type": "code",
      "execution_count": 180,
      "metadata": {
        "id": "X2HT-YyZtSHE"
      },
      "outputs": [],
      "source": [
        "df_2022['IAA_2022'] = df_2022['IAA_2022'].astype(pd.Float64Dtype())"
      ]
    },
    {
      "cell_type": "code",
      "execution_count": 181,
      "metadata": {
        "id": "TLxy_XJhtSHE"
      },
      "outputs": [],
      "source": [
        "df_2022['IAA_2022'] = np.round(df_2022['IAA_2022'], decimals=3)"
      ]
    },
    {
      "cell_type": "markdown",
      "metadata": {
        "id": "Iy9kW9JztSHE"
      },
      "source": [
        "#### IEG"
      ]
    },
    {
      "cell_type": "code",
      "execution_count": 182,
      "metadata": {
        "id": "9qxI66r5tSHE",
        "outputId": "9f6a9017-343a-4ecc-9e15-fa061bab4bb4",
        "colab": {
          "base_uri": "https://localhost:8080/"
        }
      },
      "outputs": [
        {
          "output_type": "execute_result",
          "data": {
            "text/plain": [
              "0"
            ]
          },
          "metadata": {},
          "execution_count": 182
        }
      ],
      "source": [
        "df_2022[\"IEG_2022\"].isna().sum()"
      ]
    },
    {
      "cell_type": "code",
      "execution_count": 183,
      "metadata": {
        "id": "ajzN8_EXtSHE",
        "outputId": "b2c092f7-556f-4d96-db20-70bff805bf8b",
        "colab": {
          "base_uri": "https://localhost:8080/"
        }
      },
      "outputs": [
        {
          "output_type": "execute_result",
          "data": {
            "text/plain": [
              "array([ 7.5817051 ,  8.07142857,  8.55750487,  9.33333333,  9.31495405,\n",
              "        8.26806527,  6.82037769,  9.1984127 ,  9.33862434,  6.64786967,\n",
              "        6.28764006,  9.05462185,  9.55204216,  5.64908597,  8.98205659,\n",
              "        7.79869635,  9.32098765,  8.34632035,  8.72134039,  6.49350649,\n",
              "        4.83229638,  9.00516341,  7.31786732,  8.33333333,  7.05616762,\n",
              "        8.07471264,  9.04158545,  6.72172619,  3.14880952,  9.16666667,\n",
              "        9.08245614, 10.        ,  3.80357143,  4.6305801 ,  9.20344828,\n",
              "        3.59779412,  7.99107143,  4.12990196,  7.78787879,  8.54410331,\n",
              "        3.61111111,  9.55555556,  5.78472222,  7.88220551,  7.54564276,\n",
              "        8.83333333,  8.60254083,  6.99252137,  6.25      ,  9.66071429,\n",
              "        9.41975309,  8.23747277,  9.48025987,  7.46392496,  9.2962963 ,\n",
              "        7.40295031,  7.81904762,  8.83838384,  9.74358974,  5.65216952,\n",
              "        9.11793372,  3.00480769,  7.91857568,  9.26450742,  8.46710526,\n",
              "        8.52083333,  8.4754738 ,  7.85416667,  8.94179894,  8.90344828,\n",
              "        9.39271255,  4.95238095,  8.56561086,  6.59075224,  6.25378788,\n",
              "        7.74812906,  8.38888889,  8.6354435 ,  8.46681097,  6.81818182,\n",
              "        8.03391053,  8.4682861 ,  7.93290043,  9.45887446,  6.79394277,\n",
              "        7.48917749,  8.75      ,  9.11654135,  9.15343915,  4.75108225,\n",
              "        7.21856725,  8.06818182,  8.98982057,  6.44449301,  9.15703782,\n",
              "        9.35185185,  9.71781305,  8.43624084,  7.806871  ,  9.09722222,\n",
              "        3.7974988 ,  8.15963203,  4.74774001,  8.96604938,  7.30413105,\n",
              "        9.84848485,  9.03988604,  8.82539683,  6.00280112,  8.94551282,\n",
              "        8.95943563,  8.25555556,  8.32010582,  7.67633442,  7.39102564,\n",
              "        8.96410256,  9.54751131,  8.69949495,  7.91666667,  9.10591587,\n",
              "        6.51821862,  8.24354658,  8.72222222,  8.1031746 ,  9.03869048,\n",
              "        8.04683306,  8.53555162,  8.75135281,  7.10179526,  6.04761905,\n",
              "        9.        ,  7.44444444,  8.26210826,  3.72469519,  8.9356261 ,\n",
              "        8.94414129,  8.83242589,  9.87654321,  9.03157895,  5.2962963 ,\n",
              "        9.32659933,  3.61370137,  8.60722611,  7.08518504,  4.87037037,\n",
              "        5.10897436,  8.19179302,  7.28717949,  8.6974359 ,  7.72585916,\n",
              "        8.95807896,  7.23034767,  7.46296296,  4.40542549,  8.32590115,\n",
              "        8.94444444,  5.76566952,  7.47323232,  7.88847118,  9.42857143,\n",
              "        9.08717949,  7.90684624,  9.28571429,  9.64912281,  9.06060606,\n",
              "        9.58333333,  8.58585859,  5.72182089,  8.60734037,  5.24578363,\n",
              "        7.94730392,  6.77380952,  8.13529768,  9.72463768,  6.77777778,\n",
              "        6.10227273,  8.95341803,  8.62681159,  7.02470356,  8.87962963,\n",
              "        7.86141304,  8.31361893,  8.72469956,  8.01587302,  8.11868687,\n",
              "        2.68253968,  9.34238311,  8.16666667,  6.99023199,  8.50529101,\n",
              "        7.91967292,  8.27122153,  7.4033374 ,  8.30123604,  5.36458333,\n",
              "        8.98860399,  8.51851852,  8.19047619,  8.74396135,  8.67121507,\n",
              "        5.0951087 ,  6.99996178,  8.22222222,  7.22222222,  9.21781305,\n",
              "        4.30283224,  8.92226614,  8.575     ,  7.13203463,  5.        ,\n",
              "        8.21562453,  7.58037998,  6.07371795,  8.82575758,  7.0410628 ,\n",
              "        8.57142857,  8.81521739,  8.60832404,  6.77488404,  5.83333333,\n",
              "        5.69444444,  7.70930594,  5.08333333,  9.17109974,  8.73717949,\n",
              "        6.86948854,  4.46764706,  6.85119048,  7.60580065,  7.78003247,\n",
              "        6.64699883,  8.89376218,  8.08025308,  8.64803922,  6.89102564,\n",
              "        8.69551282,  5.12639553,  8.75661376,  9.2458577 ,  8.09454191,\n",
              "        8.89529221,  4.0777972 ,  6.08381668,  5.87121212,  7.66922754,\n",
              "        5.28474399,  9.66063348,  8.38903743,  8.16666667,  9.61538462,\n",
              "        8.39393939,  5.13227513,  9.38084465,  9.39393939,  9.6969697 ,\n",
              "        8.72737557,  8.13229772,  8.00569801,  8.4917154 ,  8.25656348,\n",
              "        9.23395445,  6.14606227,  9.18837803,  7.67765568,  6.34597021,\n",
              "        9.22829184,  8.33784461,  7.74988129,  8.34008097,  7.22222222,\n",
              "        5.64102564,  8.77777778,  4.52107843,  5.76526234,  9.34225195,\n",
              "        9.56815115,  8.89763015,  9.14141414,  8.27160494,  1.95075758,\n",
              "        8.70512821,  7.53262363,  9.30959596,  9.23892774,  8.99220033,\n",
              "        8.23038073,  9.25172414,  8.82636433,  8.69446343,  6.20734127,\n",
              "        6.77441077,  3.97241505,  5.90151515,  8.86538462,  9.66666667,\n",
              "        4.77532953,  8.24346405,  9.44444444,  8.67201337,  8.87797619,\n",
              "        5.60227273,  4.25568182,  8.97707231,  9.26984127,  8.33137409,\n",
              "        7.0413961 ,  7.93767507,  7.96130952,  9.70961887,  8.99326599,\n",
              "        9.23307791,  6.91558442,  7.1341207 ,  8.66315327,  7.37561289,\n",
              "        4.28009679,  9.86111111,  8.4004902 ,  5.34090909,  7.60141093,\n",
              "        6.96078431,  9.64673913,  7.36175952,  7.89571969,  7.9457672 ,\n",
              "        8.54852877,  6.91687253,  4.63109244,  9.13543228,  9.20314254,\n",
              "        8.71794872,  8.66702742,  5.29107143,  5.81184441,  3.7       ,\n",
              "        5.78898226,  8.28205128,  9.04761905,  6.44151139,  8.72322775,\n",
              "        9.47794118,  7.98076923,  7.5       ,  8.98848428,  8.35497835,\n",
              "        9.52380952,  8.84259259,  6.51372354,  5.39624924,  7.91534392,\n",
              "        9.48611111,  7.67424242,  9.62962963,  3.3590472 ,  6.63736264,\n",
              "        9.66988728,  8.5978836 ,  3.83844189,  8.61111111,  6.52991453,\n",
              "        7.56089744,  5.9484127 ,  7.75925926,  7.23344557,  9.03230203,\n",
              "        8.78483245,  6.23809524,  2.81666667,  7.74925889,  3.53693182,\n",
              "        9.16289593,  7.58333333,  7.18984719,  9.38888889,  3.63610348,\n",
              "        6.74102132,  9.36531734,  9.35143288,  8.31073897,  4.01559454,\n",
              "        8.94580728,  8.3785822 ,  4.08365262,  7.46265329,  7.87138787,\n",
              "        9.34547908,  9.54453441,  6.03842941,  4.98459384,  9.48505435,\n",
              "        9.47368421,  7.25      ,  7.32479347,  9.02777778,  9.13636364,\n",
              "        6.11607143,  9.68253968,  6.92250458,  7.34962406,  7.96875   ,\n",
              "        9.24951267,  9.68660969,  8.17791005,  8.6245614 ,  6.71176853,\n",
              "        9.88095238,  5.60515873,  5.85878855,  7.72916667,  5.94598074,\n",
              "        6.41644385,  7.39583333,  6.86858974,  6.13043478,  9.25252525,\n",
              "        9.09941032,  7.25940726,  7.41750842,  3.80972222,  9.70987654,\n",
              "        5.12027191,  5.03306196,  9.60157127,  8.35880355,  5.24821885,\n",
              "        8.83522727,  7.26892463,  9.18297101,  8.03529687,  7.81593407,\n",
              "        7.60957792,  8.48333333,  9.3930526 ,  8.86458333,  9.07018907,\n",
              "        9.04804625,  3.44083072,  6.76500583,  8.79246795,  6.6875    ,\n",
              "        8.61823362,  8.60948668,  6.73080006,  9.33533233,  8.40683886,\n",
              "        8.80952381,  4.6172817 ,  8.57471264,  8.83681717,  8.11217949,\n",
              "        8.69047619,  9.41558442,  5.41160594,  7.76464161,  8.49527665,\n",
              "        9.73684211,  8.4402852 ,  8.79252556,  6.18487062,  9.79166667,\n",
              "        6.40660668,  8.07458203,  9.28030303,  7.62909452,  7.43386243,\n",
              "        7.21428571,  6.56545209,  7.03234031,  7.86673097,  9.31450358,\n",
              "        8.23776224,  6.77967172,  7.11489899,  7.73989899,  9.00809717,\n",
              "        9.29110106,  8.13194444,  9.5952381 ,  6.06060606,  5.57906515,\n",
              "        4.84588509,  8.24945887,  9.24189815,  9.10415671,  9.375     ,\n",
              "        7.73924595,  6.18212197,  7.63888889,  9.85507246,  8.48583878,\n",
              "        8.23015873,  5.22696078,  8.71428571,  7.1875    ,  7.77678407,\n",
              "        7.88235294,  9.09090909,  8.09203143,  7.6875    ,  9.27076525,\n",
              "        8.39898936,  8.41666667,  6.2780112 ,  9.16278166,  9.19047619,\n",
              "        8.75457875,  7.38947368,  9.72943723,  8.88849903,  8.35185185,\n",
              "        5.72751323,  9.21702404,  6.60795455,  7.5701459 ,  5.99543845,\n",
              "        9.04876927,  8.51386674,  7.        ,  9.76190476,  9.1849046 ,\n",
              "        7.31294949,  5.84304584,  8.76593192,  9.38271605,  6.65204678,\n",
              "        8.54812337,  4.16078431,  7.67575642,  8.08333333,  6.74620133,\n",
              "        6.15263749,  8.54728318,  4.02745098,  6.61210317,  3.91411713,\n",
              "        8.45833333,  8.07699805,  8.65527066,  6.41670151,  7.46616162,\n",
              "        9.64130435,  6.94862155,  5.20712316,  6.25583567,  7.17032967,\n",
              "        7.32051282,  7.24391126,  5.10984848,  2.91757246,  8.78472222,\n",
              "        5.57280883,  5.78487461,  8.67283951,  9.19753086,  8.80128205,\n",
              "        9.84126984,  7.89961014,  9.01234568,  9.32597193,  8.20328283,\n",
              "        5.39478637,  9.30708181,  7.27995202,  7.88430571,  9.16504224,\n",
              "        4.41176471,  3.34636591,  6.56920078,  8.38731444,  6.85185185,\n",
              "        9.16005291,  5.95238095,  8.9606676 ,  9.36363636,  7.3951974 ,\n",
              "        6.28119779,  8.24038462,  9.75172414,  8.17498593,  9.20634921,\n",
              "        9.66820988,  8.09343434,  8.45238095,  7.5157563 ,  9.83333333,\n",
              "        6.64102564,  9.81481481,  8.29297246,  7.42592593,  8.92857143,\n",
              "        9.05864681,  9.60507246,  7.26602564,  8.92592593,  4.31721723,\n",
              "        6.66666667,  8.9152149 ,  8.28282828,  7.32828283,  9.49039265,\n",
              "        8.15151515,  7.44750817,  9.07407407,  8.42231458,  8.5       ,\n",
              "        8.44797178,  9.36507937,  9.72222222,  8.88447972,  8.86595574,\n",
              "        7.9551483 ,  8.6038961 ,  6.8451087 ,  3.66666667,  8.65319865,\n",
              "        7.25160256,  4.57371795,  9.002849  ,  8.48942006,  8.89292196,\n",
              "        3.33333333,  6.17460317,  8.07017544,  5.41798942,  3.81578947,\n",
              "        6.24908425,  9.58041958,  7.35714286,  7.66246499,  6.48148148,\n",
              "        8.78924174,  8.93236715,  5.48148148,  4.8664422 ,  7.37009804,\n",
              "        9.69165085,  8.61952862,  5.46296296,  8.11134115,  4.88636364,\n",
              "        7.4426309 ,  7.36472673,  8.50505051,  8.01572898,  6.07500955,\n",
              "        7.        ,  6.96630013,  8.21733822,  8.16017316,  5.925     ,\n",
              "        8.42296373,  9.20175439,  9.21328671,  5.79967949,  9.05671296,\n",
              "        9.90740741,  8.31746032,  8.0889842 ,  8.68364681,  4.64733115,\n",
              "        6.78571429,  8.77192982,  7.85018286,  9.05555556,  8.05387205,\n",
              "        6.16861587,  9.0066108 ,  7.3330721 ,  8.5042735 ,  6.44967532,\n",
              "        8.88766789,  8.27689594,  9.48717949,  6.00989188,  9.89583333,\n",
              "        5.36684783,  8.94074675,  9.01570048,  6.01851852,  9.0974359 ,\n",
              "        4.53030303,  7.41369048,  9.33333333,  9.41993464,  8.79832916,\n",
              "        8.67063492,  8.88888889,  9.25182708,  8.24867725,  5.67307692,\n",
              "        6.875     ,  8.00617284,  7.77596733,  8.36904762,  3.04086538,\n",
              "        9.21143671,  6.86208236,  8.82417582,  6.82636808,  7.41106443,\n",
              "        9.7887931 ,  5.69872958,  4.77427903,  7.70698052,  8.13920455,\n",
              "        5.60416667,  8.06153846,  7.96296296,  5.61688312,  9.67571644,\n",
              "        4.97819377,  0.        ,  6.22254005,  8.97531348,  7.98941799,\n",
              "        7.27443609,  7.3       ,  7.55952381,  8.97435897,  7.82279315,\n",
              "        7.54642857,  7.60416667,  7.8968254 ,  9.0139141 ,  8.69444444,\n",
              "        7.602657  ,  7.8030303 ,  7.87037037,  9.0704191 ,  7.70458554,\n",
              "        5.75086955,  8.87056472,  9.37363834,  6.79092512,  8.48792271,\n",
              "        8.43881303,  3.50970018,  6.27777778,  7.6991453 ,  7.27272727,\n",
              "        2.90297203,  6.07070707,  7.31818182,  8.08333333,  9.18456271,\n",
              "        3.25757576,  9.09281305,  6.72158337,  8.49579832,  8.07407407,\n",
              "        6.8372341 ,  8.13492063,  7.67221284,  5.21212121,  8.48012526,\n",
              "        5.77380952,  6.47043535,  9.03183886,  9.1780303 ,  7.54011387])"
            ]
          },
          "metadata": {},
          "execution_count": 183
        }
      ],
      "source": [
        "# Float64\n",
        "df_2022[\"IEG_2022\"].unique()"
      ]
    },
    {
      "cell_type": "code",
      "execution_count": 184,
      "metadata": {
        "id": "1vD9momwtSHE"
      },
      "outputs": [],
      "source": [
        "df_2022['IEG_2022'] = df_2022['IEG_2022'].astype(pd.Float64Dtype())"
      ]
    },
    {
      "cell_type": "code",
      "execution_count": 185,
      "metadata": {
        "id": "6ZYWTT5GtSHE"
      },
      "outputs": [],
      "source": [
        "df_2022['IEG_2022'] = np.round(df_2022['IEG_2022'], decimals=3)"
      ]
    },
    {
      "cell_type": "markdown",
      "metadata": {
        "id": "t1LzXBpBtSHE"
      },
      "source": [
        "#### IPS"
      ]
    },
    {
      "cell_type": "code",
      "execution_count": 186,
      "metadata": {
        "id": "zl0Z7VBstSHE",
        "outputId": "6e77b841-33f0-47b7-84c3-002c6914ee03",
        "colab": {
          "base_uri": "https://localhost:8080/"
        }
      },
      "outputs": [
        {
          "output_type": "execute_result",
          "data": {
            "text/plain": [
              "0"
            ]
          },
          "metadata": {},
          "execution_count": 186
        }
      ],
      "source": [
        "df_2022[\"IPS_2022\"].isna().sum()"
      ]
    },
    {
      "cell_type": "code",
      "execution_count": 187,
      "metadata": {
        "id": "aFTtHEfFtSHE",
        "outputId": "aeb6ca5a-5c0e-4162-a91e-24ce3e0bc646",
        "colab": {
          "base_uri": "https://localhost:8080/"
        }
      },
      "outputs": [
        {
          "output_type": "execute_result",
          "data": {
            "text/plain": [
              "array([ 7.5  ,  5.   ,  6.875,  8.125,  6.25 ,  5.625,  9.375,  8.75 ,\n",
              "        4.375, 10.   ,  3.75 ,  2.5  ])"
            ]
          },
          "metadata": {},
          "execution_count": 187
        }
      ],
      "source": [
        "# Float64\n",
        "df_2022[\"IPS_2022\"].unique()"
      ]
    },
    {
      "cell_type": "code",
      "execution_count": 188,
      "metadata": {
        "id": "C-pp3ubMtSHF"
      },
      "outputs": [],
      "source": [
        "df_2022['IPS_2022'] = df_2022['IPS_2022'].astype(pd.Float64Dtype())"
      ]
    },
    {
      "cell_type": "code",
      "execution_count": 189,
      "metadata": {
        "id": "sn2lB0zktSHF"
      },
      "outputs": [],
      "source": [
        "df_2022['IPS_2022'] = np.round(df_2022['IPS_2022'], decimals=3)"
      ]
    },
    {
      "cell_type": "markdown",
      "metadata": {
        "id": "XaIxdbhmtSHF"
      },
      "source": [
        "#### IDA"
      ]
    },
    {
      "cell_type": "code",
      "execution_count": 190,
      "metadata": {
        "id": "LQ7PTqs_tSHF",
        "outputId": "180ccf51-3dc0-4a91-d549-7748b9bbe9ad",
        "colab": {
          "base_uri": "https://localhost:8080/"
        }
      },
      "outputs": [
        {
          "output_type": "execute_result",
          "data": {
            "text/plain": [
              "0"
            ]
          },
          "metadata": {},
          "execution_count": 190
        }
      ],
      "source": [
        "df_2022[\"IDA_2022\"].isna().sum()"
      ]
    },
    {
      "cell_type": "code",
      "execution_count": 191,
      "metadata": {
        "id": "SdrvYGH-tSHF",
        "outputId": "c226acc6-3fc3-4a7f-b819-39b506436db4",
        "colab": {
          "base_uri": "https://localhost:8080/"
        }
      },
      "outputs": [
        {
          "output_type": "execute_result",
          "data": {
            "text/plain": [
              "array([8.81666667, 5.08333333, 7.08333333, 5.5       , 5.58333333,\n",
              "       7.14444444, 2.13333333, 9.83333333, 6.33333333, 5.22222222,\n",
              "       7.46666667, 8.46666667, 5.16666667, 9.25      , 6.75      ,\n",
              "       9.1       , 9.16666667, 4.58333333, 5.77777778, 4.        ,\n",
              "       6.11111111, 5.87777778, 7.33333333, 5.66666667, 2.5       ,\n",
              "       5.        , 7.41666667, 0.        , 8.16666667, 3.05555556,\n",
              "       0.44444444, 6.88888889, 4.04444444, 2.83333333, 7.77777778,\n",
              "       5.58333333, 7.88333333, 6.5       , 8.83333333, 6.11111111,\n",
              "       8.5       , 7.16666667, 8.33333333, 7.66666667, 3.66666667,\n",
              "       4.25      , 6.65555556, 6.8       , 6.25      , 7.58333333,\n",
              "       6.56666667, 6.87777778, 3.55555556, 7.91666667, 5.41666667,\n",
              "       7.        , 7.05555556, 7.25      , 1.66666667, 6.62222222,\n",
              "       6.        , 8.41666667, 5.16666667, 8.76666667, 5.75      ,\n",
              "       9.41666667, 8.88888889, 8.        , 6.08333333, 8.08333333,\n",
              "       9.26666667, 2.41666667, 9.65      , 5.11111111, 7.88888889,\n",
              "       9.        , 7.9       , 7.64444444, 8.7       , 3.75      ,\n",
              "       6.6       , 4.11111111, 4.75      , 2.75      , 6.13333333,\n",
              "       6.91666667, 8.25      , 7.63333333, 2.88888889, 8.78333333,\n",
              "       3.41666667, 9.5       , 3.5       , 8.8       , 5.56666667,\n",
              "       4.83333333, 7.05555556, 7.68888889, 5.61111111, 4.03333333,\n",
              "       4.5       , 3.72222222, 6.76666667, 8.13333333, 2.66666667,\n",
              "       3.33333333, 7.38888889, 1.5       , 6.68888889, 6.6       ,\n",
              "       9.03333333, 5.67777778, 8.76666667, 8.28333333, 3.8       ,\n",
              "       5.25      , 4.16666667, 7.5       , 7.83333333, 8.66666667,\n",
              "       8.36666667, 5.66666667, 6.84444444, 5.57777778, 7.86666667,\n",
              "       3.96666667, 4.05555556, 8.64444444, 6.88888889, 2.        ,\n",
              "       7.96666667, 0.72222222, 7.03333333, 6.26666667, 5.94444444,\n",
              "       5.33333333, 9.51666667, 6.77777778, 6.83333333, 4.66666667,\n",
              "       3.        , 7.58333333, 1.66666667, 9.45      , 9.15      ,\n",
              "       6.61111111, 8.75      , 7.68333333, 5.9       , 7.98888889,\n",
              "       2.49444444, 6.27777778, 1.33333333, 6.83333333, 9.06666667,\n",
              "       7.75      , 7.91666667, 6.94444444, 3.83333333, 5.01111111,\n",
              "       8.55555556, 2.91111111, 6.68888889, 4.72222222, 5.18888889,\n",
              "       4.91666667, 3.22222222, 7.26666667, 2.77777778, 4.98888889,\n",
              "       5.56666667, 3.94444444, 8.51111111, 3.91666667, 9.16666667,\n",
              "       7.72222222, 5.36666667, 3.25      , 6.28888889, 5.41666667,\n",
              "       9.08333333, 5.61111111, 4.61111111, 9.51666667, 6.05555556,\n",
              "       3.30555556, 6.34444444, 5.93333333, 6.16666667, 1.16666667,\n",
              "       6.91666667, 7.75555556, 5.35555556, 3.16666667, 3.73333333,\n",
              "       7.66666667, 6.72222222, 6.15555556, 6.77777778, 2.55555556,\n",
              "       4.41111111, 8.9       , 7.74444444, 6.66666667, 4.46666667,\n",
              "       8.16666667, 4.58333333, 4.33333333, 5.05      , 4.77777778,\n",
              "       8.06666667, 5.83333333, 1.58888889, 9.18333333, 2.96666667,\n",
              "       8.14444444, 7.53333333, 6.72222222, 4.43333333, 6.58333333,\n",
              "       8.35      , 1.11111111, 7.15      , 2.25      , 2.33333333,\n",
              "       7.46666667, 3.01111111, 3.08333333, 8.91666667, 7.1       ,\n",
              "       0.88888889, 1.44444444, 1.25      , 2.91666667, 1.77777778,\n",
              "       4.08333333, 9.08333333, 8.11111111, 1.16666667, 6.44444444,\n",
              "       6.08333333, 4.93333333, 9.58333333, 8.01111111, 1.91666667,\n",
              "       4.55555556, 6.58333333, 4.13333333, 6.33333333, 7.08333333,\n",
              "       4.78888889, 6.18888889, 5.27777778, 2.58333333, 1.27777778,\n",
              "       9.58333333, 3.44444444, 7.16666667, 6.07777778, 5.91666667,\n",
              "       4.87777778, 7.38888889, 5.68888889, 8.41666667, 6.94444444,\n",
              "       7.83333333, 8.58333333, 8.66666667, 4.76666667, 6.53333333,\n",
              "       7.55555556, 8.44444444, 6.78888889, 7.27777778, 2.11111111,\n",
              "       6.58888889, 4.68888889, 5.86666667, 7.22222222, 8.43333333,\n",
              "       5.47777778, 3.83333333, 7.71666667, 7.95      , 6.71111111,\n",
              "       4.9       , 6.55555556, 5.83333333, 2.96666667, 6.48888889,\n",
              "       7.11111111, 1.47777778, 7.2       , 1.72222222, 8.48333333,\n",
              "       5.44444444, 2.06666667, 5.26666667, 0.94444444, 8.42222222,\n",
              "       7.44444444, 4.38888889, 5.8       , 9.23333333, 5.68333333,\n",
              "       8.83333333, 7.35      , 5.95555556, 1.75      , 5.91666667,\n",
              "       8.88888889, 8.08333333, 8.27777778, 6.3       , 7.26666667,\n",
              "       2.77777778, 7.44444444, 6.63333333, 5.77777778, 6.16666667,\n",
              "       7.31666667, 1.83333333, 5.52222222, 4.91666667, 1.02222222,\n",
              "       4.41666667, 3.58333333, 4.12222222, 6.74444444, 4.95555556,\n",
              "       1.        , 4.73333333, 9.91666667, 6.67777778, 9.3       ,\n",
              "       3.27777778, 2.72222222, 8.95      , 8.77777778, 7.86666667,\n",
              "       6.46666667, 3.44444444, 9.11111111, 9.05      , 7.47777778,\n",
              "       7.88888889, 6.41666667, 5.55555556, 7.18333333, 6.66666667,\n",
              "       7.91111111, 9.61666667, 5.        , 7.95555556, 7.33333333,\n",
              "       9.73333333, 8.53333333, 8.05555556, 3.27777778, 7.12222222,\n",
              "       4.66666667, 7.61111111, 6.85555556, 9.33333333, 3.73333333,\n",
              "       7.43333333, 0.66666667, 3.71111111, 4.38888889, 8.45      ,\n",
              "       4.27777778, 4.33333333, 8.28333333, 5.94444444, 5.64444444,\n",
              "       7.15555556, 2.31666667, 2.27777778, 3.77777778, 5.9       ])"
            ]
          },
          "metadata": {},
          "execution_count": 191
        }
      ],
      "source": [
        "# Float64\n",
        "df_2022[\"IDA_2022\"].unique()"
      ]
    },
    {
      "cell_type": "code",
      "execution_count": 192,
      "metadata": {
        "id": "OVb2Rnl0tSHF"
      },
      "outputs": [],
      "source": [
        "df_2022['IDA_2022'] = df_2022['IDA_2022'].astype(pd.Float64Dtype())"
      ]
    },
    {
      "cell_type": "code",
      "execution_count": 193,
      "metadata": {
        "id": "cBV_lFhCtSHF"
      },
      "outputs": [],
      "source": [
        "df_2022['IDA_2022'] = np.round(df_2022['IDA_2022'], decimals=3)"
      ]
    },
    {
      "cell_type": "markdown",
      "metadata": {
        "id": "mimjCO7RtSHG"
      },
      "source": [
        "#### IPP"
      ]
    },
    {
      "cell_type": "code",
      "execution_count": 194,
      "metadata": {
        "id": "OGguiVlXtSHG",
        "outputId": "a3ef8d2c-934a-4df5-ca60-54075549a2c6",
        "colab": {
          "base_uri": "https://localhost:8080/"
        }
      },
      "outputs": [
        {
          "output_type": "execute_result",
          "data": {
            "text/plain": [
              "0"
            ]
          },
          "metadata": {},
          "execution_count": 194
        }
      ],
      "source": [
        "df_2022[\"IPP_2022\"].isna().sum()"
      ]
    },
    {
      "cell_type": "code",
      "execution_count": 195,
      "metadata": {
        "id": "vyg4dAC4tSHG",
        "outputId": "5bd6bd60-a09e-4e1a-db92-1a90aa247fe9",
        "colab": {
          "base_uri": "https://localhost:8080/"
        }
      },
      "outputs": [
        {
          "output_type": "execute_result",
          "data": {
            "text/plain": [
              "array([5.625     , 6.25      , 6.45833333, 5.9375    , 7.65625   ,\n",
              "       3.75      , 7.08333333, 4.79166667, 7.8125    , 6.66666667,\n",
              "       7.03125   , 4.6875    , 6.5625    , 6.45833333, 3.125     ,\n",
              "       6.71875   , 5.3125    , 7.34375   , 7.5       , 7.96875   ,\n",
              "       0.        , 6.04166667, 3.28125   , 8.125     , 4.84375   ,\n",
              "       9.21875   , 5.83333333, 6.875     , 8.90625   , 5.41666667,\n",
              "       4.0625    , 5.        , 7.1875    , 8.75      , 5.15625   ,\n",
              "       4.375     , 6.40625   , 2.8125    , 3.33333333, 6.09375   ,\n",
              "       8.4375    , 4.16666667, 8.59375   , 8.28125   , 6.04166667,\n",
              "       5.46875   , 4.58333333, 4.53125   , 4.16666667, 4.79166667,\n",
              "       9.0625    , 3.4375    , 5.20833333, 5.625     , 6.45833333,\n",
              "       5.78125   , 4.58333333, 3.95833333])"
            ]
          },
          "metadata": {},
          "execution_count": 195
        }
      ],
      "source": [
        "# Float64\n",
        "df_2022[\"IPP_2022\"].unique()"
      ]
    },
    {
      "cell_type": "code",
      "execution_count": 196,
      "metadata": {
        "id": "pFm00_estSHG"
      },
      "outputs": [],
      "source": [
        "df_2022['IPP_2022'] = df_2022['IPP_2022'].astype(pd.Float64Dtype())"
      ]
    },
    {
      "cell_type": "code",
      "execution_count": 197,
      "metadata": {
        "id": "MwYE94LHtSHG"
      },
      "outputs": [],
      "source": [
        "df_2022['IPP_2022'] = np.round(df_2022['IPP_2022'], decimals=3)"
      ]
    },
    {
      "cell_type": "markdown",
      "metadata": {
        "id": "ShiwX2y6tSHG"
      },
      "source": [
        "#### IPV"
      ]
    },
    {
      "cell_type": "code",
      "execution_count": 198,
      "metadata": {
        "id": "dl5-mNrrtSHG",
        "outputId": "c8a91038-5b99-415f-d792-07d9bca84840",
        "colab": {
          "base_uri": "https://localhost:8080/"
        }
      },
      "outputs": [
        {
          "output_type": "execute_result",
          "data": {
            "text/plain": [
              "0"
            ]
          },
          "metadata": {},
          "execution_count": 198
        }
      ],
      "source": [
        "df_2022[\"IPV_2022\"].isna().sum()"
      ]
    },
    {
      "cell_type": "code",
      "execution_count": 199,
      "metadata": {
        "id": "a3-WFKGctSHG",
        "outputId": "c6d376f2-ccca-4ea3-8acb-3a6944e1b70d",
        "colab": {
          "base_uri": "https://localhost:8080/"
        }
      },
      "outputs": [
        {
          "output_type": "execute_result",
          "data": {
            "text/plain": [
              "array([ 7.916665  ,  8.05555333,  7.83333667,  7.5       ,  7.91667   ,\n",
              "        7.6250025 ,  5.50001   ,  9.50001   ,  6.72222   ,  7.2499975 ,\n",
              "        8.11111333,  8.5       ,  6.22221667,  7.166665  ,  8.333335  ,\n",
              "        8.61112   ,  8.249995  ,  7.083335  ,  7.11111   ,  5.7083325 ,\n",
              "        8.250005  ,  6.666665  ,  7.75      ,  6.41666   ,  7.7916675 ,\n",
              "        7.77778   ,  7.20833   ,  2.50001   ,  6.77777333,  6.88888333,\n",
              "        7.22222333,  4.625     ,  9.250005  ,  5.5833325 ,  6.91666   ,\n",
              "        4.50000333,  7.374995  ,  7.27777333,  7.38889   ,  3.8333325 ,\n",
              "        8.77778333,  6.5416625 ,  8.61111   ,  8.083335  ,  6.2916575 ,\n",
              "        7.4166675 ,  9.75001   ,  8.27778   ,  8.25      ,  8.83333667,\n",
              "        7.750005  ,  8.44444667,  8.833335  ,  7.1250025 ,  9.0833375 ,\n",
              "        6.88888667,  7.50000333,  7.66666   ,  5.58333   ,  7.2916625 ,\n",
              "        7.44444333,  7.416665  ,  7.83333333,  7.749995  ,  8.58333   ,\n",
              "        7.666665  ,  8.166665  ,  5.4166575 ,  7.25      ,  7.61111   ,\n",
              "        9.33334   ,  7.249995  ,  7.05555   ,  8.44444667,  6.83333   ,\n",
              "        7.88889333,  6.95833   ,  7.583335  ,  6.624995  ,  6.83332667,\n",
              "        9.        ,  6.16666   ,  8.41667   ,  7.208335  ,  8.208335  ,\n",
              "        8.22222333,  8.94445   ,  8.125     ,  9.2916725 ,  5.99999667,\n",
              "        7.7083325 ,  6.49999   ,  8.583335  ,  8.38889333,  7.16666   ,\n",
              "        7.33333   ,  6.88888333,  7.999995  ,  6.83333   ,  6.94444   ,\n",
              "        4.2916725 ,  7.33333   ,  6.000005  ,  7.41666   ,  7.41667   ,\n",
              "        6.38889333,  6.77777333,  7.7499975 ,  7.72222333,  8.4583375 ,\n",
              "        7.625     ,  7.94444333,  5.83333667,  7.55555667,  5.9583275 ,\n",
              "        8.05555667,  5.166655  ,  6.77777333,  8.88889333,  9.083335  ,\n",
              "        6.61110667,  6.16666333,  4.7083275 ,  7.27777333,  6.6666675 ,\n",
              "        6.44444   ,  5.83333   ,  8.55556   ,  5.9999925 ,  8.11110667,\n",
              "        5.583325  ,  4.83333   ,  6.94444333,  7.333335  ,  6.16666   ,\n",
              "        8.        ,  7.58333   ,  7.499995  ,  6.416655  ,  7.833335  ,\n",
              "        7.55555333,  7.27778   ,  8.38889   ,  7.8333325 ,  9.5       ,\n",
              "        6.8333275 ,  5.88888333,  7.72222   ,  9.11111667,  9.66667333,\n",
              "        7.708335  ,  7.38888667,  7.05555333, 10.00001   ,  4.6250025 ,\n",
              "        8.66667   ,  7.66666667,  7.49999667,  4.500005  ,  8.33333667,\n",
              "        9.41667   ,  7.0833275 ,  5.99999333,  6.75      ,  6.70833   ,\n",
              "        7.33333333,  7.05555333,  5.05555667,  8.22222667,  6.94443667,\n",
              "        5.83333667,  6.333325  ,  8.416665  ,  8.27778333,  8.16667   ,\n",
              "        7.833325  ,  6.16667   ,  6.77777667,  6.999995  ,  7.3749975 ,\n",
              "        6.916665  ,  6.4166575 ,  6.33333   ,  7.9166675 ,  5.95833   ,\n",
              "        8.0416675 ,  5.77778   ,  5.27777667,  5.8749925 ,  6.499995  ,\n",
              "        8.5833375 ,  6.11110667,  7.04166   ,  7.38888667,  7.91666   ,\n",
              "        4.79166   ,  9.16667   ,  5.7499925 ,  6.33333   ,  6.83332667,\n",
              "        9.58334   ,  7.11111333,  6.583325  ,  6.7083275 ,  6.6249925 ,\n",
              "        4.37499   ,  7.33333667,  6.6666625 ,  8.08334   ,  3.750005  ,\n",
              "        8.44444333,  7.16666333,  7.22222   ,  6.04166   ,  7.66667   ,\n",
              "        7.61111333,  8.50000333,  8.66667333,  7.77778333,  8.83334   ,\n",
              "        7.4583325 ,  8.750005  ,  7.875     ,  6.08333   ,  6.94445   ,\n",
              "        3.75      ,  7.61111667,  5.499995  ,  9.125005  ,  8.70834   ,\n",
              "        3.7500075 ,  5.24999   ,  5.94444   ,  4.8749975 ,  7.05555667,\n",
              "        7.7916625 ,  6.4583375 ,  6.3749925 ,  6.1250025 ,  8.29167   ,\n",
              "        7.33333   ,  8.94444667,  8.2916675 ,  7.66667   ,  5.708325  ,\n",
              "        7.55556   ,  6.72222333,  6.833325  ,  6.99999   ,  6.11110333,\n",
              "        6.27777333,  7.77778   ,  5.833325  ,  5.6249925 ,  6.58333   ,\n",
              "        7.        ,  7.16666667,  7.88889   ,  9.50000333,  7.166655  ,\n",
              "        8.16667   ,  8.00000333,  5.958335  ,  4.2916625 ,  6.2916725 ,\n",
              "        8.55556333,  7.16666   ,  5.44443667,  6.500005  ,  7.291665  ,\n",
              "        5.        ,  7.77777667,  9.05556   ,  3.875     ,  3.916675  ,\n",
              "        8.916665  ,  7.27777667,  6.72221667,  8.6250025 ,  5.44444   ,\n",
              "        7.88889   ,  7.083325  ,  5.916665  ,  6.49999667,  9.416675  ,\n",
              "        8.458335  ,  6.05555333,  6.1249925 ,  6.249995  ,  6.208325  ,\n",
              "        6.9583275 ,  8.38888667,  7.22222333,  6.2083225 ,  7.6666675 ,\n",
              "        5.8333275 ,  7.        ,  8.625     ,  5.77777333,  5.54166   ,\n",
              "        8.27778   ,  4.416665  ,  7.83333333,  7.94444667,  5.79166   ,\n",
              "        8.3750075 ,  8.5000025 ,  7.77778   ,  9.2083375 ,  4.9583375 ,\n",
              "        6.4166675 ,  6.291665  ,  6.27777333,  5.99999333,  5.41666   ,\n",
              "        6.875     ,  9.250005  ,  9.1666725 ,  8.05556   ,  8.291665  ,\n",
              "        5.9583375 ,  7.08333   ,  5.9583325 ,  6.4583275 ,  6.61111   ,\n",
              "        9.61112   ,  7.05555667,  6.83333   ,  6.874995  ,  6.45833   ,\n",
              "        8.0000025 ,  7.8750025 ,  5.88888667,  4.916665  ,  5.91666   ,\n",
              "        8.125005  ,  5.99999667,  6.8749975 ,  7.333325  ,  8.16666667,\n",
              "        6.333335  ,  5.3749875 ,  7.1666625 ,  6.77777333,  5.5416575 ,\n",
              "        8.27777667,  7.3333325 ,  7.66666333,  6.27777667,  9.55556667,\n",
              "        5.12499   ,  5.2083225 ,  6.16667   ,  6.49999667,  7.4999975 ,\n",
              "        5.55556   ,  7.66667   ,  7.54166   ,  8.22222667,  6.38888667,\n",
              "        9.666675  ,  6.38888667,  6.0416575 ,  7.041665  ,  6.124995  ,\n",
              "        6.7499975 ,  4.6249975 ,  7.2083325 ,  8.11111333,  7.8749975 ,\n",
              "        3.74999   ,  5.75      ,  7.2916675 ,  8.72222667,  7.958335  ,\n",
              "        8.33333   ,  8.91667   ,  5.7083275 ,  7.791665  ,  8.08333   ,\n",
              "        5.88888   ,  6.77777667,  7.0416625 ,  7.5833325 ,  6.88888667,\n",
              "        6.54166   ,  8.33333333,  5.11111667,  7.83333   ,  5.16667   ,\n",
              "        6.66666333,  6.94444667,  5.333325  ,  5.88888667,  6.49999333,\n",
              "        8.05555667,  8.05556333,  8.000005  ,  4.5416625 ,  6.55555   ,\n",
              "        7.500005  ,  8.72222667,  5.1666625 ,  8.5000075 ,  9.25      ,\n",
              "        9.20834   ,  5.999995  ,  9.4166775 ,  8.2083375 ,  8.2500025 ,\n",
              "        8.1250025 ,  4.91667   ,  5.49999   ,  6.166665  ,  7.2083375 ,\n",
              "        9.5000075 ,  5.22221333,  9.83334333,  6.166655  ,  8.2916725 ,\n",
              "        8.27777667,  8.6666725 ,  7.24999   ,  7.77777667,  8.500005  ,\n",
              "        5.62499   ,  7.16666333,  6.11111   ,  4.4166625 ,  7.94444333,\n",
              "        4.49999   ,  3.79167   ,  6.0416625 ,  7.541665  ,  6.83333333,\n",
              "        6.583335  ,  8.22222333,  6.55555333,  7.08332   ,  4.999995  ,\n",
              "        3.94444333,  3.33334   ,  5.1249975 ,  6.61110333,  5.05555   ,\n",
              "        6.77777   ,  6.83333333,  5.5833225 ,  9.00000667,  5.083325  ,\n",
              "        5.9166625 ,  9.08334   ])"
            ]
          },
          "metadata": {},
          "execution_count": 199
        }
      ],
      "source": [
        "# Float64\n",
        "df_2022[\"IPV_2022\"].unique()"
      ]
    },
    {
      "cell_type": "code",
      "execution_count": 200,
      "metadata": {
        "id": "0JyrWBv8tSHG"
      },
      "outputs": [],
      "source": [
        "df_2022['IPV_2022'] = df_2022['IPV_2022'].astype(pd.Float64Dtype())"
      ]
    },
    {
      "cell_type": "code",
      "execution_count": 201,
      "metadata": {
        "id": "aScmqpeetSHG"
      },
      "outputs": [],
      "source": [
        "df_2022['IPV_2022'] = np.round(df_2022['IPV_2022'], decimals=3)"
      ]
    },
    {
      "cell_type": "markdown",
      "metadata": {
        "id": "uLyeumyDtSHG"
      },
      "source": [
        "#### IAN"
      ]
    },
    {
      "cell_type": "code",
      "execution_count": 202,
      "metadata": {
        "id": "V7n5_fZItSHG",
        "outputId": "09783c9a-c528-4087-c242-ac04ed53ac4d",
        "colab": {
          "base_uri": "https://localhost:8080/"
        }
      },
      "outputs": [
        {
          "output_type": "execute_result",
          "data": {
            "text/plain": [
              "0"
            ]
          },
          "metadata": {},
          "execution_count": 202
        }
      ],
      "source": [
        "df_2022[\"IAN_2022\"].isna().sum()"
      ]
    },
    {
      "cell_type": "code",
      "execution_count": 203,
      "metadata": {
        "id": "IShKyDHRtSHG",
        "outputId": "a6983590-ee1d-4a54-904b-0aed79b9d749",
        "colab": {
          "base_uri": "https://localhost:8080/"
        }
      },
      "outputs": [
        {
          "output_type": "execute_result",
          "data": {
            "text/plain": [
              "array([ 5. , 10. ,  2.5])"
            ]
          },
          "metadata": {},
          "execution_count": 203
        }
      ],
      "source": [
        "# Float64\n",
        "df_2022[\"IAN_2022\"].unique()"
      ]
    },
    {
      "cell_type": "code",
      "execution_count": 204,
      "metadata": {
        "id": "eOBA_73DtSHG"
      },
      "outputs": [],
      "source": [
        "df_2022['IAN_2022'] = df_2022['IAN_2022'].astype(pd.Float64Dtype())"
      ]
    },
    {
      "cell_type": "code",
      "execution_count": 205,
      "metadata": {
        "id": "iDHtf8VMtSHG"
      },
      "outputs": [],
      "source": [
        "df_2022['IAN_2022'] = np.round(df_2022['IAN_2022'], decimals=2)"
      ]
    },
    {
      "cell_type": "markdown",
      "metadata": {
        "id": "f3cFi3UZtSHG"
      },
      "source": [
        "#### Nota Português"
      ]
    },
    {
      "cell_type": "code",
      "execution_count": 206,
      "metadata": {
        "id": "Kn2MXm6ttSHH",
        "outputId": "13c470b0-7c48-4eae-8955-404d2417210f",
        "colab": {
          "base_uri": "https://localhost:8080/"
        }
      },
      "outputs": [
        {
          "output_type": "execute_result",
          "data": {
            "text/plain": [
              "2"
            ]
          },
          "metadata": {},
          "execution_count": 206
        }
      ],
      "source": [
        "df_2022[\"NOTA_PORT_2022\"].isna().sum()"
      ]
    },
    {
      "cell_type": "code",
      "execution_count": 207,
      "metadata": {
        "id": "dxsDxEQftSHH"
      },
      "outputs": [],
      "source": [
        "df_2022[\"NOTA_PORT_2022\"] = df_2022[\"NOTA_PORT_2022\"].replace(np.nan,'0.0')"
      ]
    },
    {
      "cell_type": "code",
      "execution_count": 208,
      "metadata": {
        "id": "b7f_zE1vtSHH",
        "outputId": "c6679964-2f66-4ba3-d1ff-6909ec16930d",
        "colab": {
          "base_uri": "https://localhost:8080/"
        }
      },
      "outputs": [
        {
          "output_type": "execute_result",
          "data": {
            "text/plain": [
              "array([8.200000000000001, 5.0, 6.666666666666667, 3.0, 4.666666666666667,\n",
              "       6.5, 2.466666666666667, 10.0, 5.5, 4.333333333333333,\n",
              "       6.766666666666667, 8.766666666666667, 9.533333333333331, 9.5,\n",
              "       6.333333333333333, 9.133333333333333, 9.166666666666666,\n",
              "       2.333333333333333, 5.333333333333333, 9.6, 7.6, 8.0, 7.0,\n",
              "       2.166666666666667, 4.0, 3.666666666666667, 7.333333333333333, 0.0,\n",
              "       7.833333333333333, 0.5, 2.666666666666667, 2.0, 6.0,\n",
              "       5.666666666666667, 8.166666666666666, 3.333333333333333,\n",
              "       7.666666666666667, 8.666666666666666, 9.0, 6.833333333333333,\n",
              "       5.133333333333334, 5.833333333333333, 1.166666666666667,\n",
              "       8.833333333333334, 5.3, 9.466666666666669, 7.5, 8.966666666666667,\n",
              "       9.7, 9.333333333333334, 4.833333333333333, 2.5, 3.1,\n",
              "       7.166666666666667, 4.166666666666667, 9.033333333333331,\n",
              "       7.133333333333333, 7.100000000000001, 2.833333333333333, 1.0,\n",
              "       1.666666666666667, 1.5, 9.2, 3.166666666666667, 4.5, 8.5,\n",
              "       9.666666666666666, 8.333333333333334, 0.3333333333333333, 7.2,\n",
              "       6.600000000000001, 9.633333333333333, 9.8, 8.433333333333334,\n",
              "       6.166666666666667, 0.6666666666666666, 9.366666666666667,\n",
              "       7.766666666666667, 1.333333333333333, 2.866666666666667,\n",
              "       5.766666666666667, 9.766666666666667, 5.7, 9.433333333333334,\n",
              "       5.166666666666667, 2.766666666666667, 8.933333333333334,\n",
              "       3.833333333333333, 4.266666666666667, 8.1, 9.3, 0.1666666666666666,\n",
              "       '0.0', 9.833333333333334, 9.066666666666666, 7.733333333333333,\n",
              "       1.833333333333333, 7.8, 9.566666666666666, 9.1, 3.5,\n",
              "       9.266666666666667, 5.600000000000001, 5.466666666666666,\n",
              "       5.433333333333334, 7.066666666666666, 8.566666666666666,\n",
              "       9.866666666666667, 8.866666666666667, 8.266666666666667,\n",
              "       7.866666666666667], dtype=object)"
            ]
          },
          "metadata": {},
          "execution_count": 208
        }
      ],
      "source": [
        "# Float64\n",
        "df_2022[\"NOTA_PORT_2022\"].unique()"
      ]
    },
    {
      "cell_type": "code",
      "execution_count": 209,
      "metadata": {
        "id": "3PwC2lw4tSHH"
      },
      "outputs": [],
      "source": [
        "df_2022['NOTA_PORT_2022'] = df_2022['NOTA_PORT_2022'].astype(pd.Float64Dtype())"
      ]
    },
    {
      "cell_type": "code",
      "execution_count": 210,
      "metadata": {
        "id": "LcYc9DuAtSHH"
      },
      "outputs": [],
      "source": [
        "df_2022['NOTA_PORT_2022'] = np.round(df_2022['NOTA_PORT_2022'], decimals=3)"
      ]
    },
    {
      "cell_type": "markdown",
      "metadata": {
        "id": "Ptw03XlXtSHH"
      },
      "source": [
        "#### Nota Matemática"
      ]
    },
    {
      "cell_type": "code",
      "execution_count": 211,
      "metadata": {
        "id": "Ek4fCv6WtSHH",
        "outputId": "2441c6fe-a27d-4d50-f715-eed3e048a4af",
        "colab": {
          "base_uri": "https://localhost:8080/"
        }
      },
      "outputs": [
        {
          "output_type": "execute_result",
          "data": {
            "text/plain": [
              "2"
            ]
          },
          "metadata": {},
          "execution_count": 211
        }
      ],
      "source": [
        "df_2022[\"NOTA_MAT_2022\"].isna().sum()"
      ]
    },
    {
      "cell_type": "code",
      "execution_count": 212,
      "metadata": {
        "id": "lFenSED2tSHH"
      },
      "outputs": [],
      "source": [
        "df_2022[\"NOTA_MAT_2022\"] = df_2022[\"NOTA_MAT_2022\"].replace(np.nan,'0.0')"
      ]
    },
    {
      "cell_type": "code",
      "execution_count": 213,
      "metadata": {
        "id": "MocdCy8BtSHH",
        "outputId": "43872696-01ad-4ff4-bdd3-1ae0c803293a",
        "colab": {
          "base_uri": "https://localhost:8080/"
        }
      },
      "outputs": [
        {
          "output_type": "execute_result",
          "data": {
            "text/plain": [
              "array([9.433333333333334, 5.166666666666667, 7.5, 8.0, 6.5,\n",
              "       7.666666666666667, 1.8, 9.666666666666666, 7.166666666666667,\n",
              "       6.666666666666667, 4.833333333333333, 8.166666666666666,\n",
              "       6.166666666666667, 8.966666666666667, 9.0, 9.066666666666668,\n",
              "       9.166666666666666, 6.833333333333333, 4.0, 8.6, 7.333333333333333,\n",
              "       0.0, 2.833333333333333, 6.0, 6.333333333333333, 8.5,\n",
              "       4.666666666666667, 5.5, 0.8333333333333334, 3.466666666666666, 3.0,\n",
              "       4.166666666666667, 2.666666666666667, 7.833333333333333, 7.0,\n",
              "       3.133333333333333, 5.666666666666667, 9.333333333333334, 5.0,\n",
              "       2.166666666666667, 5.333333333333333, 5.7, 8.066666666666666,\n",
              "       8.833333333333334, 9.5, 2.0, 5.833333333333333, 9.566666666666666,\n",
              "       8.666666666666666, 9.6, 4.5, 8.333333333333334, 3.166666666666667,\n",
              "       8.9, 8.766666666666667, 4.766666666666667, 9.3, 6.4, 2.5,\n",
              "       4.733333333333333, 8.200000000000001, 4.933333333333334,\n",
              "       4.333333333333333, 8.233333333333333, 4.466666666666666,\n",
              "       3.966666666666667, 6.266666666666667, 3.8, 4.4, 1.833333333333333,\n",
              "       6.866666666666667, 5.933333333333334, 3.333333333333333,\n",
              "       9.133333333333333, 9.266666666666667, 6.933333333333334, 5.8, 6.3,\n",
              "       2.566666666666666, 3.533333333333333, 2.9, 3.666666666666667,\n",
              "       1.533333333333333, 8.266666666666667, 4.966666666666667,\n",
              "       9.833333333333334, 7.766666666666666, 1.1, 8.366666666666667,\n",
              "       5.733333333333333, 7.2, 0.6666666666666666, 8.933333333333332,\n",
              "       2.333333333333333, 1.666666666666667, 4.366666666666667,\n",
              "       3.033333333333333, 7.399999999999999, 6.633333333333333,\n",
              "       1.166666666666667, 1.333333333333333, 3.5, '0.0',\n",
              "       3.633333333333333, 1.633333333333333, 3.833333333333333,\n",
              "       7.633333333333333, 2.6, 6.966666666666666, 10.0, 9.1,\n",
              "       2.533333333333333, 7.066666666666667, 9.2, 5.766666666666667, 1.5,\n",
              "       7.133333333333333, 8.866666666666667, 7.566666666666666, 1.4,\n",
              "       3.366666666666667, 9.066666666666666, 8.1, 5.9, 4.266666666666667,\n",
              "       0.5, 5.3, 9.533333333333331, 7.766666666666667, 5.1, 6.6, 1.0,\n",
              "       8.799999999999999, 4.433333333333334, 8.700000000000001, 2.3],\n",
              "      dtype=object)"
            ]
          },
          "metadata": {},
          "execution_count": 213
        }
      ],
      "source": [
        "# Float64\n",
        "df_2022[\"NOTA_MAT_2022\"].unique()"
      ]
    },
    {
      "cell_type": "code",
      "execution_count": 214,
      "metadata": {
        "id": "GjyadJxDtSHH"
      },
      "outputs": [],
      "source": [
        "df_2022[\"NOTA_MAT_2022\"] = df_2022[\"NOTA_MAT_2022\"].replace('#NULO!','0.0')"
      ]
    },
    {
      "cell_type": "code",
      "execution_count": 215,
      "metadata": {
        "id": "lQGHq8a8tSHH"
      },
      "outputs": [],
      "source": [
        "df_2022['NOTA_MAT_2022'] = df_2022['NOTA_MAT_2022'].astype(pd.Float64Dtype())"
      ]
    },
    {
      "cell_type": "code",
      "execution_count": 216,
      "metadata": {
        "id": "cB-oRmoktSHH"
      },
      "outputs": [],
      "source": [
        "df_2022['NOTA_MAT_2022'] = np.round(df_2022['NOTA_MAT_2022'], decimals=3)"
      ]
    },
    {
      "cell_type": "markdown",
      "metadata": {
        "id": "QAs1bMyptSHH"
      },
      "source": [
        "#### Nota Inglês"
      ]
    },
    {
      "cell_type": "code",
      "execution_count": 217,
      "metadata": {
        "id": "JcadxKKXtSHH",
        "outputId": "deb0595d-878e-4114-9463-fc44cced94eb",
        "colab": {
          "base_uri": "https://localhost:8080/"
        }
      },
      "outputs": [
        {
          "output_type": "execute_result",
          "data": {
            "text/plain": [
              "577"
            ]
          },
          "metadata": {},
          "execution_count": 217
        }
      ],
      "source": [
        "df_2022[\"NOTA_ING_2022\"].isna().sum()"
      ]
    },
    {
      "cell_type": "code",
      "execution_count": 218,
      "metadata": {
        "id": "LladX58DtSHH"
      },
      "outputs": [],
      "source": [
        "df_2022[\"NOTA_ING_2022\"] = df_2022[\"NOTA_ING_2022\"].replace(np.nan,'0.0')"
      ]
    },
    {
      "cell_type": "code",
      "execution_count": 219,
      "metadata": {
        "id": "9QGFVMDitSHH",
        "outputId": "8e41785f-9b37-4135-e2f4-0ddf77b15410",
        "colab": {
          "base_uri": "https://localhost:8080/"
        }
      },
      "outputs": [
        {
          "output_type": "execute_result",
          "data": {
            "text/plain": [
              "array(['0.0', 7.266666666666667, 7.833333333333333, 4.333333333333333,\n",
              "       8.0, 5.833333333333333, 5.466666666666666, 3.166666666666667,\n",
              "       0.1666666666666666, 0.0, 7.666666666666667, 6.0, 10.0, 8.5, 7.0,\n",
              "       9.833333333333334, 3.0, 8.4, 8.533333333333333, 8.666666666666666,\n",
              "       3.5, 9.166666666666666, 8.200000000000001, 5.0, 8.833333333333334,\n",
              "       4.5, 8.1, 8.433333333333334, 8.799999999999999, 9.233333333333333,\n",
              "       2.166666666666667, 4.2, 8.333333333333334, 9.066666666666666,\n",
              "       2.666666666666667, 1.666666666666667, 8.166666666666666,\n",
              "       5.533333333333334, 9.733333333333333, 6.933333333333334,\n",
              "       6.266666666666667, 2.066666666666667, 2.5, 9.666666666666666, 7.7,\n",
              "       7.333333333333333, 6.666666666666667, 1.833333333333333, 0.25, 9.5,\n",
              "       8.733333333333333, 2.833333333333333, 5.666666666666667,\n",
              "       3.833333333333333, 8.466666666666667, 1.166666666666667,\n",
              "       5.266666666666667, 8.366666666666667, 0.3333333333333333, 7.2,\n",
              "       4.666666666666667, 2.25, 5.366666666666667, 3.4, 3.766666666666667,\n",
              "       6.833333333333333, 5.233333333333333, 8.733333333333334, 9.0,\n",
              "       6.166666666666667, 2.933333333333334, 0.5, 2.0, 6.333333333333333,\n",
              "       7.899999999999999, 0.6666666666666666, 9.333333333333334,\n",
              "       3.666666666666667, 5.4, 5.033333333333333, 1.0, 4.0,\n",
              "       5.333333333333333, 2.333333333333333, 8.933333333333334, 4.3,\n",
              "       7.166666666666667, 5.566666666666666, 5.25, 5.933333333333334,\n",
              "       7.533333333333334, 3.9, 9.3, 6.766666666666667, 6.400000000000001,\n",
              "       7.466666666666666, 8.633333333333333, 3.333333333333333,\n",
              "       3.533333333333333, 4.533333333333333, 5.8, 1.5, 4.166666666666667,\n",
              "       1.533333333333333, 5.5, 7.133333333333333, 9.933333333333334,\n",
              "       6.366666666666667, 8.133333333333333, 4.833333333333333, 6.4, 6.9,\n",
              "       5.2, 6.033333333333334, 7.099999999999999, 9.433333333333334,\n",
              "       7.399999999999999, 7.766666666666667, 9.7, 9.1, 8.700000000000001,\n",
              "       7.8, 2.3, 6.6, 6.3, 5.866666666666667], dtype=object)"
            ]
          },
          "metadata": {},
          "execution_count": 219
        }
      ],
      "source": [
        "# Float64\n",
        "df_2022[\"NOTA_ING_2022\"].unique()"
      ]
    },
    {
      "cell_type": "code",
      "execution_count": 220,
      "metadata": {
        "id": "9fNRMrUntSHI"
      },
      "outputs": [],
      "source": [
        "df_2022['NOTA_ING_2022'] = df_2022['NOTA_ING_2022'].astype(pd.Float64Dtype())"
      ]
    },
    {
      "cell_type": "code",
      "execution_count": 221,
      "metadata": {
        "id": "yXzL3d5ptSHI"
      },
      "outputs": [],
      "source": [
        "df_2022['NOTA_ING_2022'] = np.round(df_2022['NOTA_ING_2022'], decimals=3)"
      ]
    },
    {
      "cell_type": "code",
      "execution_count": 222,
      "metadata": {
        "id": "pdAWMCS9tSHI",
        "outputId": "80089e0f-50e0-4a96-ec5f-61480b03e86c",
        "colab": {
          "base_uri": "https://localhost:8080/"
        }
      },
      "outputs": [
        {
          "output_type": "execute_result",
          "data": {
            "text/plain": [
              "count       862.0\n",
              "mean     1.930838\n",
              "std      3.241842\n",
              "min           0.0\n",
              "25%           0.0\n",
              "50%           0.0\n",
              "75%           3.5\n",
              "max          10.0\n",
              "Name: NOTA_ING_2022, dtype: Float64"
            ]
          },
          "metadata": {},
          "execution_count": 222
        }
      ],
      "source": [
        "df_2022['NOTA_ING_2022'].describe()"
      ]
    },
    {
      "cell_type": "markdown",
      "metadata": {
        "id": "JF-IYLJStSHI"
      },
      "source": [
        "#### Quantidade de Avaliações"
      ]
    },
    {
      "cell_type": "code",
      "execution_count": 223,
      "metadata": {
        "id": "NCzcrn5ntSHI",
        "outputId": "d41a542a-f2b3-482f-d46b-0e352d21c6d7",
        "colab": {
          "base_uri": "https://localhost:8080/"
        }
      },
      "outputs": [
        {
          "output_type": "execute_result",
          "data": {
            "text/plain": [
              "array([2., 3., 4.])"
            ]
          },
          "metadata": {},
          "execution_count": 223
        }
      ],
      "source": [
        "# Int16\n",
        "df_2022[\"QTD_AVAL_2022\"].unique()"
      ]
    },
    {
      "cell_type": "code",
      "execution_count": 224,
      "metadata": {
        "id": "oWR0xRmmtSHI"
      },
      "outputs": [],
      "source": [
        "df_2022['QTD_AVAL_2022'] = df_2022['QTD_AVAL_2022'].astype(pd.Int16Dtype())"
      ]
    },
    {
      "cell_type": "markdown",
      "metadata": {
        "id": "AMv_2kIEtSHI"
      },
      "source": [
        "#### REC 1"
      ]
    },
    {
      "cell_type": "code",
      "execution_count": 225,
      "metadata": {
        "id": "5nwOm1mjtSHI",
        "outputId": "7115fe48-00db-4672-a00d-a10200be152f",
        "colab": {
          "base_uri": "https://localhost:8080/"
        }
      },
      "outputs": [
        {
          "output_type": "execute_result",
          "data": {
            "text/plain": [
              "array(['Mantido na Fase + Bolsa', 'Promovido de Fase',\n",
              "       'Mantido na Fase atual', 'Promovido de Fase + Bolsa',\n",
              "       'Não avaliado', 'Alocado em Fase anterior'], dtype=object)"
            ]
          },
          "metadata": {},
          "execution_count": 225
        }
      ],
      "source": [
        "# Category\n",
        "df_2022[\"REC_AVA_1_2022\"].unique()"
      ]
    },
    {
      "cell_type": "code",
      "execution_count": 226,
      "metadata": {
        "id": "-TCJJScYtSHI"
      },
      "outputs": [],
      "source": [
        "df_2022[\"REC_AVA_1_2022\"] = df_2022[\"REC_AVA_1_2022\"].astype(\"category\")"
      ]
    },
    {
      "cell_type": "markdown",
      "metadata": {
        "id": "rN_m5zSUtSHI"
      },
      "source": [
        "#### REC 2"
      ]
    },
    {
      "cell_type": "code",
      "execution_count": 227,
      "metadata": {
        "id": "f1Q6QnoRtSHI",
        "outputId": "4d0a964f-2433-4f83-ba85-bb1b408ac528",
        "colab": {
          "base_uri": "https://localhost:8080/"
        }
      },
      "outputs": [
        {
          "output_type": "execute_result",
          "data": {
            "text/plain": [
              "array(['Mantido na Fase atual', 'Promovido de Fase', 'Não avaliado',\n",
              "       'Promovido de Fase + Bolsa', 'Mantido na Fase + Bolsa'],\n",
              "      dtype=object)"
            ]
          },
          "metadata": {},
          "execution_count": 227
        }
      ],
      "source": [
        "# Category\n",
        "df_2022[\"REC_AVA_2_2022\"].unique()"
      ]
    },
    {
      "cell_type": "code",
      "execution_count": 228,
      "metadata": {
        "id": "ttFsidkWtSHI"
      },
      "outputs": [],
      "source": [
        "df_2022[\"REC_AVA_2_2022\"] = df_2022[\"REC_AVA_2_2022\"].astype(\"category\")"
      ]
    },
    {
      "cell_type": "markdown",
      "metadata": {
        "id": "S7NWiZTRtSHI"
      },
      "source": [
        "#### REC 3"
      ]
    },
    {
      "cell_type": "code",
      "execution_count": 229,
      "metadata": {
        "id": "CV2TPK1stSHI",
        "outputId": "ea5d7ffd-9c88-4dc1-d81c-2e0393f68113",
        "colab": {
          "base_uri": "https://localhost:8080/"
        }
      },
      "outputs": [
        {
          "output_type": "execute_result",
          "data": {
            "text/plain": [
              "array([nan, 'Promovido de Fase', 'Mantido na Fase atual',\n",
              "       'Promovido de Fase + Bolsa', 'Mantido na Fase + Bolsa',\n",
              "       'Alocado em Fase anterior'], dtype=object)"
            ]
          },
          "metadata": {},
          "execution_count": 229
        }
      ],
      "source": [
        "# Category\n",
        "df_2022[\"REC_AVA_3_2022\"].unique()"
      ]
    },
    {
      "cell_type": "code",
      "execution_count": 230,
      "metadata": {
        "id": "lOeqClmetSHI"
      },
      "outputs": [],
      "source": [
        "df_2022[\"REC_AVA_3_2022\"] = df_2022[\"REC_AVA_3_2022\"].astype(\"category\")"
      ]
    },
    {
      "cell_type": "markdown",
      "metadata": {
        "id": "bfsEeuZVtSHI"
      },
      "source": [
        "#### REC 4"
      ]
    },
    {
      "cell_type": "code",
      "execution_count": 231,
      "metadata": {
        "id": "occEttGvtSHI",
        "outputId": "fe57df6d-905a-48ab-d04d-493a070b25e7",
        "colab": {
          "base_uri": "https://localhost:8080/"
        }
      },
      "outputs": [
        {
          "output_type": "execute_result",
          "data": {
            "text/plain": [
              "array([nan, 'Promovido de Fase', 'Promovido de Fase + Bolsa',\n",
              "       'Mantido na Fase atual', 'Mantido na Fase + Bolsa',\n",
              "       'Alocado em Fase anterior'], dtype=object)"
            ]
          },
          "metadata": {},
          "execution_count": 231
        }
      ],
      "source": [
        "# Category\n",
        "df_2022[\"REC_AVA_4_2022\"].unique()"
      ]
    },
    {
      "cell_type": "code",
      "execution_count": 232,
      "metadata": {
        "id": "kHGIKMnFtSHJ"
      },
      "outputs": [],
      "source": [
        "df_2022[\"REC_AVA_4_2022\"] = df_2022[\"REC_AVA_4_2022\"].astype(\"category\")"
      ]
    },
    {
      "cell_type": "markdown",
      "metadata": {
        "id": "5Zo-jBvKtSHJ"
      },
      "source": [
        "#### Nivel"
      ]
    },
    {
      "cell_type": "code",
      "execution_count": 233,
      "metadata": {
        "id": "_VxIJAtgtSHJ",
        "outputId": "aa0f43a8-e3a7-448d-bbe2-6454103374c3",
        "colab": {
          "base_uri": "https://localhost:8080/"
        }
      },
      "outputs": [
        {
          "output_type": "execute_result",
          "data": {
            "text/plain": [
              "array(['Fase 2 (5º e 6º ano)', 'Fase 3 (7º e 8º ano)', 'Fase 6 (2º EM)',\n",
              "       'ALFA  (2º e 3º ano)', 'Fase 1 (4º ano)', 'Fase 4 (9º ano)',\n",
              "       'Fase 8 (Universitários)', 'Fase 5 (1º EM)', 'Fase 7 (3º EM)'],\n",
              "      dtype=object)"
            ]
          },
          "metadata": {},
          "execution_count": 233
        }
      ],
      "source": [
        "# Category\n",
        "df_2022[\"NIVEL_IDEAL_2022\"].unique()"
      ]
    },
    {
      "cell_type": "code",
      "execution_count": 234,
      "metadata": {
        "id": "qW-EqCzwtSHJ"
      },
      "outputs": [],
      "source": [
        "df_2022[\"NIVEL_IDEAL_2022\"] = df_2022[\"NIVEL_IDEAL_2022\"].astype(\"category\")"
      ]
    },
    {
      "cell_type": "markdown",
      "metadata": {
        "id": "IHVhmA7NtSHJ"
      },
      "source": [
        "#### Indicação para Bolsa"
      ]
    },
    {
      "cell_type": "code",
      "execution_count": 235,
      "metadata": {
        "id": "vtOoWW_0tSHJ",
        "outputId": "32ad692f-170e-48d7-eff9-7240c5127590",
        "colab": {
          "base_uri": "https://localhost:8080/"
        }
      },
      "outputs": [
        {
          "output_type": "execute_result",
          "data": {
            "text/plain": [
              "array(['Sim', 'Não'], dtype=object)"
            ]
          },
          "metadata": {},
          "execution_count": 235
        }
      ],
      "source": [
        "# Bool\n",
        "df_2022[\"INDICADO_BOLSA_2022\"].unique()"
      ]
    },
    {
      "cell_type": "code",
      "execution_count": 236,
      "metadata": {
        "id": "WOMoDG1ntSHJ"
      },
      "outputs": [],
      "source": [
        "df_2022[\"INDICADO_BOLSA_2022\"] = df_2022[\"INDICADO_BOLSA_2022\"].map({\"Sim\":True,\"Não\":False})"
      ]
    },
    {
      "cell_type": "markdown",
      "metadata": {
        "id": "OPkVjMXMtSHJ"
      },
      "source": [
        "#### DataFrame 2022 Final"
      ]
    },
    {
      "cell_type": "code",
      "execution_count": 237,
      "metadata": {
        "id": "-sN1iX6PtSHJ",
        "outputId": "630e0d1e-8a1f-4b9a-f186-5eb27a5e8aa5",
        "colab": {
          "base_uri": "https://localhost:8080/"
        }
      },
      "outputs": [
        {
          "output_type": "stream",
          "name": "stdout",
          "text": [
            "<class 'pandas.core.frame.DataFrame'>\n",
            "Index: 862 entries, ALUNO-2 to ALUNO-1349\n",
            "Data columns (total 30 columns):\n",
            " #   Column               Non-Null Count  Dtype   \n",
            "---  ------               --------------  -----   \n",
            " 0   ANO_INGRESSO_2022    862 non-null    Int16   \n",
            " 1   BOLSISTA_2022        862 non-null    bool    \n",
            " 2   FASE_2022            862 non-null    category\n",
            " 3   TURMA_2022           862 non-null    category\n",
            " 4   PONTO_VIRADA_2022    862 non-null    category\n",
            " 5   INDE_2022            862 non-null    Float64 \n",
            " 6   PEDRA_2022           862 non-null    category\n",
            " 7   CG_2022              862 non-null    Int16   \n",
            " 8   CF_2022              862 non-null    Int16   \n",
            " 9   CT_2022              862 non-null    Int16   \n",
            " 10  DESTAQUE_IEG_2022    862 non-null    category\n",
            " 11  DESTAQUE_IDA_2022    862 non-null    category\n",
            " 12  DESTAQUE_IPV_2022    862 non-null    category\n",
            " 13  IAA_2022             862 non-null    Float64 \n",
            " 14  IEG_2022             862 non-null    Float64 \n",
            " 15  IPS_2022             862 non-null    Float64 \n",
            " 16  IDA_2022             862 non-null    Float64 \n",
            " 17  IPP_2022             862 non-null    Float64 \n",
            " 18  IPV_2022             862 non-null    Float64 \n",
            " 19  IAN_2022             862 non-null    Float64 \n",
            " 20  NOTA_PORT_2022       862 non-null    Float64 \n",
            " 21  NOTA_MAT_2022        862 non-null    Float64 \n",
            " 22  NOTA_ING_2022        862 non-null    Float64 \n",
            " 23  QTD_AVAL_2022        862 non-null    Int16   \n",
            " 24  REC_AVA_1_2022       862 non-null    category\n",
            " 25  REC_AVA_2_2022       862 non-null    category\n",
            " 26  REC_AVA_3_2022       626 non-null    category\n",
            " 27  REC_AVA_4_2022       285 non-null    category\n",
            " 28  NIVEL_IDEAL_2022     862 non-null    category\n",
            " 29  INDICADO_BOLSA_2022  862 non-null    bool    \n",
            "dtypes: Float64(11), Int16(5), bool(2), category(12)\n",
            "memory usage: 117.5+ KB\n"
          ]
        }
      ],
      "source": [
        "df_2022.info()"
      ]
    },
    {
      "cell_type": "code",
      "execution_count": 238,
      "metadata": {
        "id": "nXYLyQwztSHJ"
      },
      "outputs": [],
      "source": [
        "df_2022.reset_index(inplace=True)"
      ]
    },
    {
      "cell_type": "code",
      "execution_count": 239,
      "metadata": {
        "id": "3_ud4mXDtSHJ"
      },
      "outputs": [],
      "source": [
        "# Salvando o DataFrame\n",
        "df_2022.to_csv('/content/drive/My Drive/passos_2022.csv', index=False)"
      ]
    },
    {
      "cell_type": "code",
      "source": [],
      "metadata": {
        "id": "WJ6vdGx326zN"
      },
      "execution_count": 239,
      "outputs": []
    }
  ],
  "metadata": {
    "kernelspec": {
      "display_name": "Python 3",
      "language": "python",
      "name": "python3"
    },
    "language_info": {
      "codemirror_mode": {
        "name": "ipython",
        "version": 3
      },
      "file_extension": ".py",
      "mimetype": "text/x-python",
      "name": "python",
      "nbconvert_exporter": "python",
      "pygments_lexer": "ipython3",
      "version": "3.10.9"
    },
    "colab": {
      "provenance": []
    }
  },
  "nbformat": 4,
  "nbformat_minor": 0
}